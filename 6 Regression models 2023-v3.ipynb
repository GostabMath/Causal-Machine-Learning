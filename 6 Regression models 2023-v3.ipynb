{
 "cells": [
  {
   "cell_type": "markdown",
   "metadata": {},
   "source": [
    "## Regularization & Regression"
   ]
  },
  {
   "cell_type": "code",
   "execution_count": 1,
   "metadata": {},
   "outputs": [],
   "source": [
    "import pandas as pd\n",
    "import numpy as np\n",
    "import matplotlib.pyplot as plt\n",
    "import seaborn as sns\n",
    "import random\n",
    "\n",
    "\n",
    "from sklearn.model_selection import train_test_split\n",
    "from sklearn.linear_model import LinearRegression\n",
    "from sklearn.metrics import mean_squared_error, mean_absolute_error, max_error\n",
    "from sklearn import preprocessing\n",
    "\n",
    "from sklearn.model_selection import GridSearchCV\n",
    "\n",
    "#%matplotlib inline"
   ]
  },
  {
   "cell_type": "code",
   "execution_count": 2,
   "metadata": {},
   "outputs": [],
   "source": [
    "WVS2021 = pd.read_excel(\"C:\\\\Users\\\\Paul Squires\\\\Documents\\\\Datasets\\\\World Values Survey\\\\WVS 2021\\\\WVS_2021_data.xlsx\")"
   ]
  },
  {
   "cell_type": "code",
   "execution_count": 3,
   "metadata": {},
   "outputs": [],
   "source": [
    "#WVS2021 = pd.read_excel(\"G:\\\\Datasets\\\\WVS 2021\\\\WVS_2021_data.xlsx\")"
   ]
  },
  {
   "cell_type": "code",
   "execution_count": 4,
   "metadata": {},
   "outputs": [
    {
     "data": {
      "text/plain": [
       "(4932, 278)"
      ]
     },
     "execution_count": 4,
     "metadata": {},
     "output_type": "execute_result"
    }
   ],
   "source": [
    "WVS2021.shape"
   ]
  },
  {
   "cell_type": "code",
   "execution_count": 5,
   "metadata": {},
   "outputs": [
    {
     "data": {
      "text/html": [
       "<div>\n",
       "<style scoped>\n",
       "    .dataframe tbody tr th:only-of-type {\n",
       "        vertical-align: middle;\n",
       "    }\n",
       "\n",
       "    .dataframe tbody tr th {\n",
       "        vertical-align: top;\n",
       "    }\n",
       "\n",
       "    .dataframe thead th {\n",
       "        text-align: right;\n",
       "    }\n",
       "</style>\n",
       "<table border=\"1\" class=\"dataframe\">\n",
       "  <thead>\n",
       "    <tr style=\"text-align: right;\">\n",
       "      <th></th>\n",
       "      <th>row_id</th>\n",
       "      <th>A_YEAR</th>\n",
       "      <th>A_STUDY</th>\n",
       "      <th>B_COUNTRY</th>\n",
       "      <th>B_COUNTRY_ALPHA</th>\n",
       "      <th>Q_MODE</th>\n",
       "      <th>N_REGION_ISO</th>\n",
       "      <th>H_SETTLEMENT</th>\n",
       "      <th>H_URBRURAL</th>\n",
       "      <th>E_RESPINT</th>\n",
       "      <th>...</th>\n",
       "      <th>Q274</th>\n",
       "      <th>Q275</th>\n",
       "      <th>Q275R</th>\n",
       "      <th>Q279</th>\n",
       "      <th>Q285</th>\n",
       "      <th>Q286</th>\n",
       "      <th>Q287</th>\n",
       "      <th>Q288</th>\n",
       "      <th>Q289</th>\n",
       "      <th>Q290</th>\n",
       "    </tr>\n",
       "  </thead>\n",
       "  <tbody>\n",
       "    <tr>\n",
       "      <th>0</th>\n",
       "      <td>1</td>\n",
       "      <td>2021</td>\n",
       "      <td>2</td>\n",
       "      <td>404</td>\n",
       "      <td>KEN</td>\n",
       "      <td>1</td>\n",
       "      <td>404030</td>\n",
       "      <td>1.0</td>\n",
       "      <td>1</td>\n",
       "      <td>1.0</td>\n",
       "      <td>...</td>\n",
       "      <td>0.0</td>\n",
       "      <td>5.0</td>\n",
       "      <td>3.0</td>\n",
       "      <td>3.0</td>\n",
       "      <td>1.0</td>\n",
       "      <td>3.0</td>\n",
       "      <td>2.0</td>\n",
       "      <td>5.0</td>\n",
       "      <td>2.0</td>\n",
       "      <td>404001.0</td>\n",
       "    </tr>\n",
       "    <tr>\n",
       "      <th>1</th>\n",
       "      <td>2</td>\n",
       "      <td>2021</td>\n",
       "      <td>2</td>\n",
       "      <td>404</td>\n",
       "      <td>KEN</td>\n",
       "      <td>1</td>\n",
       "      <td>404030</td>\n",
       "      <td>2.0</td>\n",
       "      <td>1</td>\n",
       "      <td>1.0</td>\n",
       "      <td>...</td>\n",
       "      <td>1.0</td>\n",
       "      <td>5.0</td>\n",
       "      <td>3.0</td>\n",
       "      <td>7.0</td>\n",
       "      <td>2.0</td>\n",
       "      <td>4.0</td>\n",
       "      <td>1.0</td>\n",
       "      <td>10.0</td>\n",
       "      <td>1.0</td>\n",
       "      <td>404006.0</td>\n",
       "    </tr>\n",
       "    <tr>\n",
       "      <th>2</th>\n",
       "      <td>3</td>\n",
       "      <td>2021</td>\n",
       "      <td>2</td>\n",
       "      <td>404</td>\n",
       "      <td>KEN</td>\n",
       "      <td>1</td>\n",
       "      <td>404030</td>\n",
       "      <td>4.0</td>\n",
       "      <td>1</td>\n",
       "      <td>1.0</td>\n",
       "      <td>...</td>\n",
       "      <td>0.0</td>\n",
       "      <td>3.0</td>\n",
       "      <td>2.0</td>\n",
       "      <td>1.0</td>\n",
       "      <td>2.0</td>\n",
       "      <td>2.0</td>\n",
       "      <td>5.0</td>\n",
       "      <td>5.0</td>\n",
       "      <td>2.0</td>\n",
       "      <td>404009.0</td>\n",
       "    </tr>\n",
       "    <tr>\n",
       "      <th>3</th>\n",
       "      <td>4</td>\n",
       "      <td>2021</td>\n",
       "      <td>2</td>\n",
       "      <td>404</td>\n",
       "      <td>KEN</td>\n",
       "      <td>1</td>\n",
       "      <td>404030</td>\n",
       "      <td>1.0</td>\n",
       "      <td>1</td>\n",
       "      <td>1.0</td>\n",
       "      <td>...</td>\n",
       "      <td>0.0</td>\n",
       "      <td>6.0</td>\n",
       "      <td>3.0</td>\n",
       "      <td>7.0</td>\n",
       "      <td>2.0</td>\n",
       "      <td>2.0</td>\n",
       "      <td>3.0</td>\n",
       "      <td>7.0</td>\n",
       "      <td>2.0</td>\n",
       "      <td>404004.0</td>\n",
       "    </tr>\n",
       "    <tr>\n",
       "      <th>4</th>\n",
       "      <td>5</td>\n",
       "      <td>2021</td>\n",
       "      <td>2</td>\n",
       "      <td>404</td>\n",
       "      <td>KEN</td>\n",
       "      <td>1</td>\n",
       "      <td>404013</td>\n",
       "      <td>2.0</td>\n",
       "      <td>1</td>\n",
       "      <td>1.0</td>\n",
       "      <td>...</td>\n",
       "      <td>1.0</td>\n",
       "      <td>5.0</td>\n",
       "      <td>3.0</td>\n",
       "      <td>5.0</td>\n",
       "      <td>2.0</td>\n",
       "      <td>2.0</td>\n",
       "      <td>3.0</td>\n",
       "      <td>7.0</td>\n",
       "      <td>2.0</td>\n",
       "      <td>404003.0</td>\n",
       "    </tr>\n",
       "  </tbody>\n",
       "</table>\n",
       "<p>5 rows × 278 columns</p>\n",
       "</div>"
      ],
      "text/plain": [
       "   row_id  A_YEAR  A_STUDY  B_COUNTRY B_COUNTRY_ALPHA  Q_MODE  N_REGION_ISO  \\\n",
       "0       1    2021        2        404             KEN       1        404030   \n",
       "1       2    2021        2        404             KEN       1        404030   \n",
       "2       3    2021        2        404             KEN       1        404030   \n",
       "3       4    2021        2        404             KEN       1        404030   \n",
       "4       5    2021        2        404             KEN       1        404013   \n",
       "\n",
       "   H_SETTLEMENT  H_URBRURAL  E_RESPINT  ...  Q274  Q275  Q275R  Q279  Q285  \\\n",
       "0           1.0           1        1.0  ...   0.0   5.0    3.0   3.0   1.0   \n",
       "1           2.0           1        1.0  ...   1.0   5.0    3.0   7.0   2.0   \n",
       "2           4.0           1        1.0  ...   0.0   3.0    2.0   1.0   2.0   \n",
       "3           1.0           1        1.0  ...   0.0   6.0    3.0   7.0   2.0   \n",
       "4           2.0           1        1.0  ...   1.0   5.0    3.0   5.0   2.0   \n",
       "\n",
       "   Q286  Q287  Q288  Q289      Q290  \n",
       "0   3.0   2.0   5.0   2.0  404001.0  \n",
       "1   4.0   1.0  10.0   1.0  404006.0  \n",
       "2   2.0   5.0   5.0   2.0  404009.0  \n",
       "3   2.0   3.0   7.0   2.0  404004.0  \n",
       "4   2.0   3.0   7.0   2.0  404003.0  \n",
       "\n",
       "[5 rows x 278 columns]"
      ]
     },
     "execution_count": 5,
     "metadata": {},
     "output_type": "execute_result"
    }
   ],
   "source": [
    "WVS2021.head()"
   ]
  },
  {
   "cell_type": "markdown",
   "metadata": {},
   "source": [
    "### Create another object (dataf) that holds the data and print the names of the object's variables (columns) and its shape."
   ]
  },
  {
   "cell_type": "code",
   "execution_count": 6,
   "metadata": {},
   "outputs": [
    {
     "name": "stdout",
     "output_type": "stream",
     "text": [
      "Index(['row_id', 'A_YEAR', 'A_STUDY', 'B_COUNTRY', 'B_COUNTRY_ALPHA', 'Q_MODE',\n",
      "       'N_REGION_ISO', 'H_SETTLEMENT', 'H_URBRURAL', 'E_RESPINT',\n",
      "       ...\n",
      "       'Q274', 'Q275', 'Q275R', 'Q279', 'Q285', 'Q286', 'Q287', 'Q288', 'Q289',\n",
      "       'Q290'],\n",
      "      dtype='object', length=278)\n",
      "(4932, 278)\n"
     ]
    }
   ],
   "source": [
    "dataf = WVS2021[:]\n",
    "print(dataf.columns)\n",
    "print(dataf.shape)"
   ]
  },
  {
   "cell_type": "markdown",
   "metadata": {},
   "source": [
    "### Create a dataset that includes only the variables that may be chosen for the analysis; print the variable names and shape of the dataset"
   ]
  },
  {
   "cell_type": "code",
   "execution_count": 7,
   "metadata": {},
   "outputs": [
    {
     "name": "stdout",
     "output_type": "stream",
     "text": [
      "Index(['A_YEAR', 'B_COUNTRY', 'Q1', 'Q2', 'Q3', 'Q4', 'Q5', 'Q6', 'Q7', 'Q8',\n",
      "       'Q9', 'Q10', 'Q11', 'Q12', 'Q13', 'Q14', 'Q15', 'Q16', 'Q17', 'Q18',\n",
      "       'Q19', 'Q20', 'Q21', 'Q22', 'Q23', 'Q24', 'Q25', 'Q26', 'Q27', 'Q28',\n",
      "       'Q29', 'Q30', 'Q31', 'Q32', 'Q33', 'Q34', 'Q35', 'Q36', 'Q37', 'Q38',\n",
      "       'Q39', 'Q40', 'Q41', 'Q42', 'Q43', 'Q44', 'Q45', 'Q46', 'Q47', 'Q48',\n",
      "       'Q49', 'Q50', 'Q51', 'Q52', 'Q53', 'Q54', 'Q55', 'Q56', 'Q57', 'Q58',\n",
      "       'Q59', 'Q60', 'Q61', 'Q62', 'Q63', 'Q64', 'Q65', 'Q66', 'Q67', 'Q68',\n",
      "       'Q69', 'Q70', 'Q71', 'Q72', 'Q73', 'Q74', 'Q75', 'Q76', 'Q77', 'Q78',\n",
      "       'Q79', 'Q80', 'Q81', 'Q83', 'Q88', 'Q195', 'Q196', 'Q197', 'Q198',\n",
      "       'Q199', 'Q200', 'Q201', 'Q202', 'Q203', 'Q204', 'Q205', 'Q206', 'Q207'],\n",
      "      dtype='object')\n",
      "(4932, 98)\n"
     ]
    }
   ],
   "source": [
    "dataf1 = dataf.iloc[:, np.r_[1,3,11:94,196:209]]\n",
    "print(dataf1.columns)\n",
    "print(dataf1.shape)"
   ]
  },
  {
   "cell_type": "markdown",
   "metadata": {},
   "source": [
    "### Count the total number of missing values for all columns"
   ]
  },
  {
   "cell_type": "code",
   "execution_count": 8,
   "metadata": {},
   "outputs": [
    {
     "data": {
      "text/plain": [
       "4462"
      ]
     },
     "execution_count": 8,
     "metadata": {},
     "output_type": "execute_result"
    }
   ],
   "source": [
    "dataf1.isna().sum().sum()"
   ]
  },
  {
   "cell_type": "markdown",
   "metadata": {},
   "source": [
    "### Calculate the median for each variable"
   ]
  },
  {
   "cell_type": "code",
   "execution_count": 9,
   "metadata": {},
   "outputs": [
    {
     "data": {
      "text/plain": [
       "A_YEAR       2017.0\n",
       "B_COUNTRY     840.0\n",
       "Q1              1.0\n",
       "Q2              2.0\n",
       "Q3              2.0\n",
       "dtype: float64"
      ]
     },
     "execution_count": 9,
     "metadata": {},
     "output_type": "execute_result"
    }
   ],
   "source": [
    "dataf1.median().head()"
   ]
  },
  {
   "cell_type": "markdown",
   "metadata": {},
   "source": [
    "### Replace missing values with median (also can be replaced with mean, mode, based on the analysis)"
   ]
  },
  {
   "cell_type": "code",
   "execution_count": 10,
   "metadata": {},
   "outputs": [],
   "source": [
    "dataf2 = dataf1.fillna(dataf1.median())"
   ]
  },
  {
   "cell_type": "markdown",
   "metadata": {},
   "source": [
    "### Check that there are now no missing values, print the variable names and shape of the dataset."
   ]
  },
  {
   "cell_type": "code",
   "execution_count": 11,
   "metadata": {},
   "outputs": [
    {
     "name": "stdout",
     "output_type": "stream",
     "text": [
      "0\n",
      "(4932, 98)\n",
      "['A_YEAR', 'B_COUNTRY', 'Q1', 'Q2', 'Q3', 'Q4', 'Q5', 'Q6', 'Q7', 'Q8', 'Q9', 'Q10', 'Q11', 'Q12', 'Q13', 'Q14', 'Q15', 'Q16', 'Q17', 'Q18', 'Q19', 'Q20', 'Q21', 'Q22', 'Q23', 'Q24', 'Q25', 'Q26', 'Q27', 'Q28', 'Q29', 'Q30', 'Q31', 'Q32', 'Q33', 'Q34', 'Q35', 'Q36', 'Q37', 'Q38', 'Q39', 'Q40', 'Q41', 'Q42', 'Q43', 'Q44', 'Q45', 'Q46', 'Q47', 'Q48', 'Q49', 'Q50', 'Q51', 'Q52', 'Q53', 'Q54', 'Q55', 'Q56', 'Q57', 'Q58', 'Q59', 'Q60', 'Q61', 'Q62', 'Q63', 'Q64', 'Q65', 'Q66', 'Q67', 'Q68', 'Q69', 'Q70', 'Q71', 'Q72', 'Q73', 'Q74', 'Q75', 'Q76', 'Q77', 'Q78', 'Q79', 'Q80', 'Q81', 'Q83', 'Q88', 'Q195', 'Q196', 'Q197', 'Q198', 'Q199', 'Q200', 'Q201', 'Q202', 'Q203', 'Q204', 'Q205', 'Q206', 'Q207']\n"
     ]
    }
   ],
   "source": [
    "print(dataf2.isna().sum().sum())   ## Count missing values\n",
    "print(dataf2.shape)\n",
    "print(list(dataf2.columns))"
   ]
  },
  {
   "cell_type": "markdown",
   "metadata": {},
   "source": [
    "## Combine Life_Sat and Happy into a single variable "
   ]
  },
  {
   "cell_type": "markdown",
   "metadata": {},
   "source": [
    "#### but first recode Happy so 4='High Happy' (to make both variables show a 'better' score if higher)\n",
    "#### and then rescale Happy from 4 point scale to 10 point scale."
   ]
  },
  {
   "cell_type": "markdown",
   "metadata": {},
   "source": [
    "### Rename Q46 and Q49 to Happy and Life_Sat in the existing DataFrame (rather than creating a copy) "
   ]
  },
  {
   "cell_type": "code",
   "execution_count": 12,
   "metadata": {},
   "outputs": [],
   "source": [
    "dataf2.rename(columns={'Q46':'Happy', 'Q49':'Life_Sat'}, inplace=True)"
   ]
  },
  {
   "cell_type": "markdown",
   "metadata": {},
   "source": [
    "### Return the descriptive statistics and frequency counts of the Happy rating values.  Notice that low ratings equal high happiness."
   ]
  },
  {
   "cell_type": "code",
   "execution_count": 13,
   "metadata": {},
   "outputs": [
    {
     "data": {
      "text/plain": [
       "count    4932.000000\n",
       "mean        1.815085\n",
       "std         0.671486\n",
       "min         1.000000\n",
       "25%         1.000000\n",
       "50%         2.000000\n",
       "75%         2.000000\n",
       "max         4.000000\n",
       "Name: Happy, dtype: float64"
      ]
     },
     "execution_count": 13,
     "metadata": {},
     "output_type": "execute_result"
    }
   ],
   "source": [
    "dataf2['Happy'].describe()"
   ]
  },
  {
   "cell_type": "code",
   "execution_count": 14,
   "metadata": {},
   "outputs": [
    {
     "data": {
      "text/plain": [
       "1.0    1583\n",
       "2.0    2747\n",
       "3.0     533\n",
       "4.0      69\n",
       "Name: Happy, dtype: int64"
      ]
     },
     "execution_count": 14,
     "metadata": {},
     "output_type": "execute_result"
    }
   ],
   "source": [
    "dataf2['Happy'].value_counts().sort_index()  ##frequency distribution"
   ]
  },
  {
   "cell_type": "markdown",
   "metadata": {},
   "source": [
    "### Create a dictionary, d, to recode values (We use curled brackets to define a dictionary data structure)"
   ]
  },
  {
   "cell_type": "code",
   "execution_count": 15,
   "metadata": {},
   "outputs": [],
   "source": [
    "d = {1:4, 2:3, 3:2, 4:1}  ## A dictionary format for recoding.  1 is converted to 4, 2 to 3, 3 to 2, and 4 to 1."
   ]
  },
  {
   "cell_type": "markdown",
   "metadata": {},
   "source": [
    "### Happy needs to be reverse coded to indicate that a high rating equals high happiness.  Print the descriptive statistics and frequency distribution for the rescales Happy rating."
   ]
  },
  {
   "cell_type": "code",
   "execution_count": 16,
   "metadata": {},
   "outputs": [
    {
     "name": "stdout",
     "output_type": "stream",
     "text": [
      "count    4932.000000\n",
      "mean        3.184915\n",
      "std         0.671486\n",
      "min         1.000000\n",
      "25%         3.000000\n",
      "50%         3.000000\n",
      "75%         4.000000\n",
      "max         4.000000\n",
      "Name: Happy, dtype: float64\n",
      "1      69\n",
      "2     533\n",
      "3    2747\n",
      "4    1583\n",
      "Name: Happy, dtype: int64\n"
     ]
    }
   ],
   "source": [
    "dataf2['Happy'] = dataf2['Happy'].apply(lambda x:d[x])  ## For each value in Happy, apply the dictionary recoding\n",
    "print(dataf2.Happy.describe())\n",
    "print(dataf2['Happy'].value_counts().sort_index())"
   ]
  },
  {
   "cell_type": "markdown",
   "metadata": {},
   "source": [
    "### Return the descriptive statistics and frequency distribution for the Life_Sat variable.  High ratings equal high life satisfaction but the ratings are on a 10 point scale."
   ]
  },
  {
   "cell_type": "code",
   "execution_count": 17,
   "metadata": {},
   "outputs": [
    {
     "data": {
      "text/plain": [
       "count    4932.000000\n",
       "mean        7.012571\n",
       "std         2.268314\n",
       "min         1.000000\n",
       "25%         6.000000\n",
       "50%         7.000000\n",
       "75%         9.000000\n",
       "max        10.000000\n",
       "Name: Life_Sat, dtype: float64"
      ]
     },
     "execution_count": 17,
     "metadata": {},
     "output_type": "execute_result"
    }
   ],
   "source": [
    "dataf2['Life_Sat'].describe()"
   ]
  },
  {
   "cell_type": "code",
   "execution_count": 18,
   "metadata": {},
   "outputs": [
    {
     "data": {
      "text/plain": [
       "1.0      144\n",
       "2.0       89\n",
       "3.0      176\n",
       "4.0      248\n",
       "5.0      568\n",
       "6.0      516\n",
       "7.0      802\n",
       "8.0     1053\n",
       "9.0      590\n",
       "10.0     746\n",
       "Name: Life_Sat, dtype: int64"
      ]
     },
     "execution_count": 18,
     "metadata": {},
     "output_type": "execute_result"
    }
   ],
   "source": [
    "dataf2['Life_Sat'].value_counts().sort_index()  ##frequency distribution"
   ]
  },
  {
   "cell_type": "markdown",
   "metadata": {},
   "source": [
    "### To combine Life_Sat and Happy into a composite score called Life_Happy, Happy needs to be rescaled.\n",
    "### Rescale Happy by multiplying its values by 10/4 (2.5)\n",
    "### Create Life_Happy by summing the rescaled Happy variable and Life Sat"
   ]
  },
  {
   "cell_type": "code",
   "execution_count": 19,
   "metadata": {},
   "outputs": [
    {
     "name": "stdout",
     "output_type": "stream",
     "text": [
      "count    4932.000000\n",
      "mean       14.974858\n",
      "std         3.253000\n",
      "min         3.500000\n",
      "25%        13.000000\n",
      "50%        15.500000\n",
      "75%        17.500000\n",
      "max        20.000000\n",
      "dtype: float64\n"
     ]
    },
    {
     "data": {
      "text/plain": [
       "4932"
      ]
     },
     "execution_count": 19,
     "metadata": {},
     "output_type": "execute_result"
    }
   ],
   "source": [
    "Life_Happy = (((10/4)*dataf2.Happy)+dataf2['Life_Sat'])\n",
    "print(Life_Happy.describe())\n",
    "len(Life_Happy)"
   ]
  },
  {
   "cell_type": "markdown",
   "metadata": {},
   "source": [
    "### Return a histogram to see distribution of the variable Life-Happy"
   ]
  },
  {
   "cell_type": "code",
   "execution_count": 20,
   "metadata": {},
   "outputs": [
    {
     "data": {
      "text/plain": [
       "(array([  28.,   52.,  107.,  255.,  295.,  502., 1132., 1108.,  696.,\n",
       "         757.]),\n",
       " array([ 3.5 ,  5.15,  6.8 ,  8.45, 10.1 , 11.75, 13.4 , 15.05, 16.7 ,\n",
       "        18.35, 20.  ]),\n",
       " <BarContainer object of 10 artists>)"
      ]
     },
     "execution_count": 20,
     "metadata": {},
     "output_type": "execute_result"
    },
    {
     "data": {
      "image/png": "[encoded data removed]",
      "text/plain": [
       "<Figure size 432x288 with 1 Axes>"
      ]
     },
     "metadata": {
      "needs_background": "light"
     },
     "output_type": "display_data"
    }
   ],
   "source": [
    "# plt.hist(Life_Happy, bins='auto')   # in this case the number of bins is calculated by the app\n",
    "\n",
    "plt.hist(Life_Happy, bins=10) # bins can be an integer (# of equal bins)\n",
    "                              # a sequence that defines edges\n",
    "                              # or a string that identifies a mode (like 'auto')\n"
   ]
  },
  {
   "cell_type": "markdown",
   "metadata": {},
   "source": [
    "### Add Life_Happy to the dataset - last column and print the shape of the dataset to check a new column was added."
   ]
  },
  {
   "cell_type": "code",
   "execution_count": 21,
   "metadata": {},
   "outputs": [
    {
     "name": "stdout",
     "output_type": "stream",
     "text": [
      "(4932, 99)\n"
     ]
    }
   ],
   "source": [
    "dataf3 = pd.concat([dataf2, Life_Happy.rename('Life_Happy')], axis=1)\n",
    "print(dataf3.shape)"
   ]
  },
  {
   "cell_type": "markdown",
   "metadata": {},
   "source": [
    "### Drop Life Sat and Happy from the dataset because they've been combined into a single variable, Life_Happy.  Print the shape of the dataset and the first 5 rows."
   ]
  },
  {
   "cell_type": "code",
   "execution_count": 22,
   "metadata": {},
   "outputs": [
    {
     "name": "stdout",
     "output_type": "stream",
     "text": [
      "(4932, 97)\n",
      "   A_YEAR  B_COUNTRY   Q1   Q2   Q3   Q4   Q5   Q6   Q7   Q8  ...  Q199  Q200  \\\n",
      "0    2021        404  1.0  3.0  3.0  4.0  1.0  1.0  1.0  2.0  ...   4.0   2.0   \n",
      "1    2021        404  1.0  2.0  1.0  4.0  1.0  1.0  1.0  1.0  ...   4.0   3.0   \n",
      "2    2021        404  1.0  1.0  3.0  4.0  2.0  1.0  2.0  1.0  ...   3.0   2.0   \n",
      "3    2021        404  1.0  2.0  3.0  4.0  1.0  2.0  2.0  1.0  ...   4.0   3.0   \n",
      "4    2021        404  1.0  2.0  3.0  4.0  1.0  1.0  1.0  2.0  ...   4.0   3.0   \n",
      "\n",
      "   Q201  Q202  Q203  Q204  Q205  Q206  Q207  Life_Happy  \n",
      "0   3.0   1.0   1.0   1.0   4.0   1.0   1.0        10.0  \n",
      "1   5.0   4.0   5.0   1.0   4.0   1.0   1.0        10.5  \n",
      "2   1.0   1.0   2.0   1.0   2.0   1.0   3.0        15.0  \n",
      "3   5.0   4.0   4.0   1.0   3.0   1.0   1.0        10.5  \n",
      "4   4.0   1.0   2.0   1.0   5.0   2.0   1.0        15.0  \n",
      "\n",
      "[5 rows x 97 columns]\n"
     ]
    }
   ],
   "source": [
    "dataf3.drop(columns=['Life_Sat', 'Happy'], inplace=True)\n",
    "print(dataf3.shape)\n",
    "print(dataf3.head())"
   ]
  },
  {
   "cell_type": "code",
   "execution_count": 23,
   "metadata": {},
   "outputs": [
    {
     "name": "stdout",
     "output_type": "stream",
     "text": [
      "Index(['Q1', 'Q2', 'Q3', 'Q4', 'Q5', 'Q6', 'Q7', 'Q8', 'Q9', 'Q10', 'Q11',\n",
      "       'Q12', 'Q13', 'Q14', 'Q15', 'Q16', 'Q17', 'Q18', 'Q19', 'Q20', 'Q21',\n",
      "       'Q22', 'Q23', 'Q24', 'Q25', 'Q26', 'Q27', 'Q28', 'Q29', 'Q30', 'Q31',\n",
      "       'Q32', 'Q33', 'Q34', 'Q35', 'Q36', 'Q37', 'Q38', 'Q39', 'Q40', 'Q41',\n",
      "       'Q42', 'Q43', 'Q44', 'Q45', 'Q47', 'Q48', 'Q50', 'Q51', 'Q52', 'Q53',\n",
      "       'Q54', 'Q55', 'Q56', 'Q57', 'Q58', 'Q59', 'Q60', 'Q61', 'Q62', 'Q63',\n",
      "       'Q64', 'Q65', 'Q66', 'Q67', 'Q68', 'Q69', 'Q70', 'Q71', 'Q72', 'Q73',\n",
      "       'Q74', 'Q75', 'Q76', 'Q77', 'Q78', 'Q79', 'Q80', 'Q81', 'Q83', 'Q88',\n",
      "       'Q195', 'Q196', 'Q197', 'Q198', 'Q199', 'Q200', 'Q201', 'Q202', 'Q203',\n",
      "       'Q204', 'Q205', 'Q206', 'Q207', 'Life_Happy'],\n",
      "      dtype='object')\n"
     ]
    }
   ],
   "source": [
    "print(dataf3.iloc[:,2:97].columns)"
   ]
  },
  {
   "cell_type": "code",
   "execution_count": 24,
   "metadata": {},
   "outputs": [
    {
     "data": {
      "text/plain": [
       "['A_YEAR',\n",
       " 'B_COUNTRY',\n",
       " 'Q1',\n",
       " 'Q2',\n",
       " 'Q3',\n",
       " 'Q4',\n",
       " 'Q5',\n",
       " 'Q6',\n",
       " 'Q7',\n",
       " 'Q8',\n",
       " 'Q9',\n",
       " 'Q10',\n",
       " 'Q11',\n",
       " 'Q12',\n",
       " 'Q13',\n",
       " 'Q14',\n",
       " 'Q15',\n",
       " 'Q16',\n",
       " 'Q17',\n",
       " 'Q18',\n",
       " 'Q19',\n",
       " 'Q20',\n",
       " 'Q21',\n",
       " 'Q22',\n",
       " 'Q23',\n",
       " 'Q24',\n",
       " 'Q25',\n",
       " 'Q26',\n",
       " 'Q27',\n",
       " 'Q28',\n",
       " 'Q29',\n",
       " 'Q30',\n",
       " 'Q31',\n",
       " 'Q32',\n",
       " 'Q33',\n",
       " 'Q34',\n",
       " 'Q35',\n",
       " 'Q36',\n",
       " 'Q37',\n",
       " 'Q38',\n",
       " 'Q39',\n",
       " 'Q40',\n",
       " 'Q41',\n",
       " 'Q42',\n",
       " 'Q43',\n",
       " 'Q44',\n",
       " 'Q45',\n",
       " 'Q47',\n",
       " 'Q48',\n",
       " 'Q50',\n",
       " 'Q51',\n",
       " 'Q52',\n",
       " 'Q53',\n",
       " 'Q54',\n",
       " 'Q55',\n",
       " 'Q56',\n",
       " 'Q57',\n",
       " 'Q58',\n",
       " 'Q59',\n",
       " 'Q60',\n",
       " 'Q61',\n",
       " 'Q62',\n",
       " 'Q63',\n",
       " 'Q64',\n",
       " 'Q65',\n",
       " 'Q66',\n",
       " 'Q67',\n",
       " 'Q68',\n",
       " 'Q69',\n",
       " 'Q70',\n",
       " 'Q71',\n",
       " 'Q72',\n",
       " 'Q73',\n",
       " 'Q74',\n",
       " 'Q75',\n",
       " 'Q76',\n",
       " 'Q77',\n",
       " 'Q78',\n",
       " 'Q79',\n",
       " 'Q80',\n",
       " 'Q81',\n",
       " 'Q83',\n",
       " 'Q88',\n",
       " 'Q195',\n",
       " 'Q196',\n",
       " 'Q197',\n",
       " 'Q198',\n",
       " 'Q199',\n",
       " 'Q200',\n",
       " 'Q201',\n",
       " 'Q202',\n",
       " 'Q203',\n",
       " 'Q204',\n",
       " 'Q205',\n",
       " 'Q206',\n",
       " 'Q207',\n",
       " 'Life_Happy']"
      ]
     },
     "execution_count": 24,
     "metadata": {},
     "output_type": "execute_result"
    }
   ],
   "source": [
    "# Return a list of column names\n",
    "\n",
    "dataf3.columns.values.tolist()"
   ]
  },
  {
   "cell_type": "markdown",
   "metadata": {},
   "source": [
    "## LEAST SQUARES MULTIPLE REGRESSION FULL SAMPLE"
   ]
  },
  {
   "cell_type": "markdown",
   "metadata": {},
   "source": [
    "### Conduct ordinary least squares multiple regression with the dataset of 4933 rows and 95 columns, (94 features and Life_Happy as the target variable - DV).  We'll drop Year and Country from this analysis, columns 0 and 1."
   ]
  },
  {
   "cell_type": "code",
   "execution_count": 25,
   "metadata": {},
   "outputs": [],
   "source": [
    "X = dataf3.iloc[:, np.r_[2:96]]  ## columns run from 0 to 96, so there are 97 columns; drop first two and last\n",
    "y = dataf3[\"Life_Happy\"]"
   ]
  },
  {
   "cell_type": "markdown",
   "metadata": {},
   "source": [
    "### Check X and y"
   ]
  },
  {
   "cell_type": "code",
   "execution_count": 26,
   "metadata": {
    "scrolled": true
   },
   "outputs": [
    {
     "name": "stdout",
     "output_type": "stream",
     "text": [
      "(4932, 94)\n",
      "0       10.0\n",
      "1       10.5\n",
      "2       15.0\n",
      "3       10.5\n",
      "4       15.0\n",
      "        ... \n",
      "4927    15.5\n",
      "4928    16.5\n",
      "4929    15.5\n",
      "4930    16.5\n",
      "4931    13.5\n",
      "Name: Life_Happy, Length: 4932, dtype: float64\n"
     ]
    }
   ],
   "source": [
    "print(X.shape)\n",
    "print(y)"
   ]
  },
  {
   "cell_type": "markdown",
   "metadata": {},
   "source": [
    "### Perform standard multiple regression using scikit learn.  Note:  R-square must be calcuated \"by hand\""
   ]
  },
  {
   "cell_type": "code",
   "execution_count": 27,
   "metadata": {},
   "outputs": [],
   "source": [
    "model = LinearRegression()"
   ]
  },
  {
   "cell_type": "code",
   "execution_count": 28,
   "metadata": {},
   "outputs": [
    {
     "data": {
      "text/plain": [
       "LinearRegression()"
      ]
     },
     "execution_count": 28,
     "metadata": {},
     "output_type": "execute_result"
    }
   ],
   "source": [
    "# fitting the model\n",
    "model.fit(X,y)"
   ]
  },
  {
   "cell_type": "code",
   "execution_count": 29,
   "metadata": {},
   "outputs": [],
   "source": [
    "# making predictions\n",
    "predictions = model.predict(X)"
   ]
  },
  {
   "cell_type": "code",
   "execution_count": 30,
   "metadata": {},
   "outputs": [
    {
     "name": "stdout",
     "output_type": "stream",
     "text": [
      "mean_squared_error :  6.343602837029014\n",
      "mean_absolute_error :  1.9196802824629087\n"
     ]
    }
   ],
   "source": [
    "# model evaluation\n",
    "print('mean_squared_error : ', mean_squared_error(y, predictions))\n",
    "print('mean_absolute_error : ', mean_absolute_error(y, predictions))"
   ]
  },
  {
   "cell_type": "code",
   "execution_count": 31,
   "metadata": {},
   "outputs": [
    {
     "name": "stdout",
     "output_type": "stream",
     "text": [
      "0.400407824762819\n"
     ]
    }
   ],
   "source": [
    "# compute with formulas from the theory\n",
    "\n",
    "SS_Residual = sum((y-predictions)**2)       \n",
    "SS_Total = sum((y-np.mean(y))**2)     \n",
    "\n",
    "r_squared = 1 - (float(SS_Residual))/SS_Total\n",
    "\n",
    "print(r_squared)"
   ]
  },
  {
   "cell_type": "markdown",
   "metadata": {},
   "source": [
    "### Create dataset of predicted and actual values.  First convert numpy array to dataframe, second rename the variable, and third combine the predicted and actual values into a dataframe.  Print shape and first few rows."
   ]
  },
  {
   "cell_type": "code",
   "execution_count": 32,
   "metadata": {},
   "outputs": [],
   "source": [
    "scatdf = pd.DataFrame(predictions)\n",
    "\n",
    "scatdf = scatdf.rename({0:'Pred'}, axis=1)\n"
   ]
  },
  {
   "cell_type": "markdown",
   "metadata": {},
   "source": [
    "### Using seaborn library, return scatterplot of predicted values (Pred) and actual values (Life_Happy)"
   ]
  },
  {
   "cell_type": "code",
   "execution_count": 33,
   "metadata": {},
   "outputs": [
    {
     "data": {
      "text/plain": [
       "<AxesSubplot:xlabel='Life_Happy', ylabel='Pred'>"
      ]
     },
     "execution_count": 33,
     "metadata": {},
     "output_type": "execute_result"
    },
    {
     "data": {
      "image/png": "[encoded data removed]",
      "text/plain": [
       "<Figure size 432x288 with 1 Axes>"
      ]
     },
     "metadata": {},
     "output_type": "display_data"
    }
   ],
   "source": [
    "sns.set(style='whitegrid')\n",
    "\n",
    "sns.regplot(x=y,  ## regplot returns the regression line whereas scatterplot does not\n",
    "            y= scatdf['Pred'])"
   ]
  },
  {
   "cell_type": "markdown",
   "metadata": {},
   "source": [
    "### Print the regression coefficient for each of the features.\n",
    "### model.coef contains the list of regression coefficients & X.columns contains feature names."
   ]
  },
  {
   "cell_type": "code",
   "execution_count": 34,
   "metadata": {},
   "outputs": [
    {
     "data": {
      "text/plain": [
       "{'Q1': -0.10946210979696136,\n",
       " 'Q2': -0.08991956641565707,\n",
       " 'Q3': -0.052993150763919,\n",
       " 'Q4': 0.051650928079223134,\n",
       " 'Q5': -0.011608336048483714,\n",
       " 'Q6': -0.19906457735827704,\n",
       " 'Q7': 0.11448673608041418,\n",
       " 'Q8': -0.15550322524715698,\n",
       " 'Q9': 0.05830532513502167,\n",
       " 'Q10': 0.025746543762181478,\n",
       " 'Q11': 0.015400575849401243,\n",
       " 'Q12': -0.054988252898542256,\n",
       " 'Q13': 0.028530837568132076,\n",
       " 'Q14': 0.10630472149858002,\n",
       " 'Q15': -0.0373087568248454,\n",
       " 'Q16': 0.03531259755926869,\n",
       " 'Q17': -0.21455863203427653,\n",
       " 'Q18': -0.002515993079084039,\n",
       " 'Q19': -0.014789463417577892,\n",
       " 'Q20': 0.018418058170340985,\n",
       " 'Q21': -0.021599451177756215,\n",
       " 'Q22': 0.2367262814736477,\n",
       " 'Q23': -0.45952396651958805,\n",
       " 'Q24': 0.23061470400319933,\n",
       " 'Q25': 0.049112076816449114,\n",
       " 'Q26': 0.20150921212497447,\n",
       " 'Q27': -0.07493661412185976,\n",
       " 'Q28': -0.08720411853910393,\n",
       " 'Q29': 0.047778975322468276,\n",
       " 'Q30': 0.03959357453834325,\n",
       " 'Q31': 0.09244920920406102,\n",
       " 'Q32': -0.0564641082934888,\n",
       " 'Q33': -0.038514863634359436,\n",
       " 'Q34': 0.05471712062833345,\n",
       " 'Q35': 0.08257240988920245,\n",
       " 'Q36': -0.04103690313594023,\n",
       " 'Q37': -0.054672716780559,\n",
       " 'Q38': 0.029620690510259118,\n",
       " 'Q39': -0.002976024573372975,\n",
       " 'Q40': -0.019486673973871226,\n",
       " 'Q41': 0.15315271368060507,\n",
       " 'Q42': 0.16457580093936483,\n",
       " 'Q43': 0.017635769533313424,\n",
       " 'Q44': 0.1090445211285363,\n",
       " 'Q45': -0.07870237342012062,\n",
       " 'Q47': -0.8216516417331645,\n",
       " 'Q48': 0.2822045293375652,\n",
       " 'Q50': 0.44242389121166004,\n",
       " 'Q51': 0.1795190316073096,\n",
       " 'Q52': 0.005637812574970626,\n",
       " 'Q53': -0.010179654085457707,\n",
       " 'Q54': 0.04284250815141967,\n",
       " 'Q55': 0.0908139592484414,\n",
       " 'Q56': -0.15068355414693468,\n",
       " 'Q57': 0.012461806967206224,\n",
       " 'Q58': -0.10307676323162727,\n",
       " 'Q59': -0.040955756661804385,\n",
       " 'Q60': -0.1198767015441495,\n",
       " 'Q61': 0.0354090156354571,\n",
       " 'Q62': -0.14641732487097803,\n",
       " 'Q63': 0.17952009421497808,\n",
       " 'Q64': -0.06336780050683705,\n",
       " 'Q65': -0.03131024324836781,\n",
       " 'Q66': 0.020227436870614148,\n",
       " 'Q67': 0.003944343511160398,\n",
       " 'Q68': -0.02920463541098968,\n",
       " 'Q69': -0.16119063823229463,\n",
       " 'Q70': -0.011706289053618452,\n",
       " 'Q71': -0.11726099493652951,\n",
       " 'Q72': 0.11694763580593004,\n",
       " 'Q73': 0.051004972887606956,\n",
       " 'Q74': -0.06553393876165765,\n",
       " 'Q75': -0.06370495768617179,\n",
       " 'Q76': -0.036660527674224536,\n",
       " 'Q77': 0.019707492662621045,\n",
       " 'Q78': -0.007410473604511872,\n",
       " 'Q79': -0.026605155642022094,\n",
       " 'Q80': -0.07218871383494525,\n",
       " 'Q81': 0.02671540514879287,\n",
       " 'Q83': 0.01883693810765723,\n",
       " 'Q88': 0.09717991030457114,\n",
       " 'Q195': -0.013663315824089667,\n",
       " 'Q196': 0.03007869260012694,\n",
       " 'Q197': -0.1917044230732171,\n",
       " 'Q198': 0.06257551066048278,\n",
       " 'Q199': -0.03112192913524634,\n",
       " 'Q200': 0.2622857267288267,\n",
       " 'Q201': 0.011623104954921436,\n",
       " 'Q202': -0.0793506483967899,\n",
       " 'Q203': 0.0021376377342075814,\n",
       " 'Q204': 0.010260248584853998,\n",
       " 'Q205': -0.019037103170887068,\n",
       " 'Q206': 0.06384197552474644,\n",
       " 'Q207': 0.020420982793266512}"
      ]
     },
     "execution_count": 34,
     "metadata": {},
     "output_type": "execute_result"
    }
   ],
   "source": [
    "coef_dict_linear = {}\n",
    "for coef, feature in zip(model.coef_, X.columns): \n",
    "    coef_dict_linear[feature] = coef\n",
    "coef_dict_linear"
   ]
  },
  {
   "cell_type": "code",
   "execution_count": 54,
   "metadata": {},
   "outputs": [
    {
     "data": {
      "text/plain": [
       "9.072871773921035"
      ]
     },
     "execution_count": 54,
     "metadata": {},
     "output_type": "execute_result"
    }
   ],
   "source": [
    "np.sum(abs(model.coef_))"
   ]
  },
  {
   "cell_type": "code",
   "execution_count": null,
   "metadata": {},
   "outputs": [],
   "source": []
  },
  {
   "cell_type": "markdown",
   "metadata": {},
   "source": [
    "## Basic Cross-Validation for Multiple Regression Full Sample"
   ]
  },
  {
   "cell_type": "code",
   "execution_count": 45,
   "metadata": {},
   "outputs": [],
   "source": [
    "## Import library to split data into training and testing samples\n",
    "\n",
    "from sklearn.model_selection import train_test_split"
   ]
  },
  {
   "cell_type": "code",
   "execution_count": 46,
   "metadata": {},
   "outputs": [],
   "source": [
    "X_train, X_test, y_train, y_test = train_test_split(X, y, test_size=0.33, random_state=42)"
   ]
  },
  {
   "cell_type": "code",
   "execution_count": 47,
   "metadata": {},
   "outputs": [],
   "source": [
    "model = LinearRegression()"
   ]
  },
  {
   "cell_type": "code",
   "execution_count": 48,
   "metadata": {},
   "outputs": [
    {
     "data": {
      "text/plain": [
       "LinearRegression()"
      ]
     },
     "execution_count": 48,
     "metadata": {},
     "output_type": "execute_result"
    }
   ],
   "source": [
    "# fitting the model\n",
    "model.fit(X_train,y_train)"
   ]
  },
  {
   "cell_type": "code",
   "execution_count": 49,
   "metadata": {},
   "outputs": [],
   "source": [
    "# making predictions\n",
    "predictions = model.predict(X_test)"
   ]
  },
  {
   "cell_type": "code",
   "execution_count": 50,
   "metadata": {},
   "outputs": [
    {
     "name": "stdout",
     "output_type": "stream",
     "text": [
      "mean_squared_error :  6.721932486394773\n",
      "mean_absolute_error :  1.9387873880970714\n"
     ]
    }
   ],
   "source": [
    "### Print the regression coefficient for each of the features.\n",
    "### model.coef contains the list of regression coefficients & X.columns contains feature names.\n",
    "\n",
    "\n",
    "print('mean_squared_error : ', mean_squared_error(y_test, predictions))\n",
    "print('mean_absolute_error : ', mean_absolute_error(y_test, predictions))"
   ]
  },
  {
   "cell_type": "markdown",
   "metadata": {},
   "source": [
    "### Compute R-square using the formula."
   ]
  },
  {
   "cell_type": "code",
   "execution_count": 51,
   "metadata": {},
   "outputs": [
    {
     "name": "stdout",
     "output_type": "stream",
     "text": [
      "0.33293353441685936\n"
     ]
    }
   ],
   "source": [
    "\n",
    "SS_Residual = sum((y_test-predictions)**2)       \n",
    "SS_Total = sum((y_test-np.mean(y_test))**2)     \n",
    "\n",
    "r_squared = 1 - (float(SS_Residual))/SS_Total\n",
    "\n",
    "print(r_squared)"
   ]
  },
  {
   "cell_type": "markdown",
   "metadata": {},
   "source": [
    "### Print the regression coefficient for each of the features.\n",
    "### model.coef contains the list of regression coefficients & X.columns contains feature names."
   ]
  },
  {
   "cell_type": "code",
   "execution_count": 52,
   "metadata": {},
   "outputs": [
    {
     "data": {
      "text/plain": [
       "{'Q1': -0.006184737364456179,\n",
       " 'Q2': -0.08340684337951693,\n",
       " 'Q3': -0.07285542652284663,\n",
       " 'Q4': 0.11400012440819961,\n",
       " 'Q5': 0.03839298877342293,\n",
       " 'Q6': -0.22244204293127984,\n",
       " 'Q7': 0.1448140185488111,\n",
       " 'Q8': -0.17212321130605546,\n",
       " 'Q9': 0.02721342398417692,\n",
       " 'Q10': 0.044322398453417344,\n",
       " 'Q11': 0.06458323633916256,\n",
       " 'Q12': -0.017699672053471702,\n",
       " 'Q13': -0.005101781990886687,\n",
       " 'Q14': 0.10875650532237427,\n",
       " 'Q15': -0.10079440346607302,\n",
       " 'Q16': 0.02364511476962632,\n",
       " 'Q17': -0.24526060562832583,\n",
       " 'Q18': 0.058389035081799365,\n",
       " 'Q19': 0.12325888679409103,\n",
       " 'Q20': 0.022786841112755883,\n",
       " 'Q21': 0.04907528713695404,\n",
       " 'Q22': 0.3752628744443089,\n",
       " 'Q23': -0.2506650909066135,\n",
       " 'Q24': 0.29030038615544757,\n",
       " 'Q25': -0.14928064326034798,\n",
       " 'Q26': 0.069839926677281,\n",
       " 'Q27': -0.1507804829626032,\n",
       " 'Q28': -0.06822136246296108,\n",
       " 'Q29': 0.04487293857760137,\n",
       " 'Q30': -0.0024316530567140143,\n",
       " 'Q31': 0.11703219245160441,\n",
       " 'Q32': 0.02866855315701977,\n",
       " 'Q33': -0.039261417789671654,\n",
       " 'Q34': 0.08916319474692302,\n",
       " 'Q35': 0.12015904555076143,\n",
       " 'Q36': -0.03927168724406738,\n",
       " 'Q37': -0.11314203339031273,\n",
       " 'Q38': 0.024852658258677343,\n",
       " 'Q39': -0.01619264491705033,\n",
       " 'Q40': -0.02358233580494925,\n",
       " 'Q41': 0.17998380697897082,\n",
       " 'Q42': 0.08927067061065605,\n",
       " 'Q43': 0.03262454675181653,\n",
       " 'Q44': 0.08822849943826185,\n",
       " 'Q45': -0.06301956260094464,\n",
       " 'Q47': -0.8269340809046359,\n",
       " 'Q48': 0.2956292875934208,\n",
       " 'Q50': 0.4635493986085873,\n",
       " 'Q51': 0.13981532151310755,\n",
       " 'Q52': 0.007520652119428768,\n",
       " 'Q53': 0.04119904704674003,\n",
       " 'Q54': 0.0460973003560811,\n",
       " 'Q55': 0.1633642280294243,\n",
       " 'Q56': -0.10955543525185828,\n",
       " 'Q57': 0.11541741363071475,\n",
       " 'Q58': -0.02194055787940615,\n",
       " 'Q59': -0.12870199616144498,\n",
       " 'Q60': -0.11261477777783259,\n",
       " 'Q61': 0.030262675447725665,\n",
       " 'Q62': -0.15926008912063397,\n",
       " 'Q63': 0.13272794921019382,\n",
       " 'Q64': -0.06179700353913262,\n",
       " 'Q65': -3.673555907335313e-05,\n",
       " 'Q66': -0.044205158514355095,\n",
       " 'Q67': 0.0006285244410091165,\n",
       " 'Q68': -0.019733720949300336,\n",
       " 'Q69': -0.1735922247015155,\n",
       " 'Q70': 0.015064030634550772,\n",
       " 'Q71': -0.14089257544075373,\n",
       " 'Q72': 0.16889075820838184,\n",
       " 'Q73': 0.02970213455683861,\n",
       " 'Q74': 0.022060491651664925,\n",
       " 'Q75': -0.14353946186846697,\n",
       " 'Q76': -0.06065344129632439,\n",
       " 'Q77': -0.009846972303628788,\n",
       " 'Q78': 0.021635206204454298,\n",
       " 'Q79': -0.09052483042843561,\n",
       " 'Q80': 0.030829976767145946,\n",
       " 'Q81': 0.08115977275049407,\n",
       " 'Q83': -0.029940409415508927,\n",
       " 'Q88': 0.16346232868962504,\n",
       " 'Q195': -0.011834737231104175,\n",
       " 'Q196': -0.009681034766297739,\n",
       " 'Q197': -0.11562759662551472,\n",
       " 'Q198': 0.030964915915900126,\n",
       " 'Q199': -0.08138829937001005,\n",
       " 'Q200': 0.2604271516962533,\n",
       " 'Q201': 0.019889601550307792,\n",
       " 'Q202': -0.09401812343054153,\n",
       " 'Q203': -0.01427841552266755,\n",
       " 'Q204': 0.012765756561050716,\n",
       " 'Q205': -0.02714737678270522,\n",
       " 'Q206': 0.0334112027903821,\n",
       " 'Q207': 0.047436799543133214}"
      ]
     },
     "execution_count": 52,
     "metadata": {},
     "output_type": "execute_result"
    }
   ],
   "source": [
    "coef_dict_linear = {}\n",
    "for coef, feature in zip(model.coef_, X.columns): \n",
    "    coef_dict_linear[feature] = coef\n",
    "coef_dict_linear"
   ]
  },
  {
   "cell_type": "code",
   "execution_count": 53,
   "metadata": {},
   "outputs": [
    {
     "data": {
      "text/plain": [
       "9.072871773921035"
      ]
     },
     "execution_count": 53,
     "metadata": {},
     "output_type": "execute_result"
    }
   ],
   "source": [
    "np.sum(abs(model.coef_))"
   ]
  },
  {
   "cell_type": "code",
   "execution_count": null,
   "metadata": {},
   "outputs": [],
   "source": []
  },
  {
   "cell_type": "markdown",
   "metadata": {},
   "source": [
    "## LEAST SQUARES REGRESSION SMALL SAMPLE"
   ]
  },
  {
   "cell_type": "markdown",
   "metadata": {},
   "source": [
    "## Select a random sample of rows (n=1000) for the regularized regression examples."
   ]
  },
  {
   "cell_type": "code",
   "execution_count": 91,
   "metadata": {},
   "outputs": [
    {
     "name": "stdout",
     "output_type": "stream",
     "text": [
      "(1000, 97)\n"
     ]
    }
   ],
   "source": [
    "s1000 = dataf3.sample(n = 1000)\n",
    "print(s1000.shape)"
   ]
  },
  {
   "cell_type": "code",
   "execution_count": 92,
   "metadata": {},
   "outputs": [],
   "source": [
    "X = s1000.iloc[:, np.r_[2:96]]\n",
    "y = s1000[\"Life_Happy\"]"
   ]
  },
  {
   "cell_type": "markdown",
   "metadata": {},
   "source": [
    "### Check X and y"
   ]
  },
  {
   "cell_type": "code",
   "execution_count": 93,
   "metadata": {},
   "outputs": [
    {
     "name": "stdout",
     "output_type": "stream",
     "text": [
      "(1000, 94)\n",
      "<class 'pandas.core.series.Series'>\n",
      "1714    18.0\n",
      "4528    20.0\n",
      "826     11.0\n",
      "3565    18.0\n",
      "4919     8.0\n",
      "        ... \n",
      "1521    20.0\n",
      "2048    17.0\n",
      "2679    13.5\n",
      "3545    16.5\n",
      "1654    15.5\n",
      "Name: Life_Happy, Length: 1000, dtype: float64\n"
     ]
    }
   ],
   "source": [
    "print(X.shape)\n",
    "print(type(y))\n",
    "print(y)"
   ]
  },
  {
   "cell_type": "markdown",
   "metadata": {},
   "source": [
    "### Perform standard multiple regression using scikit learn.  Note:  R-square must be calcuated \"by hand\""
   ]
  },
  {
   "cell_type": "code",
   "execution_count": 94,
   "metadata": {},
   "outputs": [],
   "source": [
    "model = LinearRegression(normalize=True)"
   ]
  },
  {
   "cell_type": "code",
   "execution_count": 95,
   "metadata": {},
   "outputs": [
    {
     "data": {
      "text/plain": [
       "LinearRegression(normalize=True)"
      ]
     },
     "execution_count": 95,
     "metadata": {},
     "output_type": "execute_result"
    }
   ],
   "source": [
    "# fitting the model\n",
    "model.fit(X,y)"
   ]
  },
  {
   "cell_type": "code",
   "execution_count": 96,
   "metadata": {},
   "outputs": [],
   "source": [
    "# making predictions\n",
    "predictions = model.predict(X)"
   ]
  },
  {
   "cell_type": "code",
   "execution_count": 97,
   "metadata": {},
   "outputs": [
    {
     "name": "stdout",
     "output_type": "stream",
     "text": [
      "mean_squared_error :  6.012610406862995\n",
      "mean_absolute_error :  1.8899798705430153\n"
     ]
    }
   ],
   "source": [
    "# model evaluation\n",
    "print('mean_squared_error : ', mean_squared_error(y, predictions))\n",
    "print('mean_absolute_error : ', mean_absolute_error(y, predictions))"
   ]
  },
  {
   "cell_type": "markdown",
   "metadata": {},
   "source": [
    "### Compute R-square using the formula and print.  Notice the larger R-square value compared to the full dataset.  This represents overfitting."
   ]
  },
  {
   "cell_type": "code",
   "execution_count": 98,
   "metadata": {},
   "outputs": [
    {
     "name": "stdout",
     "output_type": "stream",
     "text": [
      "0.45637372746429217\n"
     ]
    }
   ],
   "source": [
    "SS_Residual = sum((y-predictions)**2)       \n",
    "SS_Total = sum((y-np.mean(y))**2)     \n",
    "\n",
    "r_squared = 1 - (float(SS_Residual))/SS_Total\n",
    "\n",
    "print(r_squared)"
   ]
  },
  {
   "cell_type": "markdown",
   "metadata": {},
   "source": [
    "### Convert predictions, a numpy array, to a dataframe, scatdf, then rename the variable in the dataframe from 0 to Pred."
   ]
  },
  {
   "cell_type": "code",
   "execution_count": 99,
   "metadata": {},
   "outputs": [],
   "source": [
    "scatdf = pd.DataFrame(predictions)\n",
    "\n",
    "scatdf = scatdf.rename({0:'Pred'}, axis=1)"
   ]
  },
  {
   "cell_type": "markdown",
   "metadata": {},
   "source": [
    "### Using seaborn library, return scatterplot of predicted values (Pred) and actual values (Life_Happy)"
   ]
  },
  {
   "cell_type": "code",
   "execution_count": 100,
   "metadata": {},
   "outputs": [
    {
     "data": {
      "text/plain": [
       "<AxesSubplot:xlabel='Life_Happy', ylabel='Pred'>"
      ]
     },
     "execution_count": 100,
     "metadata": {},
     "output_type": "execute_result"
    },
    {
     "data": {
      "image/png": "[encoded data removed]",
      "text/plain": [
       "<Figure size 432x288 with 1 Axes>"
      ]
     },
     "metadata": {},
     "output_type": "display_data"
    }
   ],
   "source": [
    "sns.set(style='whitegrid')\n",
    "\n",
    "sns.regplot(x = y,  ## regplot returns the regression line whereas scatterplot does not\n",
    "            y = scatdf['Pred'])"
   ]
  },
  {
   "cell_type": "markdown",
   "metadata": {},
   "source": [
    "### Print the regression coefficient for each of the features.\n",
    "### model.coef contains the list of regression coefficients & X.columns contains feature names."
   ]
  },
  {
   "cell_type": "code",
   "execution_count": 65,
   "metadata": {},
   "outputs": [
    {
     "data": {
      "text/plain": [
       "{'Q1': 0.0030825000936658456,\n",
       " 'Q2': 0.015452476654372929,\n",
       " 'Q3': -0.05669828532606357,\n",
       " 'Q4': -0.15190146086818582,\n",
       " 'Q5': 0.06424639283555117,\n",
       " 'Q6': -0.25210378486610985,\n",
       " 'Q7': -0.22472953787349378,\n",
       " 'Q8': 0.28306191176222945,\n",
       " 'Q9': 0.32636973407051634,\n",
       " 'Q10': 0.1256002081388037,\n",
       " 'Q11': -0.0929650517845092,\n",
       " 'Q12': 0.09800312160761433,\n",
       " 'Q13': -0.05527614105779879,\n",
       " 'Q14': -0.042999261602338655,\n",
       " 'Q15': 0.05631516936489895,\n",
       " 'Q16': 0.13265135690410068,\n",
       " 'Q17': -0.44524354185498044,\n",
       " 'Q18': -0.34392049769724714,\n",
       " 'Q19': -0.5412104878710177,\n",
       " 'Q20': 0.8130938788140747,\n",
       " 'Q21': 0.5343065083614491,\n",
       " 'Q22': -0.1505397478462589,\n",
       " 'Q23': -1.3899161262330164,\n",
       " 'Q24': 0.6279336940556638,\n",
       " 'Q25': 0.5657419851398137,\n",
       " 'Q26': 0.041011668847994745,\n",
       " 'Q27': -0.08589960398534834,\n",
       " 'Q28': 0.023742280083539433,\n",
       " 'Q29': 0.41793079523682014,\n",
       " 'Q30': -0.035500467618938096,\n",
       " 'Q31': -0.015906251060387094,\n",
       " 'Q32': -0.03396741340130895,\n",
       " 'Q33': -0.2317286350435828,\n",
       " 'Q34': 0.020079482731004576,\n",
       " 'Q35': -0.026223495957560402,\n",
       " 'Q36': -0.09022176039442152,\n",
       " 'Q37': 0.04287504555944306,\n",
       " 'Q38': 0.09008288375200725,\n",
       " 'Q39': 0.21865285313716715,\n",
       " 'Q40': -0.2442172727272594,\n",
       " 'Q41': 0.2779938195320835,\n",
       " 'Q42': 0.18989609957454506,\n",
       " 'Q43': 0.1409637333090502,\n",
       " 'Q44': -0.010521199344412065,\n",
       " 'Q45': 0.06407136487921924,\n",
       " 'Q47': -0.5068152734120775,\n",
       " 'Q48': 0.3140795890615928,\n",
       " 'Q50': 0.4651254760831024,\n",
       " 'Q51': -0.01002126147086156,\n",
       " 'Q52': -0.05125884796305668,\n",
       " 'Q53': 0.1332441630058517,\n",
       " 'Q54': -0.03576543622877154,\n",
       " 'Q55': 0.007391412438261364,\n",
       " 'Q56': -0.1983290924989057,\n",
       " 'Q57': -0.5036915783421217,\n",
       " 'Q58': -0.4233853197749557,\n",
       " 'Q59': 0.3711877637594102,\n",
       " 'Q60': 0.0679674849805258,\n",
       " 'Q61': -0.20536881840775742,\n",
       " 'Q62': 0.09754043714767013,\n",
       " 'Q63': -0.24407808148532734,\n",
       " 'Q64': 0.04588310575875287,\n",
       " 'Q65': -0.1129191332965019,\n",
       " 'Q66': 0.2845517076616651,\n",
       " 'Q67': -0.028708203891643868,\n",
       " 'Q68': 0.026673328371124547,\n",
       " 'Q69': -0.33553646174726776,\n",
       " 'Q70': 0.004905317335913677,\n",
       " 'Q71': -0.3591048697815047,\n",
       " 'Q72': 0.21125186288389675,\n",
       " 'Q73': 0.2527024161516265,\n",
       " 'Q74': -0.3403464601507294,\n",
       " 'Q75': -0.1903951821324083,\n",
       " 'Q76': -0.17148427701045815,\n",
       " 'Q77': 0.2444949573033067,\n",
       " 'Q78': -0.0909841268243015,\n",
       " 'Q79': -0.10527456224677909,\n",
       " 'Q80': 0.20242242991518414,\n",
       " 'Q81': 0.02959266244039366,\n",
       " 'Q83': -0.010476733949024854,\n",
       " 'Q88': 0.38393794590504987,\n",
       " 'Q195': -0.05199478732025127,\n",
       " 'Q196': -0.11518046553105374,\n",
       " 'Q197': 0.01243575834141412,\n",
       " 'Q198': 0.17199216308749993,\n",
       " 'Q199': 0.17769721387967063,\n",
       " 'Q200': 0.355094342202754,\n",
       " 'Q201': -0.12860344229033707,\n",
       " 'Q202': -0.1214824299567104,\n",
       " 'Q203': 0.02329283010252123,\n",
       " 'Q204': -0.17953231603988087,\n",
       " 'Q205': -0.02063708052255046,\n",
       " 'Q206': 0.15954996097776064,\n",
       " 'Q207': 0.14546654332992554}"
      ]
     },
     "execution_count": 65,
     "metadata": {},
     "output_type": "execute_result"
    }
   ],
   "source": [
    "coef_dict_linear = {}\n",
    "for coef, feature in zip(model.coef_, X.columns): \n",
    "    coef_dict_linear[feature] = coef\n",
    "coef_dict_linear"
   ]
  },
  {
   "cell_type": "code",
   "execution_count": 101,
   "metadata": {},
   "outputs": [
    {
     "data": {
      "text/plain": [
       "13.23927409559734"
      ]
     },
     "execution_count": 101,
     "metadata": {},
     "output_type": "execute_result"
    }
   ],
   "source": [
    "np.sum(abs(model.coef_))"
   ]
  },
  {
   "cell_type": "code",
   "execution_count": null,
   "metadata": {},
   "outputs": [],
   "source": []
  },
  {
   "cell_type": "markdown",
   "metadata": {},
   "source": [
    "# RIDGE REGRESSION\n",
    "### alpha - a float, default=1.0.  Alpha is a weight that controls the regularization strength; must be a positive float. Regularization improves the conditioning of the problem and reduces the variance of the regression estimates. Larger values create stronger regularization.\n",
    "### solver - chooses the loss function based upon the data type (e.g., least squares for continuous DV)\n",
    "### tol - Precision of the solution.  That is, set the how small the gradient can be before concluding that the optimal solution has been achieved.\n",
    "### max_iter = select the maximum number of iterations calculating the gradient before concluding that the optimal solution has been achieved.  You might have to set the ‘max_iter’ parameter if a warning appears saying that the gradient descent algorithm stopped before convergence.\n",
    "### normalize - set equal to True or False depending upon whether or not you want to normalize the features.  It's generally a good idea to normalize the features."
   ]
  },
  {
   "cell_type": "code",
   "execution_count": 67,
   "metadata": {},
   "outputs": [],
   "source": [
    "from sklearn import linear_model\n",
    "from sklearn.linear_model import Ridge, Lasso, ElasticNet\n",
    "from sklearn.model_selection import cross_val_score"
   ]
  },
  {
   "cell_type": "markdown",
   "metadata": {},
   "source": [
    "### Optimizes  RSS (Residual Sum of Squares) + αlpha * (sum of squared regression coefficients)\n",
    "### Where α (alpha) defines the impact of the regularizer.  If alpha = 0, the Ridge regression becomes OLS."
   ]
  },
  {
   "cell_type": "code",
   "execution_count": 102,
   "metadata": {},
   "outputs": [],
   "source": [
    "## Specify the ridge regression model\n",
    "\n",
    "r_reg = Ridge(alpha=10, tol = .001, normalize=True)"
   ]
  },
  {
   "cell_type": "code",
   "execution_count": 103,
   "metadata": {},
   "outputs": [
    {
     "data": {
      "text/plain": [
       "Ridge(alpha=10, normalize=True)"
      ]
     },
     "execution_count": 103,
     "metadata": {},
     "output_type": "execute_result"
    }
   ],
   "source": [
    "# fitting the model\n",
    "r_reg.fit(X, y)"
   ]
  },
  {
   "cell_type": "code",
   "execution_count": 104,
   "metadata": {},
   "outputs": [],
   "source": [
    "# making predictions\n",
    "predictions = r_reg.predict(X)"
   ]
  },
  {
   "cell_type": "code",
   "execution_count": 105,
   "metadata": {},
   "outputs": [
    {
     "name": "stdout",
     "output_type": "stream",
     "text": [
      "mean_squared_error :  9.363138106969041\n",
      "mean_absolute_error :  2.3653541255180572\n"
     ]
    }
   ],
   "source": [
    "# model evaluation\n",
    "print('mean_squared_error : ', mean_squared_error(y, predictions))\n",
    "print('mean_absolute_error : ', mean_absolute_error(y, predictions))"
   ]
  },
  {
   "cell_type": "markdown",
   "metadata": {},
   "source": [
    "### Compute R-square using the formula and print.   When the penalty is large, alpha = 10, the R-square is reduced."
   ]
  },
  {
   "cell_type": "code",
   "execution_count": 106,
   "metadata": {},
   "outputs": [
    {
     "name": "stdout",
     "output_type": "stream",
     "text": [
      "0.15343793728616162\n"
     ]
    }
   ],
   "source": [
    "SS_Residual = sum((y-predictions)**2)       \n",
    "SS_Total = sum((y-np.mean(y))**2)     \n",
    "\n",
    "r_squared = 1 - (float(SS_Residual))/SS_Total\n",
    "\n",
    "print(r_squared)"
   ]
  },
  {
   "cell_type": "markdown",
   "metadata": {},
   "source": [
    "### Convert predictions, a numpy array, to a dataframe, scatdf, then rename the variable in the dataframe from 0 to Pred."
   ]
  },
  {
   "cell_type": "code",
   "execution_count": 107,
   "metadata": {},
   "outputs": [],
   "source": [
    "scatdf = pd.DataFrame(predictions)\n",
    "\n",
    "scatdf = scatdf.rename({0:'Pred'}, axis=1)"
   ]
  },
  {
   "cell_type": "markdown",
   "metadata": {},
   "source": [
    "### Using seaborn library, return scatterplot of predicted values (Pred) and actual values (Life_Happy)"
   ]
  },
  {
   "cell_type": "code",
   "execution_count": 108,
   "metadata": {},
   "outputs": [
    {
     "data": {
      "text/plain": [
       "<AxesSubplot:xlabel='Life_Happy', ylabel='Pred'>"
      ]
     },
     "execution_count": 108,
     "metadata": {},
     "output_type": "execute_result"
    },
    {
     "data": {
      "image/png": "[encoded data removed]",
      "text/plain": [
       "<Figure size 432x288 with 1 Axes>"
      ]
     },
     "metadata": {},
     "output_type": "display_data"
    }
   ],
   "source": [
    "sns.set(style='whitegrid')\n",
    "\n",
    "sns.regplot(x = y,  ## regplot returns the regression line whereas scatterplot does not\n",
    "            y = scatdf['Pred'])"
   ]
  },
  {
   "cell_type": "markdown",
   "metadata": {},
   "source": [
    "## What is the optimal value of alpha?\n",
    "### Use grid search and cross validation to find the optimal value for alpha."
   ]
  },
  {
   "cell_type": "code",
   "execution_count": 109,
   "metadata": {},
   "outputs": [],
   "source": [
    "X_train, X_test, y_train, y_test = train_test_split(X, y, test_size=0.30, random_state=42)"
   ]
  },
  {
   "cell_type": "code",
   "execution_count": 110,
   "metadata": {},
   "outputs": [],
   "source": [
    "## Specify the model without alpha parameter because the grid search will find the best one.\n",
    "\n",
    "r_reg = Ridge(normalize=True)  ## Normalize all the variables"
   ]
  },
  {
   "cell_type": "code",
   "execution_count": 111,
   "metadata": {},
   "outputs": [],
   "source": [
    "## Specify the model hyperparameter alpha\n",
    "\n",
    "search = GridSearchCV(estimator = r_reg, param_grid = {\n",
    "                      'alpha' : np.logspace(-6, 6, 13)},\n",
    "                      scoring = ['neg_mean_squared_error', 'r2'],\n",
    "                      refit = 'r2',\n",
    "                      cv = 5,\n",
    "                      verbose = 4)"
   ]
  },
  {
   "cell_type": "code",
   "execution_count": 112,
   "metadata": {},
   "outputs": [
    {
     "name": "stdout",
     "output_type": "stream",
     "text": [
      "Fitting 5 folds for each of 13 candidates, totalling 65 fits\n",
      "[CV] alpha=1e-06 .....................................................\n",
      "[CV]  alpha=1e-06, neg_mean_squared_error=-8.934, r2=0.191, total=   0.0s\n",
      "[CV] alpha=1e-06 .....................................................\n",
      "[CV]  alpha=1e-06, neg_mean_squared_error=-8.550, r2=0.087, total=   0.0s\n",
      "[CV] alpha=1e-06 .....................................................\n",
      "[CV]  alpha=1e-06, neg_mean_squared_error=-7.690, r2=0.240, total=   0.0s\n",
      "[CV] alpha=1e-06 .....................................................\n",
      "[CV]  alpha=1e-06, neg_mean_squared_error=-7.455, r2=0.379, total=   0.0s\n",
      "[CV] alpha=1e-06 .....................................................\n",
      "[CV]  alpha=1e-06, neg_mean_squared_error=-7.041, r2=0.434, total=   0.0s\n",
      "[CV] alpha=1e-05 .....................................................\n",
      "[CV]  alpha=1e-05, neg_mean_squared_error=-8.934, r2=0.191, total=   0.0s\n",
      "[CV] alpha=1e-05 .....................................................\n",
      "[CV]  alpha=1e-05, neg_mean_squared_error=-8.550, r2=0.087, total=   0.0s\n",
      "[CV] alpha=1e-05 .....................................................\n",
      "[CV]  alpha=1e-05, neg_mean_squared_error=-7.690, r2=0.240, total=   0.0s\n",
      "[CV] alpha=1e-05 .....................................................\n",
      "[CV]  alpha=1e-05, neg_mean_squared_error=-7.455, r2=0.379, total=   0.0s\n",
      "[CV] alpha=1e-05 .....................................................\n",
      "[CV]  alpha=1e-05, neg_mean_squared_error=-7.041, r2=0.434, total=   0.0s\n",
      "[CV] alpha=0.0001 ....................................................\n",
      "[CV]  alpha=0.0001, neg_mean_squared_error=-8.933, r2=0.191, total=   0.0s\n",
      "[CV] alpha=0.0001 ....................................................\n",
      "[CV]  alpha=0.0001, neg_mean_squared_error=-8.549, r2=0.087, total=   0.0s\n",
      "[CV] alpha=0.0001 ....................................................\n",
      "[CV]  alpha=0.0001, neg_mean_squared_error=-7.689, r2=0.240, total=   0.0s\n",
      "[CV] alpha=0.0001 ....................................................\n",
      "[CV]  alpha=0.0001, neg_mean_squared_error=-7.454, r2=0.379, total=   0.0s\n",
      "[CV] alpha=0.0001 ....................................................\n",
      "[CV]  alpha=0.0001, neg_mean_squared_error=-7.041, r2=0.434, total=   0.0s\n",
      "[CV] alpha=0.001 .....................................................\n",
      "[CV]  alpha=0.001, neg_mean_squared_error=-8.924, r2=0.192, total=   0.0s\n",
      "[CV] alpha=0.001 .....................................................\n",
      "[CV]  alpha=0.001, neg_mean_squared_error=-8.542, r2=0.088, total=   0.0s\n",
      "[CV] alpha=0.001 .....................................................\n",
      "[CV]  alpha=0.001, neg_mean_squared_error=-7.684, r2=0.240, total=   0.0s\n",
      "[CV] alpha=0.001 .....................................................\n",
      "[CV]  alpha=0.001, neg_mean_squared_error=-7.451, r2=0.379, total=   0.0s\n",
      "[CV] alpha=0.001 .....................................................\n",
      "[CV]  alpha=0.001, neg_mean_squared_error=-7.040, r2=0.434, total=   0.0s\n",
      "[CV] alpha=0.01 ......................................................\n",
      "[CV]  alpha=0.01, neg_mean_squared_error=-8.837, r2=0.200, total=   0.0s\n",
      "[CV] alpha=0.01 ......................................................\n",
      "[CV]  alpha=0.01, neg_mean_squared_error=-8.468, r2=0.095, total=   0.0s\n",
      "[CV] alpha=0.01 ......................................................\n",
      "[CV]  alpha=0.01, neg_mean_squared_error=-7.634, r2=0.245, total=   0.0s\n",
      "[CV] alpha=0.01 ......................................................\n",
      "[CV]  alpha=0.01, neg_mean_squared_error=-7.420, r2=0.382, total=   0.0s\n",
      "[CV] alpha=0.01 ......................................................\n",
      "[CV]  alpha=0.01, neg_mean_squared_error=-7.027, r2=0.435, total=   0.0s\n",
      "[CV] alpha=0.1 .......................................................\n",
      "[CV]  alpha=0.1, neg_mean_squared_error=-8.301, r2=0.248, total=   0.0s\n",
      "[CV] alpha=0.1 .......................................................\n",
      "[CV]  alpha=0.1, neg_mean_squared_error=-7.984, r2=0.147, total=   0.0s\n",
      "[CV] alpha=0.1 .......................................................\n",
      "[CV]  alpha=0.1, neg_mean_squared_error=-7.279, r2=0.281, total=   0.0s\n",
      "[CV] alpha=0.1 .......................................................\n",
      "[CV]  alpha=0.1, neg_mean_squared_error=-7.230, r2=0.398, total=   0.0s\n",
      "[CV] alpha=0.1 .......................................................\n"
     ]
    },
    {
     "name": "stderr",
     "output_type": "stream",
     "text": [
      "[Parallel(n_jobs=1)]: Using backend SequentialBackend with 1 concurrent workers.\n",
      "[Parallel(n_jobs=1)]: Done   1 out of   1 | elapsed:    0.0s remaining:    0.0s\n",
      "[Parallel(n_jobs=1)]: Done   2 out of   2 | elapsed:    0.0s remaining:    0.0s\n",
      "[Parallel(n_jobs=1)]: Done   3 out of   3 | elapsed:    0.0s remaining:    0.0s\n"
     ]
    },
    {
     "name": "stdout",
     "output_type": "stream",
     "text": [
      "[CV]  alpha=0.1, neg_mean_squared_error=-6.981, r2=0.439, total=   0.0s\n",
      "[CV] alpha=1.0 .......................................................\n",
      "[CV]  alpha=1.0, neg_mean_squared_error=-7.894, r2=0.285, total=   0.0s\n",
      "[CV] alpha=1.0 .......................................................\n",
      "[CV]  alpha=1.0, neg_mean_squared_error=-7.347, r2=0.215, total=   0.0s\n",
      "[CV] alpha=1.0 .......................................................\n",
      "[CV]  alpha=1.0, neg_mean_squared_error=-6.839, r2=0.324, total=   0.0s\n",
      "[CV] alpha=1.0 .......................................................\n",
      "[CV]  alpha=1.0, neg_mean_squared_error=-7.494, r2=0.376, total=   0.0s\n",
      "[CV] alpha=1.0 .......................................................\n",
      "[CV]  alpha=1.0, neg_mean_squared_error=-7.709, r2=0.380, total=   0.0s\n",
      "[CV] alpha=10.0 ......................................................\n",
      "[CV]  alpha=10.0, neg_mean_squared_error=-9.664, r2=0.125, total=   0.0s\n",
      "[CV] alpha=10.0 ......................................................\n",
      "[CV]  alpha=10.0, neg_mean_squared_error=-8.466, r2=0.096, total=   0.0s\n",
      "[CV] alpha=10.0 ......................................................\n",
      "[CV]  alpha=10.0, neg_mean_squared_error=-8.656, r2=0.144, total=   0.0s\n",
      "[CV] alpha=10.0 ......................................................\n",
      "[CV]  alpha=10.0, neg_mean_squared_error=-10.207, r2=0.150, total=   0.0s\n",
      "[CV] alpha=10.0 ......................................................\n",
      "[CV]  alpha=10.0, neg_mean_squared_error=-10.588, r2=0.149, total=   0.0s\n",
      "[CV] alpha=100.0 .....................................................\n",
      "[CV]  alpha=100.0, neg_mean_squared_error=-10.832, r2=0.019, total=   0.0s\n",
      "[CV] alpha=100.0 .....................................................\n",
      "[CV]  alpha=100.0, neg_mean_squared_error=-9.227, r2=0.014, total=   0.0s\n",
      "[CV] alpha=100.0 .....................................................\n",
      "[CV]  alpha=100.0, neg_mean_squared_error=-9.905, r2=0.021, total=   0.0s\n",
      "[CV] alpha=100.0 .....................................................\n",
      "[CV]  alpha=100.0, neg_mean_squared_error=-11.750, r2=0.021, total=   0.0s\n",
      "[CV] alpha=100.0 .....................................................\n",
      "[CV]  alpha=100.0, neg_mean_squared_error=-12.174, r2=0.022, total=   0.0s\n",
      "[CV] alpha=1000.0 ....................................................\n",
      "[CV]  alpha=1000.0, neg_mean_squared_error=-11.019, r2=0.002, total=   0.0s\n",
      "[CV] alpha=1000.0 ....................................................\n",
      "[CV]  alpha=1000.0, neg_mean_squared_error=-9.348, r2=0.002, total=   0.0s\n",
      "[CV] alpha=1000.0 ....................................................\n",
      "[CV]  alpha=1000.0, neg_mean_squared_error=-10.102, r2=0.001, total=   0.0s\n",
      "[CV] alpha=1000.0 ....................................................\n",
      "[CV]  alpha=1000.0, neg_mean_squared_error=-11.984, r2=0.002, total=   0.0s\n",
      "[CV] alpha=1000.0 ....................................................\n",
      "[CV]  alpha=1000.0, neg_mean_squared_error=-12.417, r2=0.002, total=   0.0s\n",
      "[CV] alpha=10000.0 ...................................................\n",
      "[CV]  alpha=10000.0, neg_mean_squared_error=-11.039, r2=0.000, total=   0.0s\n",
      "[CV] alpha=10000.0 ...................................................\n",
      "[CV]  alpha=10000.0, neg_mean_squared_error=-9.361, r2=0.000, total=   0.0s\n",
      "[CV] alpha=10000.0 ...................................................\n",
      "[CV]  alpha=10000.0, neg_mean_squared_error=-10.123, r2=-0.001, total=   0.0s\n",
      "[CV] alpha=10000.0 ...................................................\n",
      "[CV]  alpha=10000.0, neg_mean_squared_error=-12.009, r2=-0.000, total=   0.0s\n",
      "[CV] alpha=10000.0 ...................................................\n",
      "[CV]  alpha=10000.0, neg_mean_squared_error=-12.443, r2=0.000, total=   0.0s\n",
      "[CV] alpha=100000.0 ..................................................\n",
      "[CV]  alpha=100000.0, neg_mean_squared_error=-11.041, r2=-0.000, total=   0.0s\n",
      "[CV] alpha=100000.0 ..................................................\n",
      "[CV]  alpha=100000.0, neg_mean_squared_error=-9.362, r2=0.000, total=   0.0s\n",
      "[CV] alpha=100000.0 ..................................................\n",
      "[CV]  alpha=100000.0, neg_mean_squared_error=-10.125, r2=-0.001, total=   0.0s\n",
      "[CV] alpha=100000.0 ..................................................\n",
      "[CV]  alpha=100000.0, neg_mean_squared_error=-12.011, r2=-0.000, total=   0.0s\n",
      "[CV] alpha=100000.0 ..................................................\n",
      "[CV]  alpha=100000.0, neg_mean_squared_error=-12.446, r2=-0.000, total=   0.0s\n",
      "[CV] alpha=1000000.0 .................................................\n",
      "[CV]  alpha=1000000.0, neg_mean_squared_error=-11.041, r2=-0.000, total=   0.0s\n",
      "[CV] alpha=1000000.0 .................................................\n",
      "[CV]  alpha=1000000.0, neg_mean_squared_error=-9.362, r2=-0.000, total=   0.0s\n",
      "[CV] alpha=1000000.0 .................................................\n",
      "[CV]  alpha=1000000.0, neg_mean_squared_error=-10.125, r2=-0.001, total=   0.0s\n",
      "[CV] alpha=1000000.0 .................................................\n",
      "[CV]  alpha=1000000.0, neg_mean_squared_error=-12.012, r2=-0.000, total=   0.0s\n",
      "[CV] alpha=1000000.0 .................................................\n",
      "[CV]  alpha=1000000.0, neg_mean_squared_error=-12.446, r2=-0.000, total=   0.0s\n"
     ]
    },
    {
     "name": "stderr",
     "output_type": "stream",
     "text": [
      "[Parallel(n_jobs=1)]: Done  65 out of  65 | elapsed:    0.3s finished\n"
     ]
    },
    {
     "data": {
      "text/plain": [
       "GridSearchCV(cv=5, estimator=Ridge(normalize=True),\n",
       "             param_grid={'alpha': array([1.e-06, 1.e-05, 1.e-04, 1.e-03, 1.e-02, 1.e-01, 1.e+00, 1.e+01,\n",
       "       1.e+02, 1.e+03, 1.e+04, 1.e+05, 1.e+06])},\n",
       "             refit='r2', scoring=['neg_mean_squared_error', 'r2'], verbose=4)"
      ]
     },
     "execution_count": 112,
     "metadata": {},
     "output_type": "execute_result"
    }
   ],
   "source": [
    "search.fit(X_train,y_train)"
   ]
  },
  {
   "cell_type": "code",
   "execution_count": 113,
   "metadata": {},
   "outputs": [
    {
     "name": "stdout",
     "output_type": "stream",
     "text": [
      "Ridge(normalize=True)\n",
      "{'alpha': 1.0}\n",
      "0.3161154440946833\n"
     ]
    }
   ],
   "source": [
    "## Print best results\n",
    "\n",
    "print(search.best_estimator_)\n",
    "print(search.best_params_)\n",
    "print(abs(search.best_score_))"
   ]
  },
  {
   "cell_type": "code",
   "execution_count": 114,
   "metadata": {},
   "outputs": [
    {
     "data": {
      "text/plain": [
       "Ridge(alpha=1, normalize=True)"
      ]
     },
     "execution_count": 114,
     "metadata": {},
     "output_type": "execute_result"
    }
   ],
   "source": [
    "r_reg = Ridge(alpha = 1, tol = .001, normalize=True)\n",
    "r_reg.fit(X_test, y_test)"
   ]
  },
  {
   "cell_type": "code",
   "execution_count": 115,
   "metadata": {},
   "outputs": [],
   "source": [
    "# Make predictions using the test dataset\n",
    "\n",
    "predictions = r_reg.predict(X_test)"
   ]
  },
  {
   "cell_type": "code",
   "execution_count": 116,
   "metadata": {},
   "outputs": [
    {
     "name": "stdout",
     "output_type": "stream",
     "text": [
      "mean_squared_error :  5.927526214784771\n",
      "mean_absolute_error :  1.8958196341740343\n"
     ]
    }
   ],
   "source": [
    "# model evaluation\n",
    "print('mean_squared_error : ', mean_squared_error(y_test, predictions))\n",
    "print('mean_absolute_error : ', mean_absolute_error(y_test, predictions))"
   ]
  },
  {
   "cell_type": "markdown",
   "metadata": {},
   "source": [
    "### Compute R-square using the formula and print. "
   ]
  },
  {
   "cell_type": "code",
   "execution_count": 117,
   "metadata": {},
   "outputs": [
    {
     "name": "stdout",
     "output_type": "stream",
     "text": [
      "0.4704270496391443\n"
     ]
    }
   ],
   "source": [
    "SS_Residual = sum((y_test-predictions)**2)       \n",
    "SS_Total = sum((y_test-np.mean(y_test))**2)     \n",
    "\n",
    "r_squared = 1 - (float(SS_Residual))/SS_Total\n",
    "\n",
    "print(r_squared)"
   ]
  },
  {
   "cell_type": "code",
   "execution_count": 118,
   "metadata": {},
   "outputs": [
    {
     "data": {
      "text/plain": [
       "{'Q1': 0.08439932616704005,\n",
       " 'Q2': -0.08089373143109958,\n",
       " 'Q3': 0.0011887647987163547,\n",
       " 'Q4': 0.06190333432419784,\n",
       " 'Q5': -0.10407201709599379,\n",
       " 'Q6': -0.22773911661736682,\n",
       " 'Q7': 0.023272561600415013,\n",
       " 'Q8': -0.09231430813450558,\n",
       " 'Q9': -0.08811982469288705,\n",
       " 'Q10': 0.052226859166864335,\n",
       " 'Q11': 0.32676809338233126,\n",
       " 'Q12': -0.17916891947712263,\n",
       " 'Q13': -0.034137364609560204,\n",
       " 'Q14': 0.2943608648926368,\n",
       " 'Q15': -0.11870067199564421,\n",
       " 'Q16': 0.11626969828016077,\n",
       " 'Q17': -0.19718203782622223,\n",
       " 'Q18': -0.11540448572197722,\n",
       " 'Q19': 0.41667197267998873,\n",
       " 'Q20': -0.002204214051442423,\n",
       " 'Q21': 0.1950739187961698,\n",
       " 'Q22': 0.1442303373696331,\n",
       " 'Q23': -0.4909796440485106,\n",
       " 'Q24': 0.039371927650093355,\n",
       " 'Q25': -0.097717282083464,\n",
       " 'Q26': -0.18608881644659112,\n",
       " 'Q27': -0.09081406312289551,\n",
       " 'Q28': -0.126923380505819,\n",
       " 'Q29': 0.06007152585844778,\n",
       " 'Q30': -0.0019596429653775376,\n",
       " 'Q31': 0.12444299447096951,\n",
       " 'Q32': -0.012165978756948583,\n",
       " 'Q33': 0.10774094948393287,\n",
       " 'Q34': 0.1868913075532859,\n",
       " 'Q35': 0.11388304810413886,\n",
       " 'Q36': -0.0720533542478811,\n",
       " 'Q37': 0.0010463206456045049,\n",
       " 'Q38': 0.030238919828403828,\n",
       " 'Q39': 0.14643598384708667,\n",
       " 'Q40': 0.06105187445851933,\n",
       " 'Q41': -0.013322714571936732,\n",
       " 'Q42': 0.11960059845058713,\n",
       " 'Q43': 0.13085415196189912,\n",
       " 'Q44': 0.26128424227847297,\n",
       " 'Q45': -0.09030170306965996,\n",
       " 'Q47': -0.3263673566775146,\n",
       " 'Q48': 0.1650860280512906,\n",
       " 'Q50': 0.22001131936884408,\n",
       " 'Q51': 0.10278857939183983,\n",
       " 'Q52': -0.012365771451012735,\n",
       " 'Q53': 0.14444653297835028,\n",
       " 'Q54': 0.07687072240316338,\n",
       " 'Q55': -0.02274810291915405,\n",
       " 'Q56': -0.17364389100959904,\n",
       " 'Q57': 0.09799785953809907,\n",
       " 'Q58': -0.25334611849131466,\n",
       " 'Q59': -0.011194683187399749,\n",
       " 'Q60': -0.04955185743561409,\n",
       " 'Q61': -0.09281476569927592,\n",
       " 'Q62': -0.12891629657804643,\n",
       " 'Q63': 0.010159035418796878,\n",
       " 'Q64': -0.0893669738844538,\n",
       " 'Q65': -0.08593718383424609,\n",
       " 'Q66': -0.013954224378832895,\n",
       " 'Q67': -0.09658552438238192,\n",
       " 'Q68': -0.0441929701660138,\n",
       " 'Q69': -0.15843985329070043,\n",
       " 'Q70': -0.03061890258398577,\n",
       " 'Q71': -0.037020963232241764,\n",
       " 'Q72': 0.14050519341365214,\n",
       " 'Q73': 0.03901347151393616,\n",
       " 'Q74': -0.029785243787807468,\n",
       " 'Q75': -0.045867587118513894,\n",
       " 'Q76': 0.029137650189159835,\n",
       " 'Q77': -0.23143004803900177,\n",
       " 'Q78': -0.11889673398384089,\n",
       " 'Q79': 0.05336194256520722,\n",
       " 'Q80': -0.13014037539671178,\n",
       " 'Q81': -0.049971521646138745,\n",
       " 'Q83': 0.1167053978737519,\n",
       " 'Q88': 0.09694947939594144,\n",
       " 'Q195': -0.010094374181898432,\n",
       " 'Q196': -0.033009887546677566,\n",
       " 'Q197': -0.029919886037199965,\n",
       " 'Q198': -0.12992749263614417,\n",
       " 'Q199': 0.0564260076962835,\n",
       " 'Q200': 0.06182394379900513,\n",
       " 'Q201': -0.0006170279626997672,\n",
       " 'Q202': -0.12815329260381556,\n",
       " 'Q203': 0.041002836805488906,\n",
       " 'Q204': 0.025176312516818032,\n",
       " 'Q205': 0.0012106709484243103,\n",
       " 'Q206': 0.03614262452977904,\n",
       " 'Q207': 0.07980359131561174}"
      ]
     },
     "execution_count": 118,
     "metadata": {},
     "output_type": "execute_result"
    }
   ],
   "source": [
    "coef_dict_ridge = {}\n",
    "for coef, feature in zip(r_reg.coef_, X.columns): \n",
    "    coef_dict_ridge[feature] = coef\n",
    "coef_dict_ridge"
   ]
  },
  {
   "cell_type": "code",
   "execution_count": 119,
   "metadata": {},
   "outputs": [
    {
     "data": {
      "text/plain": [
       "9.681040957378183"
      ]
     },
     "execution_count": 119,
     "metadata": {},
     "output_type": "execute_result"
    }
   ],
   "source": [
    "np.sum(abs(r_reg.coef_))"
   ]
  },
  {
   "cell_type": "markdown",
   "metadata": {},
   "source": [
    "# Lasso"
   ]
  },
  {
   "cell_type": "code",
   "execution_count": null,
   "metadata": {},
   "outputs": [],
   "source": [
    "X_train, X_test, y_train, y_test = train_test_split(X, y, test_size=0.30, random_state=42)"
   ]
  },
  {
   "cell_type": "code",
   "execution_count": 120,
   "metadata": {},
   "outputs": [],
   "source": [
    "## Specify the model\n",
    "\n",
    "l_reg = Lasso(normalize=True)"
   ]
  },
  {
   "cell_type": "code",
   "execution_count": 121,
   "metadata": {},
   "outputs": [],
   "source": [
    "## Specify the model hyperparameter alpha\n",
    "\n",
    "search = GridSearchCV(estimator = l_reg, param_grid = {\n",
    "                      'alpha' : np.logspace(-6, 6, 13)},\n",
    "                      scoring = ['neg_mean_squared_error', 'r2'],\n",
    "                      refit = 'r2',\n",
    "                      cv = 5,\n",
    "                      verbose = 4)"
   ]
  },
  {
   "cell_type": "code",
   "execution_count": 122,
   "metadata": {},
   "outputs": [
    {
     "name": "stdout",
     "output_type": "stream",
     "text": [
      "Fitting 5 folds for each of 13 candidates, totalling 65 fits\n",
      "[CV] alpha=1e-06 .....................................................\n",
      "[CV]  alpha=1e-06, neg_mean_squared_error=-8.933, r2=0.191, total=   0.0s\n",
      "[CV] alpha=1e-06 .....................................................\n",
      "[CV]  alpha=1e-06, neg_mean_squared_error=-8.549, r2=0.087, total=   0.0s\n",
      "[CV] alpha=1e-06 .....................................................\n",
      "[CV]  alpha=1e-06, neg_mean_squared_error=-7.689, r2=0.240, total=   0.0s\n",
      "[CV] alpha=1e-06 .....................................................\n",
      "[CV]  alpha=1e-06, neg_mean_squared_error=-7.454, r2=0.379, total=   0.0s\n",
      "[CV] alpha=1e-06 .....................................................\n",
      "[CV]  alpha=1e-06, neg_mean_squared_error=-7.041, r2=0.434, total=   0.0s\n",
      "[CV] alpha=1e-05 .....................................................\n",
      "[CV]  alpha=1e-05, neg_mean_squared_error=-8.923, r2=0.192, total=   0.0s\n",
      "[CV] alpha=1e-05 .....................................................\n",
      "[CV]  alpha=1e-05, neg_mean_squared_error=-8.543, r2=0.088, total=   0.0s\n",
      "[CV] alpha=1e-05 .....................................................\n",
      "[CV]  alpha=1e-05, neg_mean_squared_error=-7.685, r2=0.240, total=   0.0s\n",
      "[CV] alpha=1e-05 .....................................................\n",
      "[CV]  alpha=1e-05, neg_mean_squared_error=-7.451, r2=0.379, total=   0.0s\n",
      "[CV] alpha=1e-05 .....................................................\n",
      "[CV]  alpha=1e-05, neg_mean_squared_error=-7.036, r2=0.435, total=   0.0s\n",
      "[CV] alpha=0.0001 ....................................................\n",
      "[CV]  alpha=0.0001, neg_mean_squared_error=-8.828, r2=0.200, total=   0.0s\n",
      "[CV] alpha=0.0001 ....................................................\n",
      "[CV]  alpha=0.0001, neg_mean_squared_error=-8.474, r2=0.095, total=   0.0s\n",
      "[CV] alpha=0.0001 ....................................................\n",
      "[CV]  alpha=0.0001, neg_mean_squared_error=-7.649, r2=0.244, total=   0.0s\n",
      "[CV] alpha=0.0001 ....................................................\n",
      "[CV]  alpha=0.0001, neg_mean_squared_error=-7.420, r2=0.382, total=   0.0s\n",
      "[CV] alpha=0.0001 ....................................................\n",
      "[CV]  alpha=0.0001, neg_mean_squared_error=-6.989, r2=0.438, total=   0.0s\n",
      "[CV] alpha=0.001 .....................................................\n",
      "[CV]  alpha=0.001, neg_mean_squared_error=-8.172, r2=0.260, total=   0.0s\n",
      "[CV] alpha=0.001 .....................................................\n",
      "[CV]  alpha=0.001, neg_mean_squared_error=-7.889, r2=0.157, total=   0.0s\n",
      "[CV] alpha=0.001 .....................................................\n",
      "[CV]  alpha=0.001, neg_mean_squared_error=-7.295, r2=0.279, total=   0.0s\n",
      "[CV] alpha=0.001 .....................................................\n",
      "[CV]  alpha=0.001, neg_mean_squared_error=-7.202, r2=0.400, total=   0.0s\n",
      "[CV] alpha=0.001 .....................................................\n",
      "[CV]  alpha=0.001, neg_mean_squared_error=-6.650, r2=0.466, total=   0.0s\n",
      "[CV] alpha=0.01 ......................................................\n",
      "[CV]  alpha=0.01, neg_mean_squared_error=-7.631, r2=0.309, total=   0.0s\n",
      "[CV] alpha=0.01 ......................................................\n",
      "[CV]  alpha=0.01, neg_mean_squared_error=-6.579, r2=0.297, total=   0.0s\n",
      "[CV] alpha=0.01 ......................................................\n",
      "[CV]  alpha=0.01, neg_mean_squared_error=-6.552, r2=0.352, total=   0.0s\n",
      "[CV] alpha=0.01 ......................................................\n",
      "[CV]  alpha=0.01, neg_mean_squared_error=-7.543, r2=0.372, total=   0.0s\n",
      "[CV] alpha=0.01 ......................................................\n",
      "[CV]  alpha=0.01, neg_mean_squared_error=-6.892, r2=0.446, total=   0.0s\n",
      "[CV] alpha=0.1 .......................................................\n"
     ]
    },
    {
     "name": "stderr",
     "output_type": "stream",
     "text": [
      "[Parallel(n_jobs=1)]: Using backend SequentialBackend with 1 concurrent workers.\n",
      "[Parallel(n_jobs=1)]: Done   1 out of   1 | elapsed:    0.0s remaining:    0.0s\n",
      "[Parallel(n_jobs=1)]: Done   2 out of   2 | elapsed:    0.0s remaining:    0.0s\n",
      "[Parallel(n_jobs=1)]: Done   3 out of   3 | elapsed:    0.0s remaining:    0.0s\n"
     ]
    },
    {
     "name": "stdout",
     "output_type": "stream",
     "text": [
      "[CV]  alpha=0.1, neg_mean_squared_error=-11.041, r2=-0.000, total=   0.0s\n",
      "[CV] alpha=0.1 .......................................................\n",
      "[CV]  alpha=0.1, neg_mean_squared_error=-9.362, r2=-0.000, total=   0.0s\n",
      "[CV] alpha=0.1 .......................................................\n",
      "[CV]  alpha=0.1, neg_mean_squared_error=-10.125, r2=-0.001, total=   0.0s\n",
      "[CV] alpha=0.1 .......................................................\n",
      "[CV]  alpha=0.1, neg_mean_squared_error=-12.012, r2=-0.000, total=   0.0s\n",
      "[CV] alpha=0.1 .......................................................\n",
      "[CV]  alpha=0.1, neg_mean_squared_error=-12.446, r2=-0.000, total=   0.0s\n",
      "[CV] alpha=1.0 .......................................................\n",
      "[CV]  alpha=1.0, neg_mean_squared_error=-11.041, r2=-0.000, total=   0.0s\n",
      "[CV] alpha=1.0 .......................................................\n",
      "[CV]  alpha=1.0, neg_mean_squared_error=-9.362, r2=-0.000, total=   0.0s\n",
      "[CV] alpha=1.0 .......................................................\n",
      "[CV]  alpha=1.0, neg_mean_squared_error=-10.125, r2=-0.001, total=   0.0s\n",
      "[CV] alpha=1.0 .......................................................\n",
      "[CV]  alpha=1.0, neg_mean_squared_error=-12.012, r2=-0.000, total=   0.0s\n",
      "[CV] alpha=1.0 .......................................................\n",
      "[CV]  alpha=1.0, neg_mean_squared_error=-12.446, r2=-0.000, total=   0.0s\n",
      "[CV] alpha=10.0 ......................................................\n",
      "[CV]  alpha=10.0, neg_mean_squared_error=-11.041, r2=-0.000, total=   0.0s\n",
      "[CV] alpha=10.0 ......................................................\n",
      "[CV]  alpha=10.0, neg_mean_squared_error=-9.362, r2=-0.000, total=   0.0s\n",
      "[CV] alpha=10.0 ......................................................\n",
      "[CV]  alpha=10.0, neg_mean_squared_error=-10.125, r2=-0.001, total=   0.0s\n",
      "[CV] alpha=10.0 ......................................................\n",
      "[CV]  alpha=10.0, neg_mean_squared_error=-12.012, r2=-0.000, total=   0.0s\n",
      "[CV] alpha=10.0 ......................................................\n",
      "[CV]  alpha=10.0, neg_mean_squared_error=-12.446, r2=-0.000, total=   0.0s\n",
      "[CV] alpha=100.0 .....................................................\n",
      "[CV]  alpha=100.0, neg_mean_squared_error=-11.041, r2=-0.000, total=   0.0s\n",
      "[CV] alpha=100.0 .....................................................\n",
      "[CV]  alpha=100.0, neg_mean_squared_error=-9.362, r2=-0.000, total=   0.0s\n",
      "[CV] alpha=100.0 .....................................................\n",
      "[CV]  alpha=100.0, neg_mean_squared_error=-10.125, r2=-0.001, total=   0.0s\n",
      "[CV] alpha=100.0 .....................................................\n",
      "[CV]  alpha=100.0, neg_mean_squared_error=-12.012, r2=-0.000, total=   0.0s\n",
      "[CV] alpha=100.0 .....................................................\n",
      "[CV]  alpha=100.0, neg_mean_squared_error=-12.446, r2=-0.000, total=   0.0s\n",
      "[CV] alpha=1000.0 ....................................................\n",
      "[CV]  alpha=1000.0, neg_mean_squared_error=-11.041, r2=-0.000, total=   0.0s\n",
      "[CV] alpha=1000.0 ....................................................\n",
      "[CV]  alpha=1000.0, neg_mean_squared_error=-9.362, r2=-0.000, total=   0.0s\n",
      "[CV] alpha=1000.0 ....................................................\n",
      "[CV]  alpha=1000.0, neg_mean_squared_error=-10.125, r2=-0.001, total=   0.0s\n",
      "[CV] alpha=1000.0 ....................................................\n",
      "[CV]  alpha=1000.0, neg_mean_squared_error=-12.012, r2=-0.000, total=   0.0s\n",
      "[CV] alpha=1000.0 ....................................................\n",
      "[CV]  alpha=1000.0, neg_mean_squared_error=-12.446, r2=-0.000, total=   0.0s\n",
      "[CV] alpha=10000.0 ...................................................\n",
      "[CV]  alpha=10000.0, neg_mean_squared_error=-11.041, r2=-0.000, total=   0.0s\n",
      "[CV] alpha=10000.0 ...................................................\n",
      "[CV]  alpha=10000.0, neg_mean_squared_error=-9.362, r2=-0.000, total=   0.0s\n",
      "[CV] alpha=10000.0 ...................................................\n",
      "[CV]  alpha=10000.0, neg_mean_squared_error=-10.125, r2=-0.001, total=   0.0s\n",
      "[CV] alpha=10000.0 ...................................................\n",
      "[CV]  alpha=10000.0, neg_mean_squared_error=-12.012, r2=-0.000, total=   0.0s\n",
      "[CV] alpha=10000.0 ...................................................\n",
      "[CV]  alpha=10000.0, neg_mean_squared_error=-12.446, r2=-0.000, total=   0.0s\n",
      "[CV] alpha=100000.0 ..................................................\n",
      "[CV]  alpha=100000.0, neg_mean_squared_error=-11.041, r2=-0.000, total=   0.0s\n",
      "[CV] alpha=100000.0 ..................................................\n",
      "[CV]  alpha=100000.0, neg_mean_squared_error=-9.362, r2=-0.000, total=   0.0s\n",
      "[CV] alpha=100000.0 ..................................................\n",
      "[CV]  alpha=100000.0, neg_mean_squared_error=-10.125, r2=-0.001, total=   0.0s\n",
      "[CV] alpha=100000.0 ..................................................\n",
      "[CV]  alpha=100000.0, neg_mean_squared_error=-12.012, r2=-0.000, total=   0.0s\n",
      "[CV] alpha=100000.0 ..................................................\n",
      "[CV]  alpha=100000.0, neg_mean_squared_error=-12.446, r2=-0.000, total=   0.0s\n",
      "[CV] alpha=1000000.0 .................................................\n",
      "[CV]  alpha=1000000.0, neg_mean_squared_error=-11.041, r2=-0.000, total=   0.0s\n",
      "[CV] alpha=1000000.0 .................................................\n",
      "[CV]  alpha=1000000.0, neg_mean_squared_error=-9.362, r2=-0.000, total=   0.0s\n",
      "[CV] alpha=1000000.0 .................................................\n",
      "[CV]  alpha=1000000.0, neg_mean_squared_error=-10.125, r2=-0.001, total=   0.0s\n",
      "[CV] alpha=1000000.0 .................................................\n",
      "[CV]  alpha=1000000.0, neg_mean_squared_error=-12.012, r2=-0.000, total=   0.0s\n",
      "[CV] alpha=1000000.0 .................................................\n",
      "[CV]  alpha=1000000.0, neg_mean_squared_error=-12.446, r2=-0.000, total=   0.0s\n"
     ]
    },
    {
     "name": "stderr",
     "output_type": "stream",
     "text": [
      "[Parallel(n_jobs=1)]: Done  65 out of  65 | elapsed:    0.3s finished\n"
     ]
    },
    {
     "data": {
      "text/plain": [
       "GridSearchCV(cv=5, estimator=Lasso(normalize=True),\n",
       "             param_grid={'alpha': array([1.e-06, 1.e-05, 1.e-04, 1.e-03, 1.e-02, 1.e-01, 1.e+00, 1.e+01,\n",
       "       1.e+02, 1.e+03, 1.e+04, 1.e+05, 1.e+06])},\n",
       "             refit='r2', scoring=['neg_mean_squared_error', 'r2'], verbose=4)"
      ]
     },
     "execution_count": 122,
     "metadata": {},
     "output_type": "execute_result"
    }
   ],
   "source": [
    "search.fit(X_train,y_train)"
   ]
  },
  {
   "cell_type": "code",
   "execution_count": 123,
   "metadata": {},
   "outputs": [
    {
     "name": "stdout",
     "output_type": "stream",
     "text": [
      "Lasso(alpha=0.01, normalize=True)\n",
      "{'alpha': 0.01}\n",
      "0.3552620142339327\n"
     ]
    }
   ],
   "source": [
    "## Print best results\n",
    "\n",
    "print(search.best_estimator_)\n",
    "print(search.best_params_)\n",
    "print(abs(search.best_score_))"
   ]
  },
  {
   "cell_type": "code",
   "execution_count": 124,
   "metadata": {},
   "outputs": [
    {
     "data": {
      "text/plain": [
       "Lasso(alpha=0.01, normalize=True, tol=0.001)"
      ]
     },
     "execution_count": 124,
     "metadata": {},
     "output_type": "execute_result"
    }
   ],
   "source": [
    "l_reg = Lasso(alpha = .01, tol = .001, normalize=True)\n",
    "l_reg.fit(X_test, y_test)"
   ]
  },
  {
   "cell_type": "code",
   "execution_count": 125,
   "metadata": {},
   "outputs": [],
   "source": [
    "# Make predictions using the test dataset\n",
    "\n",
    "predictions = l_reg.predict(X_test)"
   ]
  },
  {
   "cell_type": "code",
   "execution_count": 126,
   "metadata": {},
   "outputs": [
    {
     "name": "stdout",
     "output_type": "stream",
     "text": [
      "mean_squared_error :  6.021535586173164\n",
      "mean_absolute_error :  1.9387669970849577\n"
     ]
    }
   ],
   "source": [
    "# model evaluation\n",
    "print('mean_squared_error : ', mean_squared_error(y_test, predictions))\n",
    "print('mean_absolute_error : ', mean_absolute_error(y_test, predictions))"
   ]
  },
  {
   "cell_type": "markdown",
   "metadata": {},
   "source": [
    "### Compute R-square using the formula and print. "
   ]
  },
  {
   "cell_type": "code",
   "execution_count": 127,
   "metadata": {},
   "outputs": [
    {
     "name": "stdout",
     "output_type": "stream",
     "text": [
      "0.4620281293537227\n"
     ]
    }
   ],
   "source": [
    "SS_Residual = sum((y_test-predictions)**2)       \n",
    "SS_Total = sum((y_test-np.mean(y_test))**2)     \n",
    "\n",
    "r_squared = 1 - (float(SS_Residual))/SS_Total\n",
    "\n",
    "print(r_squared)"
   ]
  },
  {
   "cell_type": "markdown",
   "metadata": {},
   "source": [
    "### Convert predictions, a numpy array, to a dataframe, scatdf, then rename the variable in the dataframe from 0 to Pred."
   ]
  },
  {
   "cell_type": "code",
   "execution_count": null,
   "metadata": {},
   "outputs": [],
   "source": [
    "scatdf = pd.DataFrame(predictions)\n",
    "\n",
    "scatdf = scatdf.rename({0:'Pred'}, axis=1)"
   ]
  },
  {
   "cell_type": "markdown",
   "metadata": {},
   "source": [
    "### Using seaborn library, return scatterplot of predicted values (Pred) and actual values (Life_Happy)"
   ]
  },
  {
   "cell_type": "code",
   "execution_count": 128,
   "metadata": {},
   "outputs": [
    {
     "data": {
      "text/plain": [
       "<AxesSubplot:xlabel='Life_Happy', ylabel='Pred'>"
      ]
     },
     "execution_count": 128,
     "metadata": {},
     "output_type": "execute_result"
    },
    {
     "data": {
      "image/png": "[encoded data removed]",
      "text/plain": [
       "<Figure size 432x288 with 1 Axes>"
      ]
     },
     "metadata": {},
     "output_type": "display_data"
    }
   ],
   "source": [
    "sns.set(style='whitegrid')\n",
    "\n",
    "sns.regplot(x = y,  ## regplot returns the regression line whereas scatterplot does not\n",
    "            y = scatdf['Pred'])"
   ]
  },
  {
   "cell_type": "code",
   "execution_count": 129,
   "metadata": {},
   "outputs": [
    {
     "data": {
      "text/plain": [
       "3.9410319294312983"
      ]
     },
     "execution_count": 129,
     "metadata": {},
     "output_type": "execute_result"
    }
   ],
   "source": [
    "np.sum(abs(l_reg.coef_))"
   ]
  },
  {
   "cell_type": "code",
   "execution_count": 130,
   "metadata": {},
   "outputs": [
    {
     "data": {
      "text/plain": [
       "{'Q1': 0.0,\n",
       " 'Q2': -0.0,\n",
       " 'Q3': 0.0,\n",
       " 'Q4': 0.0,\n",
       " 'Q5': -0.0,\n",
       " 'Q6': -0.3641788205527157,\n",
       " 'Q7': -0.0,\n",
       " 'Q8': -0.0,\n",
       " 'Q9': -0.0,\n",
       " 'Q10': 0.0,\n",
       " 'Q11': 0.2745947329398475,\n",
       " 'Q12': -0.0,\n",
       " 'Q13': 0.0,\n",
       " 'Q14': 0.3526981896515897,\n",
       " 'Q15': -0.0,\n",
       " 'Q16': 0.0,\n",
       " 'Q17': -0.0,\n",
       " 'Q18': -0.03662965331587076,\n",
       " 'Q19': 0.0,\n",
       " 'Q20': -0.0,\n",
       " 'Q21': 0.0,\n",
       " 'Q22': 0.0,\n",
       " 'Q23': -0.0,\n",
       " 'Q24': -0.0,\n",
       " 'Q25': -0.0,\n",
       " 'Q26': -0.0,\n",
       " 'Q27': -0.0,\n",
       " 'Q28': -0.0,\n",
       " 'Q29': 0.0,\n",
       " 'Q30': 0.0,\n",
       " 'Q31': 0.10728989291174407,\n",
       " 'Q32': -0.0,\n",
       " 'Q33': 0.07414214093847911,\n",
       " 'Q34': 0.20292059660999395,\n",
       " 'Q35': 0.0,\n",
       " 'Q36': -0.030684662246973225,\n",
       " 'Q37': 0.0,\n",
       " 'Q38': 0.0,\n",
       " 'Q39': 0.12752824160904042,\n",
       " 'Q40': 0.0,\n",
       " 'Q41': -0.0,\n",
       " 'Q42': 0.0,\n",
       " 'Q43': 0.04638546955267123,\n",
       " 'Q44': 0.05182290031766459,\n",
       " 'Q45': -0.0,\n",
       " 'Q47': -0.33590409530865983,\n",
       " 'Q48': 0.2827395340273111,\n",
       " 'Q50': 0.453174682991029,\n",
       " 'Q51': 0.0,\n",
       " 'Q52': -0.0,\n",
       " 'Q53': 0.02301070855446296,\n",
       " 'Q54': -0.0,\n",
       " 'Q55': 0.0,\n",
       " 'Q56': -0.003822703944253335,\n",
       " 'Q57': 0.0,\n",
       " 'Q58': -0.24157438404573367,\n",
       " 'Q59': -0.0,\n",
       " 'Q60': -0.0,\n",
       " 'Q61': -0.047678463355614265,\n",
       " 'Q62': -0.048685500070802745,\n",
       " 'Q63': -0.0,\n",
       " 'Q64': -0.0,\n",
       " 'Q65': -0.029143895159875668,\n",
       " 'Q66': -0.0,\n",
       " 'Q67': -0.0,\n",
       " 'Q68': -0.0,\n",
       " 'Q69': -0.07551060744892374,\n",
       " 'Q70': -0.0,\n",
       " 'Q71': -0.0,\n",
       " 'Q72': 0.037230674854771995,\n",
       " 'Q73': 0.0,\n",
       " 'Q74': -0.0,\n",
       " 'Q75': -0.0,\n",
       " 'Q76': 0.0,\n",
       " 'Q77': -0.40037200879988805,\n",
       " 'Q78': -0.06119730370015539,\n",
       " 'Q79': 0.0,\n",
       " 'Q80': -0.04916354274470493,\n",
       " 'Q81': -0.0,\n",
       " 'Q83': 0.0,\n",
       " 'Q88': 0.0,\n",
       " 'Q195': -0.0,\n",
       " 'Q196': -0.0,\n",
       " 'Q197': -0.0,\n",
       " 'Q198': -0.05543275753788151,\n",
       " 'Q199': 0.015503487039801448,\n",
       " 'Q200': 0.0,\n",
       " 'Q201': 0.0,\n",
       " 'Q202': -0.04393767335320677,\n",
       " 'Q203': 0.0,\n",
       " 'Q204': 0.0,\n",
       " 'Q205': 0.0,\n",
       " 'Q206': 0.0,\n",
       " 'Q207': 0.0680746058476318}"
      ]
     },
     "execution_count": 130,
     "metadata": {},
     "output_type": "execute_result"
    }
   ],
   "source": [
    "coef_dict_lasso = {}\n",
    "for coef, feature in zip(l_reg.coef_, X.columns): \n",
    "    coef_dict_lasso[feature] = coef\n",
    "coef_dict_lasso"
   ]
  },
  {
   "cell_type": "code",
   "execution_count": null,
   "metadata": {},
   "outputs": [],
   "source": []
  },
  {
   "cell_type": "markdown",
   "metadata": {},
   "source": [
    "# Elastic Net"
   ]
  },
  {
   "cell_type": "code",
   "execution_count": 132,
   "metadata": {},
   "outputs": [],
   "source": [
    "X_train, X_test, y_train, y_test = train_test_split(X, y, test_size=0.30, random_state=42)"
   ]
  },
  {
   "cell_type": "code",
   "execution_count": 133,
   "metadata": {},
   "outputs": [],
   "source": [
    "enet_reg = ElasticNet(normalize=True)"
   ]
  },
  {
   "cell_type": "code",
   "execution_count": 135,
   "metadata": {},
   "outputs": [],
   "source": [
    "## Specify the model hyperparameter alpha\n",
    "\n",
    "search = GridSearchCV(estimator = enet_reg, param_grid = {\n",
    "                      'alpha' : np.logspace(-6, 6, 13),\n",
    "                      'l1_ratio' : (.2, .4, .5, .6, .8)},\n",
    "                      scoring = ['neg_mean_squared_error', 'r2'],\n",
    "                      refit = 'r2',\n",
    "                      cv = 5,\n",
    "                      verbose = 4)"
   ]
  },
  {
   "cell_type": "code",
   "execution_count": 136,
   "metadata": {},
   "outputs": [
    {
     "name": "stdout",
     "output_type": "stream",
     "text": [
      "Fitting 5 folds for each of 65 candidates, totalling 325 fits\n",
      "[CV] alpha=1e-06, l1_ratio=0.2 .......................................\n",
      "[CV]  alpha=1e-06, l1_ratio=0.2, neg_mean_squared_error=-8.929, r2=0.191, total=   0.0s\n",
      "[CV] alpha=1e-06, l1_ratio=0.2 .......................................\n",
      "[CV]  alpha=1e-06, l1_ratio=0.2, neg_mean_squared_error=-8.546, r2=0.087, total=   0.0s\n",
      "[CV] alpha=1e-06, l1_ratio=0.2 .......................................\n",
      "[CV]  alpha=1e-06, l1_ratio=0.2, neg_mean_squared_error=-7.687, r2=0.240, total=   0.0s\n",
      "[CV] alpha=1e-06, l1_ratio=0.2 .......................................\n",
      "[CV]  alpha=1e-06, l1_ratio=0.2, neg_mean_squared_error=-7.453, r2=0.379, total=   0.0s\n",
      "[CV] alpha=1e-06, l1_ratio=0.2 .......................................\n",
      "[CV]  alpha=1e-06, l1_ratio=0.2, neg_mean_squared_error=-7.041, r2=0.434, total=   0.0s\n",
      "[CV] alpha=1e-06, l1_ratio=0.4 .......................................\n",
      "[CV]  alpha=1e-06, l1_ratio=0.4, neg_mean_squared_error=-8.930, r2=0.191, total=   0.0s\n",
      "[CV] alpha=1e-06, l1_ratio=0.4 .......................................\n",
      "[CV]  alpha=1e-06, l1_ratio=0.4, neg_mean_squared_error=-8.547, r2=0.087, total=   0.0s\n",
      "[CV] alpha=1e-06, l1_ratio=0.4 .......................................\n",
      "[CV]  alpha=1e-06, l1_ratio=0.4, neg_mean_squared_error=-7.688, r2=0.240, total=   0.0s\n",
      "[CV] alpha=1e-06, l1_ratio=0.4 .......................................\n",
      "[CV]  alpha=1e-06, l1_ratio=0.4, neg_mean_squared_error=-7.453, r2=0.379, total=   0.0s\n",
      "[CV] alpha=1e-06, l1_ratio=0.4 .......................................\n",
      "[CV]  alpha=1e-06, l1_ratio=0.4, neg_mean_squared_error=-7.041, r2=0.434, total=   0.0s\n",
      "[CV] alpha=1e-06, l1_ratio=0.5 .......................................\n",
      "[CV]  alpha=1e-06, l1_ratio=0.5, neg_mean_squared_error=-8.931, r2=0.191, total=   0.0s\n",
      "[CV] alpha=1e-06, l1_ratio=0.5 .......................................\n",
      "[CV]  alpha=1e-06, l1_ratio=0.5, neg_mean_squared_error=-8.547, r2=0.087, total=   0.0s\n",
      "[CV] alpha=1e-06, l1_ratio=0.5 .......................................\n",
      "[CV]  alpha=1e-06, l1_ratio=0.5, neg_mean_squared_error=-7.688, r2=0.240, total=   0.0s\n",
      "[CV] alpha=1e-06, l1_ratio=0.5 .......................................\n",
      "[CV]  alpha=1e-06, l1_ratio=0.5, neg_mean_squared_error=-7.454, r2=0.379, total=   0.0s\n",
      "[CV] alpha=1e-06, l1_ratio=0.5 .......................................\n",
      "[CV]  alpha=1e-06, l1_ratio=0.5, neg_mean_squared_error=-7.041, r2=0.434, total=   0.0s\n",
      "[CV] alpha=1e-06, l1_ratio=0.6 .......................................\n",
      "[CV]  alpha=1e-06, l1_ratio=0.6, neg_mean_squared_error=-8.931, r2=0.191, total=   0.0s\n",
      "[CV] alpha=1e-06, l1_ratio=0.6 .......................................\n",
      "[CV]  alpha=1e-06, l1_ratio=0.6, neg_mean_squared_error=-8.548, r2=0.087, total=   0.0s\n",
      "[CV] alpha=1e-06, l1_ratio=0.6 .......................................\n",
      "[CV]  alpha=1e-06, l1_ratio=0.6, neg_mean_squared_error=-7.688, r2=0.240, total=   0.0s\n",
      "[CV] alpha=1e-06, l1_ratio=0.6 .......................................\n",
      "[CV]  alpha=1e-06, l1_ratio=0.6, neg_mean_squared_error=-7.454, r2=0.379, total=   0.0s\n",
      "[CV] alpha=1e-06, l1_ratio=0.6 .......................................\n",
      "[CV]  alpha=1e-06, l1_ratio=0.6, neg_mean_squared_error=-7.041, r2=0.434, total=   0.0s\n",
      "[CV] alpha=1e-06, l1_ratio=0.8 .......................................\n",
      "[CV]  alpha=1e-06, l1_ratio=0.8, neg_mean_squared_error=-8.932, r2=0.191, total=   0.0s\n",
      "[CV] alpha=1e-06, l1_ratio=0.8 .......................................\n",
      "[CV]  alpha=1e-06, l1_ratio=0.8, neg_mean_squared_error=-8.549, r2=0.087, total=   0.0s"
     ]
    },
    {
     "name": "stderr",
     "output_type": "stream",
     "text": [
      "[Parallel(n_jobs=1)]: Using backend SequentialBackend with 1 concurrent workers.\n",
      "[Parallel(n_jobs=1)]: Done   1 out of   1 | elapsed:    0.0s remaining:    0.0s\n",
      "[Parallel(n_jobs=1)]: Done   2 out of   2 | elapsed:    0.0s remaining:    0.0s\n",
      "[Parallel(n_jobs=1)]: Done   3 out of   3 | elapsed:    0.0s remaining:    0.0s\n"
     ]
    },
    {
     "name": "stdout",
     "output_type": "stream",
     "text": [
      "\n",
      "[CV] alpha=1e-06, l1_ratio=0.8 .......................................\n",
      "[CV]  alpha=1e-06, l1_ratio=0.8, neg_mean_squared_error=-7.689, r2=0.240, total=   0.0s\n",
      "[CV] alpha=1e-06, l1_ratio=0.8 .......................................\n",
      "[CV]  alpha=1e-06, l1_ratio=0.8, neg_mean_squared_error=-7.454, r2=0.379, total=   0.0s\n",
      "[CV] alpha=1e-06, l1_ratio=0.8 .......................................\n",
      "[CV]  alpha=1e-06, l1_ratio=0.8, neg_mean_squared_error=-7.041, r2=0.434, total=   0.0s\n",
      "[CV] alpha=1e-05, l1_ratio=0.2 .......................................\n",
      "[CV]  alpha=1e-05, l1_ratio=0.2, neg_mean_squared_error=-8.887, r2=0.195, total=   0.0s\n",
      "[CV] alpha=1e-05, l1_ratio=0.2 .......................................\n",
      "[CV]  alpha=1e-05, l1_ratio=0.2, neg_mean_squared_error=-8.511, r2=0.091, total=   0.0s\n",
      "[CV] alpha=1e-05, l1_ratio=0.2 .......................................\n",
      "[CV]  alpha=1e-05, l1_ratio=0.2, neg_mean_squared_error=-7.663, r2=0.243, total=   0.0s\n",
      "[CV] alpha=1e-05, l1_ratio=0.2 .......................................\n",
      "[CV]  alpha=1e-05, l1_ratio=0.2, neg_mean_squared_error=-7.438, r2=0.380, total=   0.0s\n",
      "[CV] alpha=1e-05, l1_ratio=0.2 .......................................\n",
      "[CV]  alpha=1e-05, l1_ratio=0.2, neg_mean_squared_error=-7.033, r2=0.435, total=   0.0s\n",
      "[CV] alpha=1e-05, l1_ratio=0.4 .......................................\n",
      "[CV]  alpha=1e-05, l1_ratio=0.4, neg_mean_squared_error=-8.896, r2=0.194, total=   0.0s\n",
      "[CV] alpha=1e-05, l1_ratio=0.4 .......................................\n",
      "[CV]  alpha=1e-05, l1_ratio=0.4, neg_mean_squared_error=-8.519, r2=0.090, total=   0.0s\n",
      "[CV] alpha=1e-05, l1_ratio=0.4 .......................................\n",
      "[CV]  alpha=1e-05, l1_ratio=0.4, neg_mean_squared_error=-7.669, r2=0.242, total=   0.0s\n",
      "[CV] alpha=1e-05, l1_ratio=0.4 .......................................\n",
      "[CV]  alpha=1e-05, l1_ratio=0.4, neg_mean_squared_error=-7.441, r2=0.380, total=   0.0s\n",
      "[CV] alpha=1e-05, l1_ratio=0.4 .......................................\n",
      "[CV]  alpha=1e-05, l1_ratio=0.4, neg_mean_squared_error=-7.034, r2=0.435, total=   0.0s\n",
      "[CV] alpha=1e-05, l1_ratio=0.5 .......................................\n",
      "[CV]  alpha=1e-05, l1_ratio=0.5, neg_mean_squared_error=-8.900, r2=0.194, total=   0.0s\n",
      "[CV] alpha=1e-05, l1_ratio=0.5 .......................................\n",
      "[CV]  alpha=1e-05, l1_ratio=0.5, neg_mean_squared_error=-8.523, r2=0.090, total=   0.0s\n",
      "[CV] alpha=1e-05, l1_ratio=0.5 .......................................\n",
      "[CV]  alpha=1e-05, l1_ratio=0.5, neg_mean_squared_error=-7.672, r2=0.242, total=   0.0s\n",
      "[CV] alpha=1e-05, l1_ratio=0.5 .......................................\n",
      "[CV]  alpha=1e-05, l1_ratio=0.5, neg_mean_squared_error=-7.443, r2=0.380, total=   0.0s\n",
      "[CV] alpha=1e-05, l1_ratio=0.5 .......................................\n",
      "[CV]  alpha=1e-05, l1_ratio=0.5, neg_mean_squared_error=-7.034, r2=0.435, total=   0.0s\n",
      "[CV] alpha=1e-05, l1_ratio=0.6 .......................................\n",
      "[CV]  alpha=1e-05, l1_ratio=0.6, neg_mean_squared_error=-8.905, r2=0.193, total=   0.0s\n",
      "[CV] alpha=1e-05, l1_ratio=0.6 .......................................\n",
      "[CV]  alpha=1e-05, l1_ratio=0.6, neg_mean_squared_error=-8.527, r2=0.089, total=   0.0s\n",
      "[CV] alpha=1e-05, l1_ratio=0.6 .......................................\n",
      "[CV]  alpha=1e-05, l1_ratio=0.6, neg_mean_squared_error=-7.674, r2=0.241, total=   0.0s\n",
      "[CV] alpha=1e-05, l1_ratio=0.6 .......................................\n",
      "[CV]  alpha=1e-05, l1_ratio=0.6, neg_mean_squared_error=-7.444, r2=0.380, total=   0.0s\n",
      "[CV] alpha=1e-05, l1_ratio=0.6 .......................................\n",
      "[CV]  alpha=1e-05, l1_ratio=0.6, neg_mean_squared_error=-7.035, r2=0.435, total=   0.0s\n",
      "[CV] alpha=1e-05, l1_ratio=0.8 .......................................\n",
      "[CV]  alpha=1e-05, l1_ratio=0.8, neg_mean_squared_error=-8.914, r2=0.193, total=   0.0s\n",
      "[CV] alpha=1e-05, l1_ratio=0.8 .......................................\n",
      "[CV]  alpha=1e-05, l1_ratio=0.8, neg_mean_squared_error=-8.535, r2=0.088, total=   0.0s\n",
      "[CV] alpha=1e-05, l1_ratio=0.8 .......................................\n",
      "[CV]  alpha=1e-05, l1_ratio=0.8, neg_mean_squared_error=-7.680, r2=0.241, total=   0.0s\n",
      "[CV] alpha=1e-05, l1_ratio=0.8 .......................................\n",
      "[CV]  alpha=1e-05, l1_ratio=0.8, neg_mean_squared_error=-7.448, r2=0.380, total=   0.0s\n",
      "[CV] alpha=1e-05, l1_ratio=0.8 .......................................\n",
      "[CV]  alpha=1e-05, l1_ratio=0.8, neg_mean_squared_error=-7.036, r2=0.435, total=   0.0s\n",
      "[CV] alpha=0.0001, l1_ratio=0.2 ......................................\n",
      "[CV]  alpha=0.0001, l1_ratio=0.2, neg_mean_squared_error=-8.557, r2=0.225, total=   0.0s\n",
      "[CV] alpha=0.0001, l1_ratio=0.2 ......................................\n",
      "[CV]  alpha=0.0001, l1_ratio=0.2, neg_mean_squared_error=-8.225, r2=0.121, total=   0.0s\n",
      "[CV] alpha=0.0001, l1_ratio=0.2 ......................................\n",
      "[CV]  alpha=0.0001, l1_ratio=0.2, neg_mean_squared_error=-7.463, r2=0.262, total=   0.0s\n",
      "[CV] alpha=0.0001, l1_ratio=0.2 ......................................\n",
      "[CV]  alpha=0.0001, l1_ratio=0.2, neg_mean_squared_error=-7.319, r2=0.390, total=   0.0s\n",
      "[CV] alpha=0.0001, l1_ratio=0.2 ......................................\n",
      "[CV]  alpha=0.0001, l1_ratio=0.2, neg_mean_squared_error=-6.986, r2=0.439, total=   0.0s\n",
      "[CV] alpha=0.0001, l1_ratio=0.4 ......................................\n",
      "[CV]  alpha=0.0001, l1_ratio=0.4, neg_mean_squared_error=-8.613, r2=0.220, total=   0.0s\n",
      "[CV] alpha=0.0001, l1_ratio=0.4 ......................................\n",
      "[CV]  alpha=0.0001, l1_ratio=0.4, neg_mean_squared_error=-8.279, r2=0.116, total=   0.0s\n",
      "[CV] alpha=0.0001, l1_ratio=0.4 ......................................\n",
      "[CV]  alpha=0.0001, l1_ratio=0.4, neg_mean_squared_error=-7.504, r2=0.258, total=   0.0s\n",
      "[CV] alpha=0.0001, l1_ratio=0.4 ......................................\n",
      "[CV]  alpha=0.0001, l1_ratio=0.4, neg_mean_squared_error=-7.340, r2=0.389, total=   0.0s\n",
      "[CV] alpha=0.0001, l1_ratio=0.4 ......................................\n",
      "[CV]  alpha=0.0001, l1_ratio=0.4, neg_mean_squared_error=-6.985, r2=0.439, total=   0.0s\n",
      "[CV] alpha=0.0001, l1_ratio=0.5 ......................................\n",
      "[CV]  alpha=0.0001, l1_ratio=0.5, neg_mean_squared_error=-8.644, r2=0.217, total=   0.0s\n",
      "[CV] alpha=0.0001, l1_ratio=0.5 ......................................\n",
      "[CV]  alpha=0.0001, l1_ratio=0.5, neg_mean_squared_error=-8.308, r2=0.113, total=   0.0s\n",
      "[CV] alpha=0.0001, l1_ratio=0.5 ......................................\n",
      "[CV]  alpha=0.0001, l1_ratio=0.5, neg_mean_squared_error=-7.526, r2=0.256, total=   0.0s\n",
      "[CV] alpha=0.0001, l1_ratio=0.5 ......................................\n",
      "[CV]  alpha=0.0001, l1_ratio=0.5, neg_mean_squared_error=-7.351, r2=0.388, total=   0.0s\n",
      "[CV] alpha=0.0001, l1_ratio=0.5 ......................................\n",
      "[CV]  alpha=0.0001, l1_ratio=0.5, neg_mean_squared_error=-6.984, r2=0.439, total=   0.0s\n",
      "[CV] alpha=0.0001, l1_ratio=0.6 ......................................\n",
      "[CV]  alpha=0.0001, l1_ratio=0.6, neg_mean_squared_error=-8.676, r2=0.214, total=   0.0s\n",
      "[CV] alpha=0.0001, l1_ratio=0.6 ......................................\n",
      "[CV]  alpha=0.0001, l1_ratio=0.6, neg_mean_squared_error=-8.338, r2=0.109, total=   0.0s\n",
      "[CV] alpha=0.0001, l1_ratio=0.6 ......................................\n",
      "[CV]  alpha=0.0001, l1_ratio=0.6, neg_mean_squared_error=-7.548, r2=0.254, total=   0.0s\n",
      "[CV] alpha=0.0001, l1_ratio=0.6 ......................................\n",
      "[CV]  alpha=0.0001, l1_ratio=0.6, neg_mean_squared_error=-7.363, r2=0.387, total=   0.0s\n",
      "[CV] alpha=0.0001, l1_ratio=0.6 ......................................\n",
      "[CV]  alpha=0.0001, l1_ratio=0.6, neg_mean_squared_error=-6.984, r2=0.439, total=   0.0s\n",
      "[CV] alpha=0.0001, l1_ratio=0.8 ......................................\n",
      "[CV]  alpha=0.0001, l1_ratio=0.8, neg_mean_squared_error=-8.748, r2=0.208, total=   0.0s\n",
      "[CV] alpha=0.0001, l1_ratio=0.8 ......................................\n",
      "[CV]  alpha=0.0001, l1_ratio=0.8, neg_mean_squared_error=-8.403, r2=0.103, total=   0.0s\n",
      "[CV] alpha=0.0001, l1_ratio=0.8 ......................................\n",
      "[CV]  alpha=0.0001, l1_ratio=0.8, neg_mean_squared_error=-7.596, r2=0.249, total=   0.0s\n",
      "[CV] alpha=0.0001, l1_ratio=0.8 ......................................\n",
      "[CV]  alpha=0.0001, l1_ratio=0.8, neg_mean_squared_error=-7.389, r2=0.385, total=   0.0s\n",
      "[CV] alpha=0.0001, l1_ratio=0.8 ......................................\n",
      "[CV]  alpha=0.0001, l1_ratio=0.8, neg_mean_squared_error=-6.986, r2=0.439, total=   0.0s\n",
      "[CV] alpha=0.001, l1_ratio=0.2 .......................................\n",
      "[CV]  alpha=0.001, l1_ratio=0.2, neg_mean_squared_error=-7.803, r2=0.293, total=   0.0s\n",
      "[CV] alpha=0.001, l1_ratio=0.2 .......................................\n",
      "[CV]  alpha=0.001, l1_ratio=0.2, neg_mean_squared_error=-7.385, r2=0.211, total=   0.0s\n",
      "[CV] alpha=0.001, l1_ratio=0.2 .......................................\n",
      "[CV]  alpha=0.001, l1_ratio=0.2, neg_mean_squared_error=-6.803, r2=0.328, total=   0.0s\n",
      "[CV] alpha=0.001, l1_ratio=0.2 .......................................\n",
      "[CV]  alpha=0.001, l1_ratio=0.2, neg_mean_squared_error=-7.172, r2=0.403, total=   0.0s\n",
      "[CV] alpha=0.001, l1_ratio=0.2 .......................................\n",
      "[CV]  alpha=0.001, l1_ratio=0.2, neg_mean_squared_error=-7.200, r2=0.421, total=   0.0s\n",
      "[CV] alpha=0.001, l1_ratio=0.4 .......................................\n",
      "[CV]  alpha=0.001, l1_ratio=0.4, neg_mean_squared_error=-7.812, r2=0.292, total=   0.0s\n",
      "[CV] alpha=0.001, l1_ratio=0.4 .......................................\n",
      "[CV]  alpha=0.001, l1_ratio=0.4, neg_mean_squared_error=-7.409, r2=0.209, total=   0.0s\n",
      "[CV] alpha=0.001, l1_ratio=0.4 .......................................\n",
      "[CV]  alpha=0.001, l1_ratio=0.4, neg_mean_squared_error=-6.827, r2=0.325, total=   0.0s\n",
      "[CV] alpha=0.001, l1_ratio=0.4 .......................................\n",
      "[CV]  alpha=0.001, l1_ratio=0.4, neg_mean_squared_error=-7.122, r2=0.407, total=   0.0s\n",
      "[CV] alpha=0.001, l1_ratio=0.4 .......................................\n",
      "[CV]  alpha=0.001, l1_ratio=0.4, neg_mean_squared_error=-7.079, r2=0.431, total=   0.0s\n",
      "[CV] alpha=0.001, l1_ratio=0.5 .......................................\n",
      "[CV]  alpha=0.001, l1_ratio=0.5, neg_mean_squared_error=-7.825, r2=0.291, total=   0.0s\n",
      "[CV] alpha=0.001, l1_ratio=0.5 .......................................\n",
      "[CV]  alpha=0.001, l1_ratio=0.5, neg_mean_squared_error=-7.435, r2=0.206, total=   0.0s\n",
      "[CV] alpha=0.001, l1_ratio=0.5 .......................................\n",
      "[CV]  alpha=0.001, l1_ratio=0.5, neg_mean_squared_error=-6.852, r2=0.323, total=   0.0s\n",
      "[CV] alpha=0.001, l1_ratio=0.5 .......................................\n",
      "[CV]  alpha=0.001, l1_ratio=0.5, neg_mean_squared_error=-7.105, r2=0.408, total=   0.0s\n",
      "[CV] alpha=0.001, l1_ratio=0.5 .......................................\n",
      "[CV]  alpha=0.001, l1_ratio=0.5, neg_mean_squared_error=-7.011, r2=0.437, total=   0.0s\n",
      "[CV] alpha=0.001, l1_ratio=0.6 .......................................\n",
      "[CV]  alpha=0.001, l1_ratio=0.6, neg_mean_squared_error=-7.846, r2=0.289, total=   0.0s\n",
      "[CV] alpha=0.001, l1_ratio=0.6 .......................................\n",
      "[CV]  alpha=0.001, l1_ratio=0.6, neg_mean_squared_error=-7.476, r2=0.202, total=   0.0s\n",
      "[CV] alpha=0.001, l1_ratio=0.6 .......................................\n",
      "[CV]  alpha=0.001, l1_ratio=0.6, neg_mean_squared_error=-6.892, r2=0.319, total=   0.0s\n",
      "[CV] alpha=0.001, l1_ratio=0.6 .......................................\n",
      "[CV]  alpha=0.001, l1_ratio=0.6, neg_mean_squared_error=-7.096, r2=0.409, total=   0.0s\n",
      "[CV] alpha=0.001, l1_ratio=0.6 .......................................\n",
      "[CV]  alpha=0.001, l1_ratio=0.6, neg_mean_squared_error=-6.941, r2=0.442, total=   0.0s\n",
      "[CV] alpha=0.001, l1_ratio=0.8 .......................................\n",
      "[CV]  alpha=0.001, l1_ratio=0.8, neg_mean_squared_error=-7.940, r2=0.281, total=   0.0s\n",
      "[CV] alpha=0.001, l1_ratio=0.8 .......................................\n",
      "[CV]  alpha=0.001, l1_ratio=0.8, neg_mean_squared_error=-7.617, r2=0.186, total=   0.0s\n",
      "[CV] alpha=0.001, l1_ratio=0.8 .......................................\n",
      "[CV]  alpha=0.001, l1_ratio=0.8, neg_mean_squared_error=-7.019, r2=0.306, total=   0.0s\n",
      "[CV] alpha=0.001, l1_ratio=0.8 .......................................\n",
      "[CV]  alpha=0.001, l1_ratio=0.8, neg_mean_squared_error=-7.118, r2=0.407, total=   0.0s\n",
      "[CV] alpha=0.001, l1_ratio=0.8 .......................................\n"
     ]
    },
    {
     "name": "stdout",
     "output_type": "stream",
     "text": [
      "[CV]  alpha=0.001, l1_ratio=0.8, neg_mean_squared_error=-6.792, r2=0.454, total=   0.0s\n",
      "[CV] alpha=0.01, l1_ratio=0.2 ........................................\n",
      "[CV]  alpha=0.01, l1_ratio=0.2, neg_mean_squared_error=-9.012, r2=0.184, total=   0.0s\n",
      "[CV] alpha=0.01, l1_ratio=0.2 ........................................\n",
      "[CV]  alpha=0.01, l1_ratio=0.2, neg_mean_squared_error=-7.950, r2=0.151, total=   0.0s\n",
      "[CV] alpha=0.01, l1_ratio=0.2 ........................................\n",
      "[CV]  alpha=0.01, l1_ratio=0.2, neg_mean_squared_error=-7.938, r2=0.215, total=   0.0s\n",
      "[CV] alpha=0.01, l1_ratio=0.2 ........................................\n",
      "[CV]  alpha=0.01, l1_ratio=0.2, neg_mean_squared_error=-9.269, r2=0.228, total=   0.0s\n",
      "[CV] alpha=0.01, l1_ratio=0.2 ........................................\n",
      "[CV]  alpha=0.01, l1_ratio=0.2, neg_mean_squared_error=-9.640, r2=0.225, total=   0.0s\n",
      "[CV] alpha=0.01, l1_ratio=0.4 ........................................\n",
      "[CV]  alpha=0.01, l1_ratio=0.4, neg_mean_squared_error=-8.865, r2=0.197, total=   0.0s\n",
      "[CV] alpha=0.01, l1_ratio=0.4 ........................................\n",
      "[CV]  alpha=0.01, l1_ratio=0.4, neg_mean_squared_error=-7.753, r2=0.172, total=   0.0s\n",
      "[CV] alpha=0.01, l1_ratio=0.4 ........................................\n",
      "[CV]  alpha=0.01, l1_ratio=0.4, neg_mean_squared_error=-7.736, r2=0.235, total=   0.0s\n",
      "[CV] alpha=0.01, l1_ratio=0.4 ........................................\n",
      "[CV]  alpha=0.01, l1_ratio=0.4, neg_mean_squared_error=-9.037, r2=0.247, total=   0.0s\n",
      "[CV] alpha=0.01, l1_ratio=0.4 ........................................\n",
      "[CV]  alpha=0.01, l1_ratio=0.4, neg_mean_squared_error=-9.394, r2=0.245, total=   0.0s\n",
      "[CV] alpha=0.01, l1_ratio=0.5 ........................................\n",
      "[CV]  alpha=0.01, l1_ratio=0.5, neg_mean_squared_error=-8.768, r2=0.206, total=   0.0s\n",
      "[CV] alpha=0.01, l1_ratio=0.5 ........................................\n",
      "[CV]  alpha=0.01, l1_ratio=0.5, neg_mean_squared_error=-7.631, r2=0.185, total=   0.0s\n",
      "[CV] alpha=0.01, l1_ratio=0.5 ........................................\n",
      "[CV]  alpha=0.01, l1_ratio=0.5, neg_mean_squared_error=-7.611, r2=0.248, total=   0.0s\n",
      "[CV] alpha=0.01, l1_ratio=0.5 ........................................\n",
      "[CV]  alpha=0.01, l1_ratio=0.5, neg_mean_squared_error=-8.896, r2=0.259, total=   0.0s\n",
      "[CV] alpha=0.01, l1_ratio=0.5 ........................................\n",
      "[CV]  alpha=0.01, l1_ratio=0.5, neg_mean_squared_error=-9.208, r2=0.260, total=   0.0s\n",
      "[CV] alpha=0.01, l1_ratio=0.6 ........................................\n",
      "[CV]  alpha=0.01, l1_ratio=0.6, neg_mean_squared_error=-8.643, r2=0.217, total=   0.0s\n",
      "[CV] alpha=0.01, l1_ratio=0.6 ........................................\n",
      "[CV]  alpha=0.01, l1_ratio=0.6, neg_mean_squared_error=-7.490, r2=0.200, total=   0.0s\n",
      "[CV] alpha=0.01, l1_ratio=0.6 ........................................\n",
      "[CV]  alpha=0.01, l1_ratio=0.6, neg_mean_squared_error=-7.467, r2=0.262, total=   0.0s\n",
      "[CV] alpha=0.01, l1_ratio=0.6 ........................................\n",
      "[CV]  alpha=0.01, l1_ratio=0.6, neg_mean_squared_error=-8.730, r2=0.273, total=   0.0s\n",
      "[CV] alpha=0.01, l1_ratio=0.6 ........................................\n",
      "[CV]  alpha=0.01, l1_ratio=0.6, neg_mean_squared_error=-8.973, r2=0.279, total=   0.0s\n",
      "[CV] alpha=0.01, l1_ratio=0.8 ........................................\n",
      "[CV]  alpha=0.01, l1_ratio=0.8, neg_mean_squared_error=-8.270, r2=0.251, total=   0.0s\n",
      "[CV] alpha=0.01, l1_ratio=0.8 ........................................\n",
      "[CV]  alpha=0.01, l1_ratio=0.8, neg_mean_squared_error=-7.100, r2=0.242, total=   0.0s\n",
      "[CV] alpha=0.01, l1_ratio=0.8 ........................................\n",
      "[CV]  alpha=0.01, l1_ratio=0.8, neg_mean_squared_error=-7.034, r2=0.305, total=   0.0s\n",
      "[CV] alpha=0.01, l1_ratio=0.8 ........................................\n",
      "[CV]  alpha=0.01, l1_ratio=0.8, neg_mean_squared_error=-8.222, r2=0.315, total=   0.0s\n",
      "[CV] alpha=0.01, l1_ratio=0.8 ........................................\n",
      "[CV]  alpha=0.01, l1_ratio=0.8, neg_mean_squared_error=-8.265, r2=0.336, total=   0.0s\n",
      "[CV] alpha=0.1, l1_ratio=0.2 .........................................\n",
      "[CV]  alpha=0.1, l1_ratio=0.2, neg_mean_squared_error=-10.862, r2=0.016, total=   0.0s\n",
      "[CV] alpha=0.1, l1_ratio=0.2 .........................................\n",
      "[CV]  alpha=0.1, l1_ratio=0.2, neg_mean_squared_error=-9.201, r2=0.017, total=   0.0s\n",
      "[CV] alpha=0.1, l1_ratio=0.2 .........................................\n",
      "[CV]  alpha=0.1, l1_ratio=0.2, neg_mean_squared_error=-9.924, r2=0.019, total=   0.0s\n",
      "[CV] alpha=0.1, l1_ratio=0.2 .........................................\n",
      "[CV]  alpha=0.1, l1_ratio=0.2, neg_mean_squared_error=-11.796, r2=0.017, total=   0.0s\n",
      "[CV] alpha=0.1, l1_ratio=0.2 .........................................\n",
      "[CV]  alpha=0.1, l1_ratio=0.2, neg_mean_squared_error=-12.199, r2=0.020, total=   0.0s\n",
      "[CV] alpha=0.1, l1_ratio=0.4 .........................................\n",
      "[CV]  alpha=0.1, l1_ratio=0.4, neg_mean_squared_error=-10.938, r2=0.009, total=   0.0s\n",
      "[CV] alpha=0.1, l1_ratio=0.4 .........................................\n",
      "[CV]  alpha=0.1, l1_ratio=0.4, neg_mean_squared_error=-9.283, r2=0.008, total=   0.0s\n",
      "[CV] alpha=0.1, l1_ratio=0.4 .........................................\n",
      "[CV]  alpha=0.1, l1_ratio=0.4, neg_mean_squared_error=-10.029, r2=0.009, total=   0.0s\n",
      "[CV] alpha=0.1, l1_ratio=0.4 .........................................\n",
      "[CV]  alpha=0.1, l1_ratio=0.4, neg_mean_squared_error=-11.910, r2=0.008, total=   0.0s\n",
      "[CV] alpha=0.1, l1_ratio=0.4 .........................................\n",
      "[CV]  alpha=0.1, l1_ratio=0.4, neg_mean_squared_error=-12.332, r2=0.009, total=   0.0s\n",
      "[CV] alpha=0.1, l1_ratio=0.5 .........................................\n",
      "[CV]  alpha=0.1, l1_ratio=0.5, neg_mean_squared_error=-10.976, r2=0.006, total=   0.0s\n",
      "[CV] alpha=0.1, l1_ratio=0.5 .........................................\n",
      "[CV]  alpha=0.1, l1_ratio=0.5, neg_mean_squared_error=-9.310, r2=0.006, total=   0.0s\n",
      "[CV] alpha=0.1, l1_ratio=0.5 .........................................\n",
      "[CV]  alpha=0.1, l1_ratio=0.5, neg_mean_squared_error=-10.065, r2=0.005, total=   0.0s\n",
      "[CV] alpha=0.1, l1_ratio=0.5 .........................................\n",
      "[CV]  alpha=0.1, l1_ratio=0.5, neg_mean_squared_error=-11.951, r2=0.005, total=   0.0s\n",
      "[CV] alpha=0.1, l1_ratio=0.5 .........................................\n",
      "[CV]  alpha=0.1, l1_ratio=0.5, neg_mean_squared_error=-12.394, r2=0.004, total=   0.0s\n",
      "[CV] alpha=0.1, l1_ratio=0.6 .........................................\n",
      "[CV]  alpha=0.1, l1_ratio=0.6, neg_mean_squared_error=-11.018, r2=0.002, total=   0.0s\n",
      "[CV] alpha=0.1, l1_ratio=0.6 .........................................\n",
      "[CV]  alpha=0.1, l1_ratio=0.6, neg_mean_squared_error=-9.334, r2=0.003, total=   0.0s\n",
      "[CV] alpha=0.1, l1_ratio=0.6 .........................................\n",
      "[CV]  alpha=0.1, l1_ratio=0.6, neg_mean_squared_error=-10.095, r2=0.002, total=   0.0s\n",
      "[CV] alpha=0.1, l1_ratio=0.6 .........................................\n",
      "[CV]  alpha=0.1, l1_ratio=0.6, neg_mean_squared_error=-11.984, r2=0.002, total=   0.0s\n",
      "[CV] alpha=0.1, l1_ratio=0.6 .........................................\n",
      "[CV]  alpha=0.1, l1_ratio=0.6, neg_mean_squared_error=-12.436, r2=0.001, total=   0.0s\n",
      "[CV] alpha=0.1, l1_ratio=0.8 .........................................\n",
      "[CV]  alpha=0.1, l1_ratio=0.8, neg_mean_squared_error=-11.041, r2=-0.000, total=   0.0s\n",
      "[CV] alpha=0.1, l1_ratio=0.8 .........................................\n",
      "[CV]  alpha=0.1, l1_ratio=0.8, neg_mean_squared_error=-9.362, r2=-0.000, total=   0.0s\n",
      "[CV] alpha=0.1, l1_ratio=0.8 .........................................\n",
      "[CV]  alpha=0.1, l1_ratio=0.8, neg_mean_squared_error=-10.125, r2=-0.001, total=   0.0s\n",
      "[CV] alpha=0.1, l1_ratio=0.8 .........................................\n",
      "[CV]  alpha=0.1, l1_ratio=0.8, neg_mean_squared_error=-12.012, r2=-0.000, total=   0.0s\n",
      "[CV] alpha=0.1, l1_ratio=0.8 .........................................\n",
      "[CV]  alpha=0.1, l1_ratio=0.8, neg_mean_squared_error=-12.446, r2=-0.000, total=   0.0s\n",
      "[CV] alpha=1.0, l1_ratio=0.2 .........................................\n",
      "[CV]  alpha=1.0, l1_ratio=0.2, neg_mean_squared_error=-11.041, r2=-0.000, total=   0.0s\n",
      "[CV] alpha=1.0, l1_ratio=0.2 .........................................\n",
      "[CV]  alpha=1.0, l1_ratio=0.2, neg_mean_squared_error=-9.362, r2=-0.000, total=   0.0s\n",
      "[CV] alpha=1.0, l1_ratio=0.2 .........................................\n",
      "[CV]  alpha=1.0, l1_ratio=0.2, neg_mean_squared_error=-10.125, r2=-0.001, total=   0.0s\n",
      "[CV] alpha=1.0, l1_ratio=0.2 .........................................\n",
      "[CV]  alpha=1.0, l1_ratio=0.2, neg_mean_squared_error=-12.012, r2=-0.000, total=   0.0s\n",
      "[CV] alpha=1.0, l1_ratio=0.2 .........................................\n",
      "[CV]  alpha=1.0, l1_ratio=0.2, neg_mean_squared_error=-12.446, r2=-0.000, total=   0.0s\n",
      "[CV] alpha=1.0, l1_ratio=0.4 .........................................\n",
      "[CV]  alpha=1.0, l1_ratio=0.4, neg_mean_squared_error=-11.041, r2=-0.000, total=   0.0s\n",
      "[CV] alpha=1.0, l1_ratio=0.4 .........................................\n"
     ]
    },
    {
     "name": "stdout",
     "output_type": "stream",
     "text": [
      "[CV]  alpha=1.0, l1_ratio=0.4, neg_mean_squared_error=-9.362, r2=-0.000, total=   0.0s\n",
      "[CV] alpha=1.0, l1_ratio=0.4 .........................................\n",
      "[CV]  alpha=1.0, l1_ratio=0.4, neg_mean_squared_error=-10.125, r2=-0.001, total=   0.0s\n",
      "[CV] alpha=1.0, l1_ratio=0.4 .........................................\n",
      "[CV]  alpha=1.0, l1_ratio=0.4, neg_mean_squared_error=-12.012, r2=-0.000, total=   0.0s\n",
      "[CV] alpha=1.0, l1_ratio=0.4 .........................................\n",
      "[CV]  alpha=1.0, l1_ratio=0.4, neg_mean_squared_error=-12.446, r2=-0.000, total=   0.0s\n",
      "[CV] alpha=1.0, l1_ratio=0.5 .........................................\n",
      "[CV]  alpha=1.0, l1_ratio=0.5, neg_mean_squared_error=-11.041, r2=-0.000, total=   0.0s\n",
      "[CV] alpha=1.0, l1_ratio=0.5 .........................................\n",
      "[CV]  alpha=1.0, l1_ratio=0.5, neg_mean_squared_error=-9.362, r2=-0.000, total=   0.0s\n",
      "[CV] alpha=1.0, l1_ratio=0.5 .........................................\n",
      "[CV]  alpha=1.0, l1_ratio=0.5, neg_mean_squared_error=-10.125, r2=-0.001, total=   0.0s\n",
      "[CV] alpha=1.0, l1_ratio=0.5 .........................................\n",
      "[CV]  alpha=1.0, l1_ratio=0.5, neg_mean_squared_error=-12.012, r2=-0.000, total=   0.0s\n",
      "[CV] alpha=1.0, l1_ratio=0.5 .........................................\n",
      "[CV]  alpha=1.0, l1_ratio=0.5, neg_mean_squared_error=-12.446, r2=-0.000, total=   0.0s\n",
      "[CV] alpha=1.0, l1_ratio=0.6 .........................................\n",
      "[CV]  alpha=1.0, l1_ratio=0.6, neg_mean_squared_error=-11.041, r2=-0.000, total=   0.0s\n",
      "[CV] alpha=1.0, l1_ratio=0.6 .........................................\n",
      "[CV]  alpha=1.0, l1_ratio=0.6, neg_mean_squared_error=-9.362, r2=-0.000, total=   0.0s\n",
      "[CV] alpha=1.0, l1_ratio=0.6 .........................................\n",
      "[CV]  alpha=1.0, l1_ratio=0.6, neg_mean_squared_error=-10.125, r2=-0.001, total=   0.0s\n",
      "[CV] alpha=1.0, l1_ratio=0.6 .........................................\n",
      "[CV]  alpha=1.0, l1_ratio=0.6, neg_mean_squared_error=-12.012, r2=-0.000, total=   0.0s\n",
      "[CV] alpha=1.0, l1_ratio=0.6 .........................................\n",
      "[CV]  alpha=1.0, l1_ratio=0.6, neg_mean_squared_error=-12.446, r2=-0.000, total=   0.0s\n",
      "[CV] alpha=1.0, l1_ratio=0.8 .........................................\n",
      "[CV]  alpha=1.0, l1_ratio=0.8, neg_mean_squared_error=-11.041, r2=-0.000, total=   0.0s\n",
      "[CV] alpha=1.0, l1_ratio=0.8 .........................................\n",
      "[CV]  alpha=1.0, l1_ratio=0.8, neg_mean_squared_error=-9.362, r2=-0.000, total=   0.0s\n",
      "[CV] alpha=1.0, l1_ratio=0.8 .........................................\n",
      "[CV]  alpha=1.0, l1_ratio=0.8, neg_mean_squared_error=-10.125, r2=-0.001, total=   0.0s\n",
      "[CV] alpha=1.0, l1_ratio=0.8 .........................................\n",
      "[CV]  alpha=1.0, l1_ratio=0.8, neg_mean_squared_error=-12.012, r2=-0.000, total=   0.0s\n",
      "[CV] alpha=1.0, l1_ratio=0.8 .........................................\n",
      "[CV]  alpha=1.0, l1_ratio=0.8, neg_mean_squared_error=-12.446, r2=-0.000, total=   0.0s\n",
      "[CV] alpha=10.0, l1_ratio=0.2 ........................................\n",
      "[CV]  alpha=10.0, l1_ratio=0.2, neg_mean_squared_error=-11.041, r2=-0.000, total=   0.0s\n",
      "[CV] alpha=10.0, l1_ratio=0.2 ........................................\n",
      "[CV]  alpha=10.0, l1_ratio=0.2, neg_mean_squared_error=-9.362, r2=-0.000, total=   0.0s\n",
      "[CV] alpha=10.0, l1_ratio=0.2 ........................................\n",
      "[CV]  alpha=10.0, l1_ratio=0.2, neg_mean_squared_error=-10.125, r2=-0.001, total=   0.0s\n",
      "[CV] alpha=10.0, l1_ratio=0.2 ........................................\n",
      "[CV]  alpha=10.0, l1_ratio=0.2, neg_mean_squared_error=-12.012, r2=-0.000, total=   0.0s\n",
      "[CV] alpha=10.0, l1_ratio=0.2 ........................................\n",
      "[CV]  alpha=10.0, l1_ratio=0.2, neg_mean_squared_error=-12.446, r2=-0.000, total=   0.0s\n",
      "[CV] alpha=10.0, l1_ratio=0.4 ........................................\n",
      "[CV]  alpha=10.0, l1_ratio=0.4, neg_mean_squared_error=-11.041, r2=-0.000, total=   0.0s\n",
      "[CV] alpha=10.0, l1_ratio=0.4 ........................................\n",
      "[CV]  alpha=10.0, l1_ratio=0.4, neg_mean_squared_error=-9.362, r2=-0.000, total=   0.0s\n",
      "[CV] alpha=10.0, l1_ratio=0.4 ........................................\n",
      "[CV]  alpha=10.0, l1_ratio=0.4, neg_mean_squared_error=-10.125, r2=-0.001, total=   0.0s\n",
      "[CV] alpha=10.0, l1_ratio=0.4 ........................................\n",
      "[CV]  alpha=10.0, l1_ratio=0.4, neg_mean_squared_error=-12.012, r2=-0.000, total=   0.0s\n",
      "[CV] alpha=10.0, l1_ratio=0.4 ........................................\n",
      "[CV]  alpha=10.0, l1_ratio=0.4, neg_mean_squared_error=-12.446, r2=-0.000, total=   0.0s\n",
      "[CV] alpha=10.0, l1_ratio=0.5 ........................................\n",
      "[CV]  alpha=10.0, l1_ratio=0.5, neg_mean_squared_error=-11.041, r2=-0.000, total=   0.0s\n",
      "[CV] alpha=10.0, l1_ratio=0.5 ........................................\n",
      "[CV]  alpha=10.0, l1_ratio=0.5, neg_mean_squared_error=-9.362, r2=-0.000, total=   0.0s\n",
      "[CV] alpha=10.0, l1_ratio=0.5 ........................................\n",
      "[CV]  alpha=10.0, l1_ratio=0.5, neg_mean_squared_error=-10.125, r2=-0.001, total=   0.0s\n",
      "[CV] alpha=10.0, l1_ratio=0.5 ........................................\n",
      "[CV]  alpha=10.0, l1_ratio=0.5, neg_mean_squared_error=-12.012, r2=-0.000, total=   0.0s\n",
      "[CV] alpha=10.0, l1_ratio=0.5 ........................................\n",
      "[CV]  alpha=10.0, l1_ratio=0.5, neg_mean_squared_error=-12.446, r2=-0.000, total=   0.0s\n",
      "[CV] alpha=10.0, l1_ratio=0.6 ........................................\n",
      "[CV]  alpha=10.0, l1_ratio=0.6, neg_mean_squared_error=-11.041, r2=-0.000, total=   0.0s\n",
      "[CV] alpha=10.0, l1_ratio=0.6 ........................................\n",
      "[CV]  alpha=10.0, l1_ratio=0.6, neg_mean_squared_error=-9.362, r2=-0.000, total=   0.0s\n",
      "[CV] alpha=10.0, l1_ratio=0.6 ........................................\n",
      "[CV]  alpha=10.0, l1_ratio=0.6, neg_mean_squared_error=-10.125, r2=-0.001, total=   0.0s\n",
      "[CV] alpha=10.0, l1_ratio=0.6 ........................................\n",
      "[CV]  alpha=10.0, l1_ratio=0.6, neg_mean_squared_error=-12.012, r2=-0.000, total=   0.0s\n",
      "[CV] alpha=10.0, l1_ratio=0.6 ........................................\n",
      "[CV]  alpha=10.0, l1_ratio=0.6, neg_mean_squared_error=-12.446, r2=-0.000, total=   0.0s\n",
      "[CV] alpha=10.0, l1_ratio=0.8 ........................................\n",
      "[CV]  alpha=10.0, l1_ratio=0.8, neg_mean_squared_error=-11.041, r2=-0.000, total=   0.0s\n",
      "[CV] alpha=10.0, l1_ratio=0.8 ........................................\n",
      "[CV]  alpha=10.0, l1_ratio=0.8, neg_mean_squared_error=-9.362, r2=-0.000, total=   0.0s\n",
      "[CV] alpha=10.0, l1_ratio=0.8 ........................................\n",
      "[CV]  alpha=10.0, l1_ratio=0.8, neg_mean_squared_error=-10.125, r2=-0.001, total=   0.0s\n",
      "[CV] alpha=10.0, l1_ratio=0.8 ........................................\n",
      "[CV]  alpha=10.0, l1_ratio=0.8, neg_mean_squared_error=-12.012, r2=-0.000, total=   0.0s\n",
      "[CV] alpha=10.0, l1_ratio=0.8 ........................................\n",
      "[CV]  alpha=10.0, l1_ratio=0.8, neg_mean_squared_error=-12.446, r2=-0.000, total=   0.0s\n",
      "[CV] alpha=100.0, l1_ratio=0.2 .......................................\n",
      "[CV]  alpha=100.0, l1_ratio=0.2, neg_mean_squared_error=-11.041, r2=-0.000, total=   0.0s\n",
      "[CV] alpha=100.0, l1_ratio=0.2 .......................................\n",
      "[CV]  alpha=100.0, l1_ratio=0.2, neg_mean_squared_error=-9.362, r2=-0.000, total=   0.0s\n",
      "[CV] alpha=100.0, l1_ratio=0.2 .......................................\n",
      "[CV]  alpha=100.0, l1_ratio=0.2, neg_mean_squared_error=-10.125, r2=-0.001, total=   0.0s\n",
      "[CV] alpha=100.0, l1_ratio=0.2 .......................................\n",
      "[CV]  alpha=100.0, l1_ratio=0.2, neg_mean_squared_error=-12.012, r2=-0.000, total=   0.0s\n",
      "[CV] alpha=100.0, l1_ratio=0.2 .......................................\n",
      "[CV]  alpha=100.0, l1_ratio=0.2, neg_mean_squared_error=-12.446, r2=-0.000, total=   0.0s\n",
      "[CV] alpha=100.0, l1_ratio=0.4 .......................................\n",
      "[CV]  alpha=100.0, l1_ratio=0.4, neg_mean_squared_error=-11.041, r2=-0.000, total=   0.0s\n",
      "[CV] alpha=100.0, l1_ratio=0.4 .......................................\n",
      "[CV]  alpha=100.0, l1_ratio=0.4, neg_mean_squared_error=-9.362, r2=-0.000, total=   0.0s\n",
      "[CV] alpha=100.0, l1_ratio=0.4 .......................................\n",
      "[CV]  alpha=100.0, l1_ratio=0.4, neg_mean_squared_error=-10.125, r2=-0.001, total=   0.0s\n",
      "[CV] alpha=100.0, l1_ratio=0.4 .......................................\n",
      "[CV]  alpha=100.0, l1_ratio=0.4, neg_mean_squared_error=-12.012, r2=-0.000, total=   0.0s\n",
      "[CV] alpha=100.0, l1_ratio=0.4 .......................................\n",
      "[CV]  alpha=100.0, l1_ratio=0.4, neg_mean_squared_error=-12.446, r2=-0.000, total=   0.0s\n",
      "[CV] alpha=100.0, l1_ratio=0.5 .......................................\n",
      "[CV]  alpha=100.0, l1_ratio=0.5, neg_mean_squared_error=-11.041, r2=-0.000, total=   0.0s\n",
      "[CV] alpha=100.0, l1_ratio=0.5 .......................................\n",
      "[CV]  alpha=100.0, l1_ratio=0.5, neg_mean_squared_error=-9.362, r2=-0.000, total=   0.0s\n",
      "[CV] alpha=100.0, l1_ratio=0.5 .......................................\n",
      "[CV]  alpha=100.0, l1_ratio=0.5, neg_mean_squared_error=-10.125, r2=-0.001, total=   0.0s\n",
      "[CV] alpha=100.0, l1_ratio=0.5 .......................................\n",
      "[CV]  alpha=100.0, l1_ratio=0.5, neg_mean_squared_error=-12.012, r2=-0.000, total=   0.0s\n",
      "[CV] alpha=100.0, l1_ratio=0.5 .......................................\n",
      "[CV]  alpha=100.0, l1_ratio=0.5, neg_mean_squared_error=-12.446, r2=-0.000, total=   0.0s\n",
      "[CV] alpha=100.0, l1_ratio=0.6 .......................................\n",
      "[CV]  alpha=100.0, l1_ratio=0.6, neg_mean_squared_error=-11.041, r2=-0.000, total=   0.0s\n",
      "[CV] alpha=100.0, l1_ratio=0.6 .......................................\n"
     ]
    },
    {
     "name": "stdout",
     "output_type": "stream",
     "text": [
      "[CV]  alpha=100.0, l1_ratio=0.6, neg_mean_squared_error=-9.362, r2=-0.000, total=   0.0s\n",
      "[CV] alpha=100.0, l1_ratio=0.6 .......................................\n",
      "[CV]  alpha=100.0, l1_ratio=0.6, neg_mean_squared_error=-10.125, r2=-0.001, total=   0.0s\n",
      "[CV] alpha=100.0, l1_ratio=0.6 .......................................\n",
      "[CV]  alpha=100.0, l1_ratio=0.6, neg_mean_squared_error=-12.012, r2=-0.000, total=   0.0s\n",
      "[CV] alpha=100.0, l1_ratio=0.6 .......................................\n",
      "[CV]  alpha=100.0, l1_ratio=0.6, neg_mean_squared_error=-12.446, r2=-0.000, total=   0.0s\n",
      "[CV] alpha=100.0, l1_ratio=0.8 .......................................\n",
      "[CV]  alpha=100.0, l1_ratio=0.8, neg_mean_squared_error=-11.041, r2=-0.000, total=   0.0s\n",
      "[CV] alpha=100.0, l1_ratio=0.8 .......................................\n",
      "[CV]  alpha=100.0, l1_ratio=0.8, neg_mean_squared_error=-9.362, r2=-0.000, total=   0.0s\n",
      "[CV] alpha=100.0, l1_ratio=0.8 .......................................\n",
      "[CV]  alpha=100.0, l1_ratio=0.8, neg_mean_squared_error=-10.125, r2=-0.001, total=   0.0s\n",
      "[CV] alpha=100.0, l1_ratio=0.8 .......................................\n",
      "[CV]  alpha=100.0, l1_ratio=0.8, neg_mean_squared_error=-12.012, r2=-0.000, total=   0.0s\n",
      "[CV] alpha=100.0, l1_ratio=0.8 .......................................\n",
      "[CV]  alpha=100.0, l1_ratio=0.8, neg_mean_squared_error=-12.446, r2=-0.000, total=   0.0s\n",
      "[CV] alpha=1000.0, l1_ratio=0.2 ......................................\n",
      "[CV]  alpha=1000.0, l1_ratio=0.2, neg_mean_squared_error=-11.041, r2=-0.000, total=   0.0s\n",
      "[CV] alpha=1000.0, l1_ratio=0.2 ......................................\n",
      "[CV]  alpha=1000.0, l1_ratio=0.2, neg_mean_squared_error=-9.362, r2=-0.000, total=   0.0s\n",
      "[CV] alpha=1000.0, l1_ratio=0.2 ......................................\n",
      "[CV]  alpha=1000.0, l1_ratio=0.2, neg_mean_squared_error=-10.125, r2=-0.001, total=   0.0s\n",
      "[CV] alpha=1000.0, l1_ratio=0.2 ......................................\n",
      "[CV]  alpha=1000.0, l1_ratio=0.2, neg_mean_squared_error=-12.012, r2=-0.000, total=   0.0s\n",
      "[CV] alpha=1000.0, l1_ratio=0.2 ......................................\n",
      "[CV]  alpha=1000.0, l1_ratio=0.2, neg_mean_squared_error=-12.446, r2=-0.000, total=   0.0s\n",
      "[CV] alpha=1000.0, l1_ratio=0.4 ......................................\n",
      "[CV]  alpha=1000.0, l1_ratio=0.4, neg_mean_squared_error=-11.041, r2=-0.000, total=   0.0s\n",
      "[CV] alpha=1000.0, l1_ratio=0.4 ......................................\n",
      "[CV]  alpha=1000.0, l1_ratio=0.4, neg_mean_squared_error=-9.362, r2=-0.000, total=   0.0s\n",
      "[CV] alpha=1000.0, l1_ratio=0.4 ......................................\n",
      "[CV]  alpha=1000.0, l1_ratio=0.4, neg_mean_squared_error=-10.125, r2=-0.001, total=   0.0s\n",
      "[CV] alpha=1000.0, l1_ratio=0.4 ......................................\n",
      "[CV]  alpha=1000.0, l1_ratio=0.4, neg_mean_squared_error=-12.012, r2=-0.000, total=   0.0s\n",
      "[CV] alpha=1000.0, l1_ratio=0.4 ......................................\n",
      "[CV]  alpha=1000.0, l1_ratio=0.4, neg_mean_squared_error=-12.446, r2=-0.000, total=   0.0s\n",
      "[CV] alpha=1000.0, l1_ratio=0.5 ......................................\n",
      "[CV]  alpha=1000.0, l1_ratio=0.5, neg_mean_squared_error=-11.041, r2=-0.000, total=   0.0s\n",
      "[CV] alpha=1000.0, l1_ratio=0.5 ......................................\n",
      "[CV]  alpha=1000.0, l1_ratio=0.5, neg_mean_squared_error=-9.362, r2=-0.000, total=   0.0s\n",
      "[CV] alpha=1000.0, l1_ratio=0.5 ......................................\n",
      "[CV]  alpha=1000.0, l1_ratio=0.5, neg_mean_squared_error=-10.125, r2=-0.001, total=   0.0s\n",
      "[CV] alpha=1000.0, l1_ratio=0.5 ......................................\n",
      "[CV]  alpha=1000.0, l1_ratio=0.5, neg_mean_squared_error=-12.012, r2=-0.000, total=   0.0s\n",
      "[CV] alpha=1000.0, l1_ratio=0.5 ......................................\n",
      "[CV]  alpha=1000.0, l1_ratio=0.5, neg_mean_squared_error=-12.446, r2=-0.000, total=   0.0s\n",
      "[CV] alpha=1000.0, l1_ratio=0.6 ......................................\n",
      "[CV]  alpha=1000.0, l1_ratio=0.6, neg_mean_squared_error=-11.041, r2=-0.000, total=   0.0s\n",
      "[CV] alpha=1000.0, l1_ratio=0.6 ......................................\n",
      "[CV]  alpha=1000.0, l1_ratio=0.6, neg_mean_squared_error=-9.362, r2=-0.000, total=   0.0s\n",
      "[CV] alpha=1000.0, l1_ratio=0.6 ......................................\n",
      "[CV]  alpha=1000.0, l1_ratio=0.6, neg_mean_squared_error=-10.125, r2=-0.001, total=   0.0s\n",
      "[CV] alpha=1000.0, l1_ratio=0.6 ......................................\n",
      "[CV]  alpha=1000.0, l1_ratio=0.6, neg_mean_squared_error=-12.012, r2=-0.000, total=   0.0s\n",
      "[CV] alpha=1000.0, l1_ratio=0.6 ......................................\n",
      "[CV]  alpha=1000.0, l1_ratio=0.6, neg_mean_squared_error=-12.446, r2=-0.000, total=   0.0s\n",
      "[CV] alpha=1000.0, l1_ratio=0.8 ......................................\n",
      "[CV]  alpha=1000.0, l1_ratio=0.8, neg_mean_squared_error=-11.041, r2=-0.000, total=   0.0s\n",
      "[CV] alpha=1000.0, l1_ratio=0.8 ......................................\n",
      "[CV]  alpha=1000.0, l1_ratio=0.8, neg_mean_squared_error=-9.362, r2=-0.000, total=   0.0s\n",
      "[CV] alpha=1000.0, l1_ratio=0.8 ......................................\n",
      "[CV]  alpha=1000.0, l1_ratio=0.8, neg_mean_squared_error=-10.125, r2=-0.001, total=   0.0s\n",
      "[CV] alpha=1000.0, l1_ratio=0.8 ......................................\n",
      "[CV]  alpha=1000.0, l1_ratio=0.8, neg_mean_squared_error=-12.012, r2=-0.000, total=   0.0s\n",
      "[CV] alpha=1000.0, l1_ratio=0.8 ......................................\n",
      "[CV]  alpha=1000.0, l1_ratio=0.8, neg_mean_squared_error=-12.446, r2=-0.000, total=   0.0s\n",
      "[CV] alpha=10000.0, l1_ratio=0.2 .....................................\n",
      "[CV]  alpha=10000.0, l1_ratio=0.2, neg_mean_squared_error=-11.041, r2=-0.000, total=   0.0s\n",
      "[CV] alpha=10000.0, l1_ratio=0.2 .....................................\n",
      "[CV]  alpha=10000.0, l1_ratio=0.2, neg_mean_squared_error=-9.362, r2=-0.000, total=   0.0s\n",
      "[CV] alpha=10000.0, l1_ratio=0.2 .....................................\n",
      "[CV]  alpha=10000.0, l1_ratio=0.2, neg_mean_squared_error=-10.125, r2=-0.001, total=   0.0s\n",
      "[CV] alpha=10000.0, l1_ratio=0.2 .....................................\n",
      "[CV]  alpha=10000.0, l1_ratio=0.2, neg_mean_squared_error=-12.012, r2=-0.000, total=   0.0s\n",
      "[CV] alpha=10000.0, l1_ratio=0.2 .....................................\n",
      "[CV]  alpha=10000.0, l1_ratio=0.2, neg_mean_squared_error=-12.446, r2=-0.000, total=   0.0s\n",
      "[CV] alpha=10000.0, l1_ratio=0.4 .....................................\n",
      "[CV]  alpha=10000.0, l1_ratio=0.4, neg_mean_squared_error=-11.041, r2=-0.000, total=   0.0s\n",
      "[CV] alpha=10000.0, l1_ratio=0.4 .....................................\n",
      "[CV]  alpha=10000.0, l1_ratio=0.4, neg_mean_squared_error=-9.362, r2=-0.000, total=   0.0s\n",
      "[CV] alpha=10000.0, l1_ratio=0.4 .....................................\n",
      "[CV]  alpha=10000.0, l1_ratio=0.4, neg_mean_squared_error=-10.125, r2=-0.001, total=   0.0s\n",
      "[CV] alpha=10000.0, l1_ratio=0.4 .....................................\n",
      "[CV]  alpha=10000.0, l1_ratio=0.4, neg_mean_squared_error=-12.012, r2=-0.000, total=   0.0s\n",
      "[CV] alpha=10000.0, l1_ratio=0.4 .....................................\n",
      "[CV]  alpha=10000.0, l1_ratio=0.4, neg_mean_squared_error=-12.446, r2=-0.000, total=   0.0s\n",
      "[CV] alpha=10000.0, l1_ratio=0.5 .....................................\n",
      "[CV]  alpha=10000.0, l1_ratio=0.5, neg_mean_squared_error=-11.041, r2=-0.000, total=   0.0s\n",
      "[CV] alpha=10000.0, l1_ratio=0.5 .....................................\n",
      "[CV]  alpha=10000.0, l1_ratio=0.5, neg_mean_squared_error=-9.362, r2=-0.000, total=   0.0s\n",
      "[CV] alpha=10000.0, l1_ratio=0.5 .....................................\n",
      "[CV]  alpha=10000.0, l1_ratio=0.5, neg_mean_squared_error=-10.125, r2=-0.001, total=   0.0s\n",
      "[CV] alpha=10000.0, l1_ratio=0.5 .....................................\n",
      "[CV]  alpha=10000.0, l1_ratio=0.5, neg_mean_squared_error=-12.012, r2=-0.000, total=   0.0s\n",
      "[CV] alpha=10000.0, l1_ratio=0.5 .....................................\n",
      "[CV]  alpha=10000.0, l1_ratio=0.5, neg_mean_squared_error=-12.446, r2=-0.000, total=   0.0s\n",
      "[CV] alpha=10000.0, l1_ratio=0.6 .....................................\n",
      "[CV]  alpha=10000.0, l1_ratio=0.6, neg_mean_squared_error=-11.041, r2=-0.000, total=   0.0s\n",
      "[CV] alpha=10000.0, l1_ratio=0.6 .....................................\n",
      "[CV]  alpha=10000.0, l1_ratio=0.6, neg_mean_squared_error=-9.362, r2=-0.000, total=   0.0s\n",
      "[CV] alpha=10000.0, l1_ratio=0.6 .....................................\n",
      "[CV]  alpha=10000.0, l1_ratio=0.6, neg_mean_squared_error=-10.125, r2=-0.001, total=   0.0s\n",
      "[CV] alpha=10000.0, l1_ratio=0.6 .....................................\n",
      "[CV]  alpha=10000.0, l1_ratio=0.6, neg_mean_squared_error=-12.012, r2=-0.000, total=   0.0s\n",
      "[CV] alpha=10000.0, l1_ratio=0.6 .....................................\n",
      "[CV]  alpha=10000.0, l1_ratio=0.6, neg_mean_squared_error=-12.446, r2=-0.000, total=   0.0s\n",
      "[CV] alpha=10000.0, l1_ratio=0.8 .....................................\n",
      "[CV]  alpha=10000.0, l1_ratio=0.8, neg_mean_squared_error=-11.041, r2=-0.000, total=   0.0s\n",
      "[CV] alpha=10000.0, l1_ratio=0.8 .....................................\n",
      "[CV]  alpha=10000.0, l1_ratio=0.8, neg_mean_squared_error=-9.362, r2=-0.000, total=   0.0s\n",
      "[CV] alpha=10000.0, l1_ratio=0.8 .....................................\n",
      "[CV]  alpha=10000.0, l1_ratio=0.8, neg_mean_squared_error=-10.125, r2=-0.001, total=   0.0s\n",
      "[CV] alpha=10000.0, l1_ratio=0.8 .....................................\n",
      "[CV]  alpha=10000.0, l1_ratio=0.8, neg_mean_squared_error=-12.012, r2=-0.000, total=   0.0s\n",
      "[CV] alpha=10000.0, l1_ratio=0.8 .....................................\n"
     ]
    },
    {
     "name": "stdout",
     "output_type": "stream",
     "text": [
      "[CV]  alpha=10000.0, l1_ratio=0.8, neg_mean_squared_error=-12.446, r2=-0.000, total=   0.0s\n",
      "[CV] alpha=100000.0, l1_ratio=0.2 ....................................\n",
      "[CV]  alpha=100000.0, l1_ratio=0.2, neg_mean_squared_error=-11.041, r2=-0.000, total=   0.0s\n",
      "[CV] alpha=100000.0, l1_ratio=0.2 ....................................\n",
      "[CV]  alpha=100000.0, l1_ratio=0.2, neg_mean_squared_error=-9.362, r2=-0.000, total=   0.0s\n",
      "[CV] alpha=100000.0, l1_ratio=0.2 ....................................\n",
      "[CV]  alpha=100000.0, l1_ratio=0.2, neg_mean_squared_error=-10.125, r2=-0.001, total=   0.0s\n",
      "[CV] alpha=100000.0, l1_ratio=0.2 ....................................\n",
      "[CV]  alpha=100000.0, l1_ratio=0.2, neg_mean_squared_error=-12.012, r2=-0.000, total=   0.0s\n",
      "[CV] alpha=100000.0, l1_ratio=0.2 ....................................\n",
      "[CV]  alpha=100000.0, l1_ratio=0.2, neg_mean_squared_error=-12.446, r2=-0.000, total=   0.0s\n",
      "[CV] alpha=100000.0, l1_ratio=0.4 ....................................\n",
      "[CV]  alpha=100000.0, l1_ratio=0.4, neg_mean_squared_error=-11.041, r2=-0.000, total=   0.0s\n",
      "[CV] alpha=100000.0, l1_ratio=0.4 ....................................\n",
      "[CV]  alpha=100000.0, l1_ratio=0.4, neg_mean_squared_error=-9.362, r2=-0.000, total=   0.0s\n",
      "[CV] alpha=100000.0, l1_ratio=0.4 ....................................\n",
      "[CV]  alpha=100000.0, l1_ratio=0.4, neg_mean_squared_error=-10.125, r2=-0.001, total=   0.0s\n",
      "[CV] alpha=100000.0, l1_ratio=0.4 ....................................\n",
      "[CV]  alpha=100000.0, l1_ratio=0.4, neg_mean_squared_error=-12.012, r2=-0.000, total=   0.0s\n",
      "[CV] alpha=100000.0, l1_ratio=0.4 ....................................\n",
      "[CV]  alpha=100000.0, l1_ratio=0.4, neg_mean_squared_error=-12.446, r2=-0.000, total=   0.0s\n",
      "[CV] alpha=100000.0, l1_ratio=0.5 ....................................\n",
      "[CV]  alpha=100000.0, l1_ratio=0.5, neg_mean_squared_error=-11.041, r2=-0.000, total=   0.0s\n",
      "[CV] alpha=100000.0, l1_ratio=0.5 ....................................\n",
      "[CV]  alpha=100000.0, l1_ratio=0.5, neg_mean_squared_error=-9.362, r2=-0.000, total=   0.0s\n",
      "[CV] alpha=100000.0, l1_ratio=0.5 ....................................\n",
      "[CV]  alpha=100000.0, l1_ratio=0.5, neg_mean_squared_error=-10.125, r2=-0.001, total=   0.0s\n",
      "[CV] alpha=100000.0, l1_ratio=0.5 ....................................\n",
      "[CV]  alpha=100000.0, l1_ratio=0.5, neg_mean_squared_error=-12.012, r2=-0.000, total=   0.0s\n",
      "[CV] alpha=100000.0, l1_ratio=0.5 ....................................\n",
      "[CV]  alpha=100000.0, l1_ratio=0.5, neg_mean_squared_error=-12.446, r2=-0.000, total=   0.0s\n",
      "[CV] alpha=100000.0, l1_ratio=0.6 ....................................\n",
      "[CV]  alpha=100000.0, l1_ratio=0.6, neg_mean_squared_error=-11.041, r2=-0.000, total=   0.0s\n",
      "[CV] alpha=100000.0, l1_ratio=0.6 ....................................\n",
      "[CV]  alpha=100000.0, l1_ratio=0.6, neg_mean_squared_error=-9.362, r2=-0.000, total=   0.0s\n",
      "[CV] alpha=100000.0, l1_ratio=0.6 ....................................\n",
      "[CV]  alpha=100000.0, l1_ratio=0.6, neg_mean_squared_error=-10.125, r2=-0.001, total=   0.0s\n",
      "[CV] alpha=100000.0, l1_ratio=0.6 ....................................\n",
      "[CV]  alpha=100000.0, l1_ratio=0.6, neg_mean_squared_error=-12.012, r2=-0.000, total=   0.0s\n",
      "[CV] alpha=100000.0, l1_ratio=0.6 ....................................\n",
      "[CV]  alpha=100000.0, l1_ratio=0.6, neg_mean_squared_error=-12.446, r2=-0.000, total=   0.0s\n",
      "[CV] alpha=100000.0, l1_ratio=0.8 ....................................\n",
      "[CV]  alpha=100000.0, l1_ratio=0.8, neg_mean_squared_error=-11.041, r2=-0.000, total=   0.0s\n",
      "[CV] alpha=100000.0, l1_ratio=0.8 ....................................\n",
      "[CV]  alpha=100000.0, l1_ratio=0.8, neg_mean_squared_error=-9.362, r2=-0.000, total=   0.0s\n",
      "[CV] alpha=100000.0, l1_ratio=0.8 ....................................\n",
      "[CV]  alpha=100000.0, l1_ratio=0.8, neg_mean_squared_error=-10.125, r2=-0.001, total=   0.0s\n",
      "[CV] alpha=100000.0, l1_ratio=0.8 ....................................\n",
      "[CV]  alpha=100000.0, l1_ratio=0.8, neg_mean_squared_error=-12.012, r2=-0.000, total=   0.0s\n",
      "[CV] alpha=100000.0, l1_ratio=0.8 ....................................\n",
      "[CV]  alpha=100000.0, l1_ratio=0.8, neg_mean_squared_error=-12.446, r2=-0.000, total=   0.0s\n",
      "[CV] alpha=1000000.0, l1_ratio=0.2 ...................................\n",
      "[CV]  alpha=1000000.0, l1_ratio=0.2, neg_mean_squared_error=-11.041, r2=-0.000, total=   0.0s\n",
      "[CV] alpha=1000000.0, l1_ratio=0.2 ...................................\n",
      "[CV]  alpha=1000000.0, l1_ratio=0.2, neg_mean_squared_error=-9.362, r2=-0.000, total=   0.0s\n",
      "[CV] alpha=1000000.0, l1_ratio=0.2 ...................................\n",
      "[CV]  alpha=1000000.0, l1_ratio=0.2, neg_mean_squared_error=-10.125, r2=-0.001, total=   0.0s\n",
      "[CV] alpha=1000000.0, l1_ratio=0.2 ...................................\n",
      "[CV]  alpha=1000000.0, l1_ratio=0.2, neg_mean_squared_error=-12.012, r2=-0.000, total=   0.0s\n",
      "[CV] alpha=1000000.0, l1_ratio=0.2 ...................................\n",
      "[CV]  alpha=1000000.0, l1_ratio=0.2, neg_mean_squared_error=-12.446, r2=-0.000, total=   0.0s\n",
      "[CV] alpha=1000000.0, l1_ratio=0.4 ...................................\n",
      "[CV]  alpha=1000000.0, l1_ratio=0.4, neg_mean_squared_error=-11.041, r2=-0.000, total=   0.0s\n",
      "[CV] alpha=1000000.0, l1_ratio=0.4 ...................................\n",
      "[CV]  alpha=1000000.0, l1_ratio=0.4, neg_mean_squared_error=-9.362, r2=-0.000, total=   0.0s\n",
      "[CV] alpha=1000000.0, l1_ratio=0.4 ...................................\n",
      "[CV]  alpha=1000000.0, l1_ratio=0.4, neg_mean_squared_error=-10.125, r2=-0.001, total=   0.0s\n",
      "[CV] alpha=1000000.0, l1_ratio=0.4 ...................................\n",
      "[CV]  alpha=1000000.0, l1_ratio=0.4, neg_mean_squared_error=-12.012, r2=-0.000, total=   0.0s\n",
      "[CV] alpha=1000000.0, l1_ratio=0.4 ...................................\n",
      "[CV]  alpha=1000000.0, l1_ratio=0.4, neg_mean_squared_error=-12.446, r2=-0.000, total=   0.0s\n",
      "[CV] alpha=1000000.0, l1_ratio=0.5 ...................................\n",
      "[CV]  alpha=1000000.0, l1_ratio=0.5, neg_mean_squared_error=-11.041, r2=-0.000, total=   0.0s\n",
      "[CV] alpha=1000000.0, l1_ratio=0.5 ...................................\n",
      "[CV]  alpha=1000000.0, l1_ratio=0.5, neg_mean_squared_error=-9.362, r2=-0.000, total=   0.0s\n",
      "[CV] alpha=1000000.0, l1_ratio=0.5 ...................................\n",
      "[CV]  alpha=1000000.0, l1_ratio=0.5, neg_mean_squared_error=-10.125, r2=-0.001, total=   0.0s\n",
      "[CV] alpha=1000000.0, l1_ratio=0.5 ...................................\n",
      "[CV]  alpha=1000000.0, l1_ratio=0.5, neg_mean_squared_error=-12.012, r2=-0.000, total=   0.0s\n",
      "[CV] alpha=1000000.0, l1_ratio=0.5 ...................................\n",
      "[CV]  alpha=1000000.0, l1_ratio=0.5, neg_mean_squared_error=-12.446, r2=-0.000, total=   0.0s\n",
      "[CV] alpha=1000000.0, l1_ratio=0.6 ...................................\n",
      "[CV]  alpha=1000000.0, l1_ratio=0.6, neg_mean_squared_error=-11.041, r2=-0.000, total=   0.0s\n",
      "[CV] alpha=1000000.0, l1_ratio=0.6 ...................................\n",
      "[CV]  alpha=1000000.0, l1_ratio=0.6, neg_mean_squared_error=-9.362, r2=-0.000, total=   0.0s\n",
      "[CV] alpha=1000000.0, l1_ratio=0.6 ...................................\n",
      "[CV]  alpha=1000000.0, l1_ratio=0.6, neg_mean_squared_error=-10.125, r2=-0.001, total=   0.0s\n",
      "[CV] alpha=1000000.0, l1_ratio=0.6 ...................................\n",
      "[CV]  alpha=1000000.0, l1_ratio=0.6, neg_mean_squared_error=-12.012, r2=-0.000, total=   0.0s\n",
      "[CV] alpha=1000000.0, l1_ratio=0.6 ...................................\n",
      "[CV]  alpha=1000000.0, l1_ratio=0.6, neg_mean_squared_error=-12.446, r2=-0.000, total=   0.0s\n",
      "[CV] alpha=1000000.0, l1_ratio=0.8 ...................................\n",
      "[CV]  alpha=1000000.0, l1_ratio=0.8, neg_mean_squared_error=-11.041, r2=-0.000, total=   0.0s\n",
      "[CV] alpha=1000000.0, l1_ratio=0.8 ...................................\n",
      "[CV]  alpha=1000000.0, l1_ratio=0.8, neg_mean_squared_error=-9.362, r2=-0.000, total=   0.0s\n",
      "[CV] alpha=1000000.0, l1_ratio=0.8 ...................................\n",
      "[CV]  alpha=1000000.0, l1_ratio=0.8, neg_mean_squared_error=-10.125, r2=-0.001, total=   0.0s\n",
      "[CV] alpha=1000000.0, l1_ratio=0.8 ...................................\n",
      "[CV]  alpha=1000000.0, l1_ratio=0.8, neg_mean_squared_error=-12.012, r2=-0.000, total=   0.0s\n",
      "[CV] alpha=1000000.0, l1_ratio=0.8 ...................................\n",
      "[CV]  alpha=1000000.0, l1_ratio=0.8, neg_mean_squared_error=-12.446, r2=-0.000, total=   0.0s\n"
     ]
    },
    {
     "name": "stderr",
     "output_type": "stream",
     "text": [
      "[Parallel(n_jobs=1)]: Done 325 out of 325 | elapsed:    2.1s finished\n"
     ]
    },
    {
     "data": {
      "text/plain": [
       "GridSearchCV(cv=5, estimator=ElasticNet(normalize=True),\n",
       "             param_grid={'alpha': array([1.e-06, 1.e-05, 1.e-04, 1.e-03, 1.e-02, 1.e-01, 1.e+00, 1.e+01,\n",
       "       1.e+02, 1.e+03, 1.e+04, 1.e+05, 1.e+06]),\n",
       "                         'l1_ratio': (0.2, 0.4, 0.5, 0.6, 0.8)},\n",
       "             refit='r2', scoring=['neg_mean_squared_error', 'r2'], verbose=4)"
      ]
     },
     "execution_count": 136,
     "metadata": {},
     "output_type": "execute_result"
    }
   ],
   "source": [
    "search.fit(X_train,y_train)"
   ]
  },
  {
   "cell_type": "code",
   "execution_count": 137,
   "metadata": {},
   "outputs": [
    {
     "name": "stdout",
     "output_type": "stream",
     "text": [
      "ElasticNet(alpha=0.001, normalize=True)\n",
      "{'alpha': 0.001, 'l1_ratio': 0.5}\n",
      "0.3329333291564055\n"
     ]
    }
   ],
   "source": [
    "## Print best results\n",
    "\n",
    "print(search.best_estimator_)\n",
    "print(search.best_params_)\n",
    "print(abs(search.best_score_))"
   ]
  },
  {
   "cell_type": "code",
   "execution_count": 138,
   "metadata": {},
   "outputs": [
    {
     "data": {
      "text/plain": [
       "ElasticNet(alpha=0.001, normalize=True, tol=0.001)"
      ]
     },
     "execution_count": 138,
     "metadata": {},
     "output_type": "execute_result"
    }
   ],
   "source": [
    "enet_reg = ElasticNet(alpha = .001, tol = .001, l1_ratio = .5, normalize=True)\n",
    "enet_reg.fit(X_test, y_test)"
   ]
  },
  {
   "cell_type": "code",
   "execution_count": 139,
   "metadata": {},
   "outputs": [],
   "source": [
    "# Make predictions using the test dataset\n",
    "\n",
    "predictions = enet_reg.predict(X_test)"
   ]
  },
  {
   "cell_type": "code",
   "execution_count": 140,
   "metadata": {},
   "outputs": [
    {
     "name": "stdout",
     "output_type": "stream",
     "text": [
      "mean_squared_error :  4.910501922098042\n",
      "mean_absolute_error :  1.7442362055425162\n"
     ]
    }
   ],
   "source": [
    "# model evaluation\n",
    "print('mean_squared_error : ', mean_squared_error(y_test, predictions))\n",
    "print('mean_absolute_error : ', mean_absolute_error(y_test, predictions))"
   ]
  },
  {
   "cell_type": "markdown",
   "metadata": {},
   "source": [
    "### Compute R-square using the formula and print.  Notice the large R-square value.  This represents overfitting."
   ]
  },
  {
   "cell_type": "code",
   "execution_count": 141,
   "metadata": {},
   "outputs": [
    {
     "name": "stdout",
     "output_type": "stream",
     "text": [
      "0.5612893310953434\n"
     ]
    }
   ],
   "source": [
    "\n",
    "SS_Residual = sum((y_test-predictions)**2)       \n",
    "SS_Total = sum((y_test-np.mean(y_test))**2)     \n",
    "\n",
    "r_squared = 1 - (float(SS_Residual))/SS_Total\n",
    "\n",
    "print(r_squared)"
   ]
  },
  {
   "cell_type": "markdown",
   "metadata": {},
   "source": [
    "### Convert predictions, a numpy array, to a dataframe, scatdf, then rename the variable in the dataframe from 0 to Pred."
   ]
  },
  {
   "cell_type": "code",
   "execution_count": 142,
   "metadata": {},
   "outputs": [],
   "source": [
    "scatdf = pd.DataFrame(predictions)\n",
    "\n",
    "scatdf = scatdf.rename({0:'Pred'}, axis=1)"
   ]
  },
  {
   "cell_type": "markdown",
   "metadata": {},
   "source": [
    "### Using seaborn library, return scatterplot of predicted values (Pred) and actual values (Life_Happy)"
   ]
  },
  {
   "cell_type": "code",
   "execution_count": 143,
   "metadata": {},
   "outputs": [
    {
     "data": {
      "text/plain": [
       "<AxesSubplot:xlabel='Life_Happy', ylabel='Pred'>"
      ]
     },
     "execution_count": 143,
     "metadata": {},
     "output_type": "execute_result"
    },
    {
     "data": {
      "image/png": "[encoded data removed]",
      "text/plain": [
       "<Figure size 432x288 with 1 Axes>"
      ]
     },
     "metadata": {},
     "output_type": "display_data"
    }
   ],
   "source": [
    "sns.set(style='whitegrid')\n",
    "\n",
    "sns.regplot(x = y_test,  ## regplot returns the regression line whereas scatterplot does not\n",
    "            y = scatdf['Pred'])"
   ]
  },
  {
   "cell_type": "code",
   "execution_count": 144,
   "metadata": {},
   "outputs": [
    {
     "data": {
      "text/plain": [
       "{'Q1': 0.21899061954997234,\n",
       " 'Q2': -0.09020217997293356,\n",
       " 'Q3': 0.036666051884241366,\n",
       " 'Q4': 0.14318491784016477,\n",
       " 'Q5': -0.2362655085034383,\n",
       " 'Q6': -0.4310753036641148,\n",
       " 'Q7': 0.09741719489611643,\n",
       " 'Q8': -0.11496695232031619,\n",
       " 'Q9': -0.17833910888812537,\n",
       " 'Q10': 0.12970880393583548,\n",
       " 'Q11': 0.49831366725188403,\n",
       " 'Q12': -0.24551532720813235,\n",
       " 'Q13': -0.0,\n",
       " 'Q14': 0.45816188754500486,\n",
       " 'Q15': 0.01001916440778898,\n",
       " 'Q16': 0.34107846769320066,\n",
       " 'Q17': -0.10291921252458909,\n",
       " 'Q18': -0.33372108582098986,\n",
       " 'Q19': 0.9444213651324005,\n",
       " 'Q20': 0.0,\n",
       " 'Q21': 0.36747592689676345,\n",
       " 'Q22': 0.02160090082339497,\n",
       " 'Q23': -0.8630622326324655,\n",
       " 'Q24': -0.0271298941197591,\n",
       " 'Q25': -0.02994996062762831,\n",
       " 'Q26': -0.3337554750588824,\n",
       " 'Q27': -0.09233039548860689,\n",
       " 'Q28': -0.2369806729040335,\n",
       " 'Q29': 0.011789566635325871,\n",
       " 'Q30': -0.015652897117368975,\n",
       " 'Q31': 0.23747527348147354,\n",
       " 'Q32': 0.024152657313356037,\n",
       " 'Q33': 0.16199834540813357,\n",
       " 'Q34': 0.30517264572082464,\n",
       " 'Q35': 0.10706253086854502,\n",
       " 'Q36': -0.2289180112175561,\n",
       " 'Q37': 0.0,\n",
       " 'Q38': 0.055883207652257495,\n",
       " 'Q39': 0.24130496519516131,\n",
       " 'Q40': 0.1571284233473812,\n",
       " 'Q41': -0.05316721592456232,\n",
       " 'Q42': -0.0,\n",
       " 'Q43': 0.18044496615860445,\n",
       " 'Q44': 0.4420287461985007,\n",
       " 'Q45': -0.03781043844080995,\n",
       " 'Q47': -0.5066933180596003,\n",
       " 'Q48': 0.2562565481247164,\n",
       " 'Q50': 0.39478374179260467,\n",
       " 'Q51': 0.029783840023919882,\n",
       " 'Q52': -0.03482325731119225,\n",
       " 'Q53': 0.13597030326406864,\n",
       " 'Q54': -0.0064390386696943505,\n",
       " 'Q55': -0.07332898128619202,\n",
       " 'Q56': -0.18313496667434367,\n",
       " 'Q57': 0.1988784410725843,\n",
       " 'Q58': -0.4633416182066711,\n",
       " 'Q59': 0.045231734269643796,\n",
       " 'Q60': -0.10115979978099529,\n",
       " 'Q61': -0.16841855349180318,\n",
       " 'Q62': -0.171637845229752,\n",
       " 'Q63': 0.06442377875338039,\n",
       " 'Q64': -0.0,\n",
       " 'Q65': 0.017356357207460156,\n",
       " 'Q66': -0.0,\n",
       " 'Q67': -0.18038215131376742,\n",
       " 'Q68': -0.13503710585607911,\n",
       " 'Q69': -0.1990685384556303,\n",
       " 'Q70': -0.0,\n",
       " 'Q71': -0.06874003388077952,\n",
       " 'Q72': 0.32088954854985835,\n",
       " 'Q73': 0.04311612863409105,\n",
       " 'Q74': -0.055485036375731656,\n",
       " 'Q75': 0.01028130990802286,\n",
       " 'Q76': 0.12241816870493648,\n",
       " 'Q77': -0.3599411750249515,\n",
       " 'Q78': -0.1492319055176789,\n",
       " 'Q79': 0.1692620113477775,\n",
       " 'Q80': -0.18869524043497332,\n",
       " 'Q81': -0.09978174763519844,\n",
       " 'Q83': 0.19387095488271688,\n",
       " 'Q88': 0.21046684592092232,\n",
       " 'Q195': -0.029327887622697002,\n",
       " 'Q196': -0.014181334465845477,\n",
       " 'Q197': -0.046203500636221174,\n",
       " 'Q198': -0.30888748242856223,\n",
       " 'Q199': 0.053965271685793424,\n",
       " 'Q200': -0.04971426691466432,\n",
       " 'Q201': 0.005756761432137746,\n",
       " 'Q202': -0.2015180896521134,\n",
       " 'Q203': 0.08861191504166739,\n",
       " 'Q204': 0.028996655180829483,\n",
       " 'Q205': -0.03707749833612338,\n",
       " 'Q206': 0.0,\n",
       " 'Q207': 0.1357829672305572}"
      ]
     },
     "execution_count": 144,
     "metadata": {},
     "output_type": "execute_result"
    }
   ],
   "source": [
    "coef_dict_enet = {}\n",
    "for coef, feature in zip(enet_reg.coef_, X.columns): \n",
    "    coef_dict_enet[feature] = coef\n",
    "coef_dict_enet"
   ]
  },
  {
   "cell_type": "code",
   "execution_count": null,
   "metadata": {},
   "outputs": [],
   "source": []
  },
  {
   "cell_type": "markdown",
   "metadata": {},
   "source": [
    "# Ridge results"
   ]
  },
  {
   "cell_type": "code",
   "execution_count": 146,
   "metadata": {},
   "outputs": [],
   "source": [
    "alpha = [1e-2, 1, 5, 10, 20, 100, 1000, 10000, 100000, 1e10, 1e12]"
   ]
  },
  {
   "cell_type": "code",
   "execution_count": 147,
   "metadata": {},
   "outputs": [
    {
     "data": {
      "image/png": "[encoded data removed]",
      "text/plain": [
       "<Figure size 432x288 with 1 Axes>"
      ]
     },
     "metadata": {},
     "output_type": "display_data"
    },
    {
     "data": {
      "text/plain": [
       "<Figure size 576x576 with 0 Axes>"
      ]
     },
     "metadata": {},
     "output_type": "display_data"
    }
   ],
   "source": [
    "\n",
    "coefs = []\n",
    "for a in alpha:\n",
    "    ridge = linear_model.Ridge(alpha=a, fit_intercept=False)\n",
    "    ridge.fit(X, y)\n",
    "    coefs.append(ridge.coef_)\n",
    "\n",
    "# Display results\n",
    "\n",
    "ax = plt.gca()\n",
    "\n",
    "ax.plot(alpha, coefs)\n",
    "ax.set_xscale('log')\n",
    "ax.set_xlim(ax.get_xlim()[::-1])  # reverse axis\n",
    "plt.xlabel('alpha')\n",
    "plt.ylabel('weights')\n",
    "plt.title('Ridge coefficients as a function of the regularization')\n",
    "plt.axis('tight')\n",
    "\n",
    "# changing the size of figure\n",
    "plt.figure(figsize=(8, 8))\n",
    "\n",
    "plt.show()"
   ]
  },
  {
   "cell_type": "code",
   "execution_count": null,
   "metadata": {},
   "outputs": [],
   "source": [
    "import sklearn.metrics"
   ]
  },
  {
   "cell_type": "markdown",
   "metadata": {},
   "source": [
    "### max_error - calculates the maximum residual error for any single prediction and its true score.\n",
    "### mean_squared_error - the average of the absolute values of the residuals (L1 norm).\n",
    "### median_absolute_error - the median of the absolute values of the residuals."
   ]
  },
  {
   "cell_type": "code",
   "execution_count": null,
   "metadata": {},
   "outputs": [],
   "source": [
    "sklearn.metrics.max_error(y, r_reg.predict(X))"
   ]
  },
  {
   "cell_type": "code",
   "execution_count": null,
   "metadata": {},
   "outputs": [],
   "source": [
    "sklearn.metrics.mean_squared_error(y, r_reg.predict(X))"
   ]
  },
  {
   "cell_type": "code",
   "execution_count": null,
   "metadata": {},
   "outputs": [],
   "source": [
    "sklearn.metrics.median_absolute_error(y, r_reg.predict(X))"
   ]
  },
  {
   "cell_type": "code",
   "execution_count": null,
   "metadata": {},
   "outputs": [],
   "source": []
  },
  {
   "cell_type": "code",
   "execution_count": null,
   "metadata": {},
   "outputs": [],
   "source": []
  },
  {
   "cell_type": "code",
   "execution_count": null,
   "metadata": {},
   "outputs": [],
   "source": []
  }
 ],
 "metadata": {
  "kernelspec": {
   "display_name": "Python 3",
   "language": "python",
   "name": "python3"
  },
  "language_info": {
   "codemirror_mode": {
    "name": "ipython",
    "version": 3
   },
   "file_extension": ".py",
   "mimetype": "text/x-python",
   "name": "python",
   "nbconvert_exporter": "python",
   "pygments_lexer": "ipython3",
   "version": "3.8.3"
  }
 },
 "nbformat": 4,
 "nbformat_minor": 2
}
